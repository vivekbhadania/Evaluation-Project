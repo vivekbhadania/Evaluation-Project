{
 "cells": [
  {
   "cell_type": "markdown",
   "id": "0761b391",
   "metadata": {},
   "source": [
    "# ##Baseball Case Study##"
   ]
  },
  {
   "cell_type": "markdown",
   "id": "75890dcc",
   "metadata": {},
   "source": [
    "# Problem Statement:"
   ]
  },
  {
   "cell_type": "markdown",
   "id": "4e8437ec",
   "metadata": {},
   "source": [
    "This dataset utilizes data from 2014 Major League Baseball seasons in order to develop an algorithm that predicts the number of wins for a given team in the 2015 season based on several different indicators of success. There are 16 different features that will be used as the inputs to the machine learning and the output will be a value that represents the number of wins."
   ]
  },
  {
   "cell_type": "markdown",
   "id": "701d1383",
   "metadata": {},
   "source": [
    "Input features:"
   ]
  },
  {
   "cell_type": "markdown",
   "id": "a04091f8",
   "metadata": {},
   "source": [
    "Runs, At Bats, Hits, Doubles, Triples, Homeruns, Walks, Strikeouts, Stolen Bases, Runs Allowed, Earned Runs, Earned Run Average (ERA), Shutouts, Saves, Complete Games and Errors"
   ]
  },
  {
   "cell_type": "markdown",
   "id": "8390886e",
   "metadata": {},
   "source": [
    "Output:"
   ]
  },
  {
   "cell_type": "markdown",
   "id": "1704e88a",
   "metadata": {},
   "source": [
    "Number of predicted wins (W)"
   ]
  },
  {
   "cell_type": "markdown",
   "id": "5bf379b8",
   "metadata": {},
   "source": [
    "To understand the columns meaning, follow the link given below to understand the baseball statistics: https://en.wikipedia.org/wiki/Baseball_statistics"
   ]
  },
  {
   "cell_type": "markdown",
   "id": "49175421",
   "metadata": {},
   "source": [
    "# Importing Required Libraries"
   ]
  },
  {
   "cell_type": "code",
   "execution_count": 12,
   "id": "71491fc0",
   "metadata": {},
   "outputs": [],
   "source": [
    "import pandas as pd\n",
    "import numpy as np\n",
    "import seaborn as sns\n",
    "import matplotlib.pyplot as plt\n",
    "import warnings\n",
    "from scipy.stats import zscore\n",
    "\n",
    "from sklearn.model_selection import train_test_split,GridSearchCV\n",
    "from sklearn.linear_model import LinearRegression,Lasso,Ridge,LogisticRegression\n",
    "from sklearn.tree import DecisionTreeRegressor\n",
    "from sklearn.metrics import mean_absolute_error,mean_squared_error,accuracy_score,r2_score,classification_report\n",
    "from sklearn.ensemble import RandomForestRegressor\n",
    "from sklearn.neighbors import KNeighborsClassifier\n",
    "from sklearn.preprocessing import LabelEncoder,StandardScaler,power_transform\n",
    "from sklearn.svm import SVC\n",
    "\n",
    "warnings.filterwarnings('ignore')"
   ]
  },
  {
   "cell_type": "markdown",
   "id": "6c5ad351",
   "metadata": {},
   "source": [
    "# Laoding dataset"
   ]
  },
  {
   "cell_type": "code",
   "execution_count": 13,
   "id": "b41d6193",
   "metadata": {},
   "outputs": [
    {
     "data": {
      "text/html": [
       "<div>\n",
       "<style scoped>\n",
       "    .dataframe tbody tr th:only-of-type {\n",
       "        vertical-align: middle;\n",
       "    }\n",
       "\n",
       "    .dataframe tbody tr th {\n",
       "        vertical-align: top;\n",
       "    }\n",
       "\n",
       "    .dataframe thead th {\n",
       "        text-align: right;\n",
       "    }\n",
       "</style>\n",
       "<table border=\"1\" class=\"dataframe\">\n",
       "  <thead>\n",
       "    <tr style=\"text-align: right;\">\n",
       "      <th></th>\n",
       "      <th>W</th>\n",
       "      <th>R</th>\n",
       "      <th>AB</th>\n",
       "      <th>H</th>\n",
       "      <th>2B</th>\n",
       "      <th>3B</th>\n",
       "      <th>HR</th>\n",
       "      <th>BB</th>\n",
       "      <th>SO</th>\n",
       "      <th>SB</th>\n",
       "      <th>RA</th>\n",
       "      <th>ER</th>\n",
       "      <th>ERA</th>\n",
       "      <th>CG</th>\n",
       "      <th>SHO</th>\n",
       "      <th>SV</th>\n",
       "      <th>E</th>\n",
       "    </tr>\n",
       "  </thead>\n",
       "  <tbody>\n",
       "    <tr>\n",
       "      <th>0</th>\n",
       "      <td>95</td>\n",
       "      <td>724</td>\n",
       "      <td>5575</td>\n",
       "      <td>1497</td>\n",
       "      <td>300</td>\n",
       "      <td>42</td>\n",
       "      <td>139</td>\n",
       "      <td>383</td>\n",
       "      <td>973</td>\n",
       "      <td>104</td>\n",
       "      <td>641</td>\n",
       "      <td>601</td>\n",
       "      <td>3.73</td>\n",
       "      <td>2</td>\n",
       "      <td>8</td>\n",
       "      <td>56</td>\n",
       "      <td>88</td>\n",
       "    </tr>\n",
       "    <tr>\n",
       "      <th>1</th>\n",
       "      <td>83</td>\n",
       "      <td>696</td>\n",
       "      <td>5467</td>\n",
       "      <td>1349</td>\n",
       "      <td>277</td>\n",
       "      <td>44</td>\n",
       "      <td>156</td>\n",
       "      <td>439</td>\n",
       "      <td>1264</td>\n",
       "      <td>70</td>\n",
       "      <td>700</td>\n",
       "      <td>653</td>\n",
       "      <td>4.07</td>\n",
       "      <td>2</td>\n",
       "      <td>12</td>\n",
       "      <td>45</td>\n",
       "      <td>86</td>\n",
       "    </tr>\n",
       "    <tr>\n",
       "      <th>2</th>\n",
       "      <td>81</td>\n",
       "      <td>669</td>\n",
       "      <td>5439</td>\n",
       "      <td>1395</td>\n",
       "      <td>303</td>\n",
       "      <td>29</td>\n",
       "      <td>141</td>\n",
       "      <td>533</td>\n",
       "      <td>1157</td>\n",
       "      <td>86</td>\n",
       "      <td>640</td>\n",
       "      <td>584</td>\n",
       "      <td>3.67</td>\n",
       "      <td>11</td>\n",
       "      <td>10</td>\n",
       "      <td>38</td>\n",
       "      <td>79</td>\n",
       "    </tr>\n",
       "    <tr>\n",
       "      <th>3</th>\n",
       "      <td>76</td>\n",
       "      <td>622</td>\n",
       "      <td>5533</td>\n",
       "      <td>1381</td>\n",
       "      <td>260</td>\n",
       "      <td>27</td>\n",
       "      <td>136</td>\n",
       "      <td>404</td>\n",
       "      <td>1231</td>\n",
       "      <td>68</td>\n",
       "      <td>701</td>\n",
       "      <td>643</td>\n",
       "      <td>3.98</td>\n",
       "      <td>7</td>\n",
       "      <td>9</td>\n",
       "      <td>37</td>\n",
       "      <td>101</td>\n",
       "    </tr>\n",
       "    <tr>\n",
       "      <th>4</th>\n",
       "      <td>74</td>\n",
       "      <td>689</td>\n",
       "      <td>5605</td>\n",
       "      <td>1515</td>\n",
       "      <td>289</td>\n",
       "      <td>49</td>\n",
       "      <td>151</td>\n",
       "      <td>455</td>\n",
       "      <td>1259</td>\n",
       "      <td>83</td>\n",
       "      <td>803</td>\n",
       "      <td>746</td>\n",
       "      <td>4.64</td>\n",
       "      <td>7</td>\n",
       "      <td>12</td>\n",
       "      <td>35</td>\n",
       "      <td>86</td>\n",
       "    </tr>\n",
       "  </tbody>\n",
       "</table>\n",
       "</div>"
      ],
      "text/plain": [
       "    W    R    AB     H   2B  3B   HR   BB    SO   SB   RA   ER   ERA  CG  SHO  \\\n",
       "0  95  724  5575  1497  300  42  139  383   973  104  641  601  3.73   2    8   \n",
       "1  83  696  5467  1349  277  44  156  439  1264   70  700  653  4.07   2   12   \n",
       "2  81  669  5439  1395  303  29  141  533  1157   86  640  584  3.67  11   10   \n",
       "3  76  622  5533  1381  260  27  136  404  1231   68  701  643  3.98   7    9   \n",
       "4  74  689  5605  1515  289  49  151  455  1259   83  803  746  4.64   7   12   \n",
       "\n",
       "   SV    E  \n",
       "0  56   88  \n",
       "1  45   86  \n",
       "2  38   79  \n",
       "3  37  101  \n",
       "4  35   86  "
      ]
     },
     "execution_count": 13,
     "metadata": {},
     "output_type": "execute_result"
    }
   ],
   "source": [
    "df=pd.read_csv('baseball.csv')\n",
    "df.head()"
   ]
  },
  {
   "cell_type": "code",
   "execution_count": 15,
   "id": "3e143a30",
   "metadata": {},
   "outputs": [
    {
     "data": {
      "text/plain": [
       "(30, 17)"
      ]
     },
     "execution_count": 15,
     "metadata": {},
     "output_type": "execute_result"
    }
   ],
   "source": [
    "df.shape"
   ]
  },
  {
   "cell_type": "code",
   "execution_count": 16,
   "id": "06648d01",
   "metadata": {},
   "outputs": [
    {
     "data": {
      "text/plain": [
       "Index(['winner', 'runs', 'at bats', 'hit', 'double', 'triple', 'homerun',\n",
       "       'Walks', 'Strikeouts', 'Stolen Bases', 'Runs Allowed', 'Earned Runs',\n",
       "       'Earned Run Average (ERA)', 'Complete Games', 'Shutouts', 'save',\n",
       "       'error'],\n",
       "      dtype='object')"
      ]
     },
     "execution_count": 16,
     "metadata": {},
     "output_type": "execute_result"
    }
   ],
   "source": [
    "df.columns"
   ]
  },
  {
   "cell_type": "markdown",
   "id": "75d1b6c2",
   "metadata": {},
   "source": [
    "# columns rename\n"
   ]
  },
  {
   "cell_type": "code",
   "execution_count": 14,
   "id": "1093fe72",
   "metadata": {},
   "outputs": [],
   "source": [
    "final_data = df.rename({'W':'winner', 'R':'runs', 'AB':'at bats', 'H':'hit', '2B':'double', '3B':'triple', 'HR':'homerun', 'BB':'Walks', 'SO':'Strikeouts', 'SB':'Stolen Bases', 'RA':'Runs Allowed', 'ER':'Earned Runs',\n",
    "       'ERA':'Earned Run Average (ERA)', 'CG':'Complete Games', 'SHO':'Shutouts', 'SV':'save', 'E':'error'},axis=1, inplace=True)"
   ]
  },
  {
   "cell_type": "code",
   "execution_count": 17,
   "id": "3b2b95b7",
   "metadata": {},
   "outputs": [
    {
     "data": {
      "text/html": [
       "<div>\n",
       "<style scoped>\n",
       "    .dataframe tbody tr th:only-of-type {\n",
       "        vertical-align: middle;\n",
       "    }\n",
       "\n",
       "    .dataframe tbody tr th {\n",
       "        vertical-align: top;\n",
       "    }\n",
       "\n",
       "    .dataframe thead th {\n",
       "        text-align: right;\n",
       "    }\n",
       "</style>\n",
       "<table border=\"1\" class=\"dataframe\">\n",
       "  <thead>\n",
       "    <tr style=\"text-align: right;\">\n",
       "      <th></th>\n",
       "      <th>winner</th>\n",
       "      <th>runs</th>\n",
       "      <th>at bats</th>\n",
       "      <th>hit</th>\n",
       "      <th>double</th>\n",
       "      <th>triple</th>\n",
       "      <th>homerun</th>\n",
       "      <th>Walks</th>\n",
       "      <th>Strikeouts</th>\n",
       "      <th>Stolen Bases</th>\n",
       "      <th>Runs Allowed</th>\n",
       "      <th>Earned Runs</th>\n",
       "      <th>Earned Run Average (ERA)</th>\n",
       "      <th>Complete Games</th>\n",
       "      <th>Shutouts</th>\n",
       "      <th>save</th>\n",
       "      <th>error</th>\n",
       "    </tr>\n",
       "  </thead>\n",
       "  <tbody>\n",
       "    <tr>\n",
       "      <th>0</th>\n",
       "      <td>95</td>\n",
       "      <td>724</td>\n",
       "      <td>5575</td>\n",
       "      <td>1497</td>\n",
       "      <td>300</td>\n",
       "      <td>42</td>\n",
       "      <td>139</td>\n",
       "      <td>383</td>\n",
       "      <td>973</td>\n",
       "      <td>104</td>\n",
       "      <td>641</td>\n",
       "      <td>601</td>\n",
       "      <td>3.73</td>\n",
       "      <td>2</td>\n",
       "      <td>8</td>\n",
       "      <td>56</td>\n",
       "      <td>88</td>\n",
       "    </tr>\n",
       "    <tr>\n",
       "      <th>1</th>\n",
       "      <td>83</td>\n",
       "      <td>696</td>\n",
       "      <td>5467</td>\n",
       "      <td>1349</td>\n",
       "      <td>277</td>\n",
       "      <td>44</td>\n",
       "      <td>156</td>\n",
       "      <td>439</td>\n",
       "      <td>1264</td>\n",
       "      <td>70</td>\n",
       "      <td>700</td>\n",
       "      <td>653</td>\n",
       "      <td>4.07</td>\n",
       "      <td>2</td>\n",
       "      <td>12</td>\n",
       "      <td>45</td>\n",
       "      <td>86</td>\n",
       "    </tr>\n",
       "    <tr>\n",
       "      <th>2</th>\n",
       "      <td>81</td>\n",
       "      <td>669</td>\n",
       "      <td>5439</td>\n",
       "      <td>1395</td>\n",
       "      <td>303</td>\n",
       "      <td>29</td>\n",
       "      <td>141</td>\n",
       "      <td>533</td>\n",
       "      <td>1157</td>\n",
       "      <td>86</td>\n",
       "      <td>640</td>\n",
       "      <td>584</td>\n",
       "      <td>3.67</td>\n",
       "      <td>11</td>\n",
       "      <td>10</td>\n",
       "      <td>38</td>\n",
       "      <td>79</td>\n",
       "    </tr>\n",
       "    <tr>\n",
       "      <th>3</th>\n",
       "      <td>76</td>\n",
       "      <td>622</td>\n",
       "      <td>5533</td>\n",
       "      <td>1381</td>\n",
       "      <td>260</td>\n",
       "      <td>27</td>\n",
       "      <td>136</td>\n",
       "      <td>404</td>\n",
       "      <td>1231</td>\n",
       "      <td>68</td>\n",
       "      <td>701</td>\n",
       "      <td>643</td>\n",
       "      <td>3.98</td>\n",
       "      <td>7</td>\n",
       "      <td>9</td>\n",
       "      <td>37</td>\n",
       "      <td>101</td>\n",
       "    </tr>\n",
       "    <tr>\n",
       "      <th>4</th>\n",
       "      <td>74</td>\n",
       "      <td>689</td>\n",
       "      <td>5605</td>\n",
       "      <td>1515</td>\n",
       "      <td>289</td>\n",
       "      <td>49</td>\n",
       "      <td>151</td>\n",
       "      <td>455</td>\n",
       "      <td>1259</td>\n",
       "      <td>83</td>\n",
       "      <td>803</td>\n",
       "      <td>746</td>\n",
       "      <td>4.64</td>\n",
       "      <td>7</td>\n",
       "      <td>12</td>\n",
       "      <td>35</td>\n",
       "      <td>86</td>\n",
       "    </tr>\n",
       "  </tbody>\n",
       "</table>\n",
       "</div>"
      ],
      "text/plain": [
       "   winner  runs  at bats   hit  double  triple  homerun  Walks  Strikeouts  \\\n",
       "0      95   724     5575  1497     300      42      139    383         973   \n",
       "1      83   696     5467  1349     277      44      156    439        1264   \n",
       "2      81   669     5439  1395     303      29      141    533        1157   \n",
       "3      76   622     5533  1381     260      27      136    404        1231   \n",
       "4      74   689     5605  1515     289      49      151    455        1259   \n",
       "\n",
       "   Stolen Bases  Runs Allowed  Earned Runs  Earned Run Average (ERA)  \\\n",
       "0           104           641          601                      3.73   \n",
       "1            70           700          653                      4.07   \n",
       "2            86           640          584                      3.67   \n",
       "3            68           701          643                      3.98   \n",
       "4            83           803          746                      4.64   \n",
       "\n",
       "   Complete Games  Shutouts  save  error  \n",
       "0               2         8    56     88  \n",
       "1               2        12    45     86  \n",
       "2              11        10    38     79  \n",
       "3               7         9    37    101  \n",
       "4               7        12    35     86  "
      ]
     },
     "execution_count": 17,
     "metadata": {},
     "output_type": "execute_result"
    }
   ],
   "source": [
    "df.head()"
   ]
  },
  {
   "cell_type": "code",
   "execution_count": 18,
   "id": "13e6c0da",
   "metadata": {},
   "outputs": [
    {
     "data": {
      "text/plain": [
       "(30, 17)"
      ]
     },
     "execution_count": 18,
     "metadata": {},
     "output_type": "execute_result"
    }
   ],
   "source": [
    "#find the shape\n",
    "df.shape"
   ]
  },
  {
   "cell_type": "code",
   "execution_count": 19,
   "id": "bbd5d1f4",
   "metadata": {},
   "outputs": [
    {
     "data": {
      "text/plain": [
       "winner                      0\n",
       "runs                        0\n",
       "at bats                     0\n",
       "hit                         0\n",
       "double                      0\n",
       "triple                      0\n",
       "homerun                     0\n",
       "Walks                       0\n",
       "Strikeouts                  0\n",
       "Stolen Bases                0\n",
       "Runs Allowed                0\n",
       "Earned Runs                 0\n",
       "Earned Run Average (ERA)    0\n",
       "Complete Games              0\n",
       "Shutouts                    0\n",
       "save                        0\n",
       "error                       0\n",
       "dtype: int64"
      ]
     },
     "execution_count": 19,
     "metadata": {},
     "output_type": "execute_result"
    }
   ],
   "source": [
    "#check the null value\n",
    "df.isnull().sum()"
   ]
  },
  {
   "cell_type": "markdown",
   "id": "422ee4ed",
   "metadata": {},
   "source": [
    "no null value present in our data\n",
    "\n"
   ]
  },
  {
   "cell_type": "code",
   "execution_count": 20,
   "id": "f7fa6688",
   "metadata": {},
   "outputs": [
    {
     "data": {
      "text/plain": [
       "winner                        int64\n",
       "runs                          int64\n",
       "at bats                       int64\n",
       "hit                           int64\n",
       "double                        int64\n",
       "triple                        int64\n",
       "homerun                       int64\n",
       "Walks                         int64\n",
       "Strikeouts                    int64\n",
       "Stolen Bases                  int64\n",
       "Runs Allowed                  int64\n",
       "Earned Runs                   int64\n",
       "Earned Run Average (ERA)    float64\n",
       "Complete Games                int64\n",
       "Shutouts                      int64\n",
       "save                          int64\n",
       "error                         int64\n",
       "dtype: object"
      ]
     },
     "execution_count": 20,
     "metadata": {},
     "output_type": "execute_result"
    }
   ],
   "source": [
    "#check the datatypes\n",
    "df.dtypes"
   ]
  },
  {
   "cell_type": "markdown",
   "id": "f14f7a0c",
   "metadata": {},
   "source": [
    "no obeject in our dataset\n",
    "\n"
   ]
  },
  {
   "cell_type": "markdown",
   "id": "1bada177",
   "metadata": {},
   "source": [
    "all features form numeric form\n",
    "\n"
   ]
  },
  {
   "cell_type": "code",
   "execution_count": 21,
   "id": "32c8dc56",
   "metadata": {},
   "outputs": [
    {
     "name": "stdout",
     "output_type": "stream",
     "text": [
      "<class 'pandas.core.frame.DataFrame'>\n",
      "RangeIndex: 30 entries, 0 to 29\n",
      "Data columns (total 17 columns):\n",
      " #   Column                    Non-Null Count  Dtype  \n",
      "---  ------                    --------------  -----  \n",
      " 0   winner                    30 non-null     int64  \n",
      " 1   runs                      30 non-null     int64  \n",
      " 2   at bats                   30 non-null     int64  \n",
      " 3   hit                       30 non-null     int64  \n",
      " 4   double                    30 non-null     int64  \n",
      " 5   triple                    30 non-null     int64  \n",
      " 6   homerun                   30 non-null     int64  \n",
      " 7   Walks                     30 non-null     int64  \n",
      " 8   Strikeouts                30 non-null     int64  \n",
      " 9   Stolen Bases              30 non-null     int64  \n",
      " 10  Runs Allowed              30 non-null     int64  \n",
      " 11  Earned Runs               30 non-null     int64  \n",
      " 12  Earned Run Average (ERA)  30 non-null     float64\n",
      " 13  Complete Games            30 non-null     int64  \n",
      " 14  Shutouts                  30 non-null     int64  \n",
      " 15  save                      30 non-null     int64  \n",
      " 16  error                     30 non-null     int64  \n",
      "dtypes: float64(1), int64(16)\n",
      "memory usage: 4.1 KB\n"
     ]
    }
   ],
   "source": [
    "df.info()\n"
   ]
  },
  {
   "cell_type": "markdown",
   "id": "d876c0e5",
   "metadata": {},
   "source": [
    "same count number check all featurs same length\n",
    "\n"
   ]
  },
  {
   "cell_type": "code",
   "execution_count": 22,
   "id": "8b80f0f4",
   "metadata": {},
   "outputs": [
    {
     "data": {
      "text/html": [
       "<div>\n",
       "<style scoped>\n",
       "    .dataframe tbody tr th:only-of-type {\n",
       "        vertical-align: middle;\n",
       "    }\n",
       "\n",
       "    .dataframe tbody tr th {\n",
       "        vertical-align: top;\n",
       "    }\n",
       "\n",
       "    .dataframe thead th {\n",
       "        text-align: right;\n",
       "    }\n",
       "</style>\n",
       "<table border=\"1\" class=\"dataframe\">\n",
       "  <thead>\n",
       "    <tr style=\"text-align: right;\">\n",
       "      <th></th>\n",
       "      <th>winner</th>\n",
       "      <th>runs</th>\n",
       "      <th>at bats</th>\n",
       "      <th>hit</th>\n",
       "      <th>double</th>\n",
       "      <th>triple</th>\n",
       "      <th>homerun</th>\n",
       "      <th>Walks</th>\n",
       "      <th>Strikeouts</th>\n",
       "      <th>Stolen Bases</th>\n",
       "      <th>Runs Allowed</th>\n",
       "      <th>Earned Runs</th>\n",
       "      <th>Earned Run Average (ERA)</th>\n",
       "      <th>Complete Games</th>\n",
       "      <th>Shutouts</th>\n",
       "      <th>save</th>\n",
       "      <th>error</th>\n",
       "    </tr>\n",
       "  </thead>\n",
       "  <tbody>\n",
       "    <tr>\n",
       "      <th>count</th>\n",
       "      <td>30.000000</td>\n",
       "      <td>30.000000</td>\n",
       "      <td>30.000000</td>\n",
       "      <td>30.000000</td>\n",
       "      <td>30.000000</td>\n",
       "      <td>30.000000</td>\n",
       "      <td>30.000000</td>\n",
       "      <td>30.000000</td>\n",
       "      <td>30.00000</td>\n",
       "      <td>30.000000</td>\n",
       "      <td>30.000000</td>\n",
       "      <td>30.000000</td>\n",
       "      <td>30.000000</td>\n",
       "      <td>30.000000</td>\n",
       "      <td>30.000000</td>\n",
       "      <td>30.000000</td>\n",
       "      <td>30.000000</td>\n",
       "    </tr>\n",
       "    <tr>\n",
       "      <th>mean</th>\n",
       "      <td>80.966667</td>\n",
       "      <td>688.233333</td>\n",
       "      <td>5516.266667</td>\n",
       "      <td>1403.533333</td>\n",
       "      <td>274.733333</td>\n",
       "      <td>31.300000</td>\n",
       "      <td>163.633333</td>\n",
       "      <td>469.100000</td>\n",
       "      <td>1248.20000</td>\n",
       "      <td>83.500000</td>\n",
       "      <td>688.233333</td>\n",
       "      <td>635.833333</td>\n",
       "      <td>3.956333</td>\n",
       "      <td>3.466667</td>\n",
       "      <td>11.300000</td>\n",
       "      <td>43.066667</td>\n",
       "      <td>94.333333</td>\n",
       "    </tr>\n",
       "    <tr>\n",
       "      <th>std</th>\n",
       "      <td>10.453455</td>\n",
       "      <td>58.761754</td>\n",
       "      <td>70.467372</td>\n",
       "      <td>57.140923</td>\n",
       "      <td>18.095405</td>\n",
       "      <td>10.452355</td>\n",
       "      <td>31.823309</td>\n",
       "      <td>57.053725</td>\n",
       "      <td>103.75947</td>\n",
       "      <td>22.815225</td>\n",
       "      <td>72.108005</td>\n",
       "      <td>70.140786</td>\n",
       "      <td>0.454089</td>\n",
       "      <td>2.763473</td>\n",
       "      <td>4.120177</td>\n",
       "      <td>7.869335</td>\n",
       "      <td>13.958889</td>\n",
       "    </tr>\n",
       "    <tr>\n",
       "      <th>min</th>\n",
       "      <td>63.000000</td>\n",
       "      <td>573.000000</td>\n",
       "      <td>5385.000000</td>\n",
       "      <td>1324.000000</td>\n",
       "      <td>236.000000</td>\n",
       "      <td>13.000000</td>\n",
       "      <td>100.000000</td>\n",
       "      <td>375.000000</td>\n",
       "      <td>973.00000</td>\n",
       "      <td>44.000000</td>\n",
       "      <td>525.000000</td>\n",
       "      <td>478.000000</td>\n",
       "      <td>2.940000</td>\n",
       "      <td>0.000000</td>\n",
       "      <td>4.000000</td>\n",
       "      <td>28.000000</td>\n",
       "      <td>75.000000</td>\n",
       "    </tr>\n",
       "    <tr>\n",
       "      <th>25%</th>\n",
       "      <td>74.000000</td>\n",
       "      <td>651.250000</td>\n",
       "      <td>5464.000000</td>\n",
       "      <td>1363.000000</td>\n",
       "      <td>262.250000</td>\n",
       "      <td>23.000000</td>\n",
       "      <td>140.250000</td>\n",
       "      <td>428.250000</td>\n",
       "      <td>1157.50000</td>\n",
       "      <td>69.000000</td>\n",
       "      <td>636.250000</td>\n",
       "      <td>587.250000</td>\n",
       "      <td>3.682500</td>\n",
       "      <td>1.000000</td>\n",
       "      <td>9.000000</td>\n",
       "      <td>37.250000</td>\n",
       "      <td>86.000000</td>\n",
       "    </tr>\n",
       "    <tr>\n",
       "      <th>50%</th>\n",
       "      <td>81.000000</td>\n",
       "      <td>689.000000</td>\n",
       "      <td>5510.000000</td>\n",
       "      <td>1382.500000</td>\n",
       "      <td>275.500000</td>\n",
       "      <td>31.000000</td>\n",
       "      <td>158.500000</td>\n",
       "      <td>473.000000</td>\n",
       "      <td>1261.50000</td>\n",
       "      <td>83.500000</td>\n",
       "      <td>695.500000</td>\n",
       "      <td>644.500000</td>\n",
       "      <td>4.025000</td>\n",
       "      <td>3.000000</td>\n",
       "      <td>12.000000</td>\n",
       "      <td>42.000000</td>\n",
       "      <td>91.000000</td>\n",
       "    </tr>\n",
       "    <tr>\n",
       "      <th>75%</th>\n",
       "      <td>87.750000</td>\n",
       "      <td>718.250000</td>\n",
       "      <td>5570.000000</td>\n",
       "      <td>1451.500000</td>\n",
       "      <td>288.750000</td>\n",
       "      <td>39.000000</td>\n",
       "      <td>177.000000</td>\n",
       "      <td>501.250000</td>\n",
       "      <td>1311.50000</td>\n",
       "      <td>96.500000</td>\n",
       "      <td>732.500000</td>\n",
       "      <td>679.250000</td>\n",
       "      <td>4.220000</td>\n",
       "      <td>5.750000</td>\n",
       "      <td>13.000000</td>\n",
       "      <td>46.750000</td>\n",
       "      <td>96.750000</td>\n",
       "    </tr>\n",
       "    <tr>\n",
       "      <th>max</th>\n",
       "      <td>100.000000</td>\n",
       "      <td>891.000000</td>\n",
       "      <td>5649.000000</td>\n",
       "      <td>1515.000000</td>\n",
       "      <td>308.000000</td>\n",
       "      <td>49.000000</td>\n",
       "      <td>232.000000</td>\n",
       "      <td>570.000000</td>\n",
       "      <td>1518.00000</td>\n",
       "      <td>134.000000</td>\n",
       "      <td>844.000000</td>\n",
       "      <td>799.000000</td>\n",
       "      <td>5.040000</td>\n",
       "      <td>11.000000</td>\n",
       "      <td>21.000000</td>\n",
       "      <td>62.000000</td>\n",
       "      <td>126.000000</td>\n",
       "    </tr>\n",
       "  </tbody>\n",
       "</table>\n",
       "</div>"
      ],
      "text/plain": [
       "           winner        runs      at bats          hit      double  \\\n",
       "count   30.000000   30.000000    30.000000    30.000000   30.000000   \n",
       "mean    80.966667  688.233333  5516.266667  1403.533333  274.733333   \n",
       "std     10.453455   58.761754    70.467372    57.140923   18.095405   \n",
       "min     63.000000  573.000000  5385.000000  1324.000000  236.000000   \n",
       "25%     74.000000  651.250000  5464.000000  1363.000000  262.250000   \n",
       "50%     81.000000  689.000000  5510.000000  1382.500000  275.500000   \n",
       "75%     87.750000  718.250000  5570.000000  1451.500000  288.750000   \n",
       "max    100.000000  891.000000  5649.000000  1515.000000  308.000000   \n",
       "\n",
       "          triple     homerun       Walks  Strikeouts  Stolen Bases  \\\n",
       "count  30.000000   30.000000   30.000000    30.00000     30.000000   \n",
       "mean   31.300000  163.633333  469.100000  1248.20000     83.500000   \n",
       "std    10.452355   31.823309   57.053725   103.75947     22.815225   \n",
       "min    13.000000  100.000000  375.000000   973.00000     44.000000   \n",
       "25%    23.000000  140.250000  428.250000  1157.50000     69.000000   \n",
       "50%    31.000000  158.500000  473.000000  1261.50000     83.500000   \n",
       "75%    39.000000  177.000000  501.250000  1311.50000     96.500000   \n",
       "max    49.000000  232.000000  570.000000  1518.00000    134.000000   \n",
       "\n",
       "       Runs Allowed  Earned Runs  Earned Run Average (ERA)  Complete Games  \\\n",
       "count     30.000000    30.000000                 30.000000       30.000000   \n",
       "mean     688.233333   635.833333                  3.956333        3.466667   \n",
       "std       72.108005    70.140786                  0.454089        2.763473   \n",
       "min      525.000000   478.000000                  2.940000        0.000000   \n",
       "25%      636.250000   587.250000                  3.682500        1.000000   \n",
       "50%      695.500000   644.500000                  4.025000        3.000000   \n",
       "75%      732.500000   679.250000                  4.220000        5.750000   \n",
       "max      844.000000   799.000000                  5.040000       11.000000   \n",
       "\n",
       "        Shutouts       save       error  \n",
       "count  30.000000  30.000000   30.000000  \n",
       "mean   11.300000  43.066667   94.333333  \n",
       "std     4.120177   7.869335   13.958889  \n",
       "min     4.000000  28.000000   75.000000  \n",
       "25%     9.000000  37.250000   86.000000  \n",
       "50%    12.000000  42.000000   91.000000  \n",
       "75%    13.000000  46.750000   96.750000  \n",
       "max    21.000000  62.000000  126.000000  "
      ]
     },
     "execution_count": 22,
     "metadata": {},
     "output_type": "execute_result"
    }
   ],
   "source": [
    "df.describe()\n"
   ]
  },
  {
   "cell_type": "markdown",
   "id": "f72d265b",
   "metadata": {},
   "source": [
    "check the statistic analysis\n",
    "\n"
   ]
  },
  {
   "cell_type": "code",
   "execution_count": 23,
   "id": "60fe7492",
   "metadata": {},
   "outputs": [
    {
     "data": {
      "text/html": [
       "<div>\n",
       "<style scoped>\n",
       "    .dataframe tbody tr th:only-of-type {\n",
       "        vertical-align: middle;\n",
       "    }\n",
       "\n",
       "    .dataframe tbody tr th {\n",
       "        vertical-align: top;\n",
       "    }\n",
       "\n",
       "    .dataframe thead th {\n",
       "        text-align: right;\n",
       "    }\n",
       "</style>\n",
       "<table border=\"1\" class=\"dataframe\">\n",
       "  <thead>\n",
       "    <tr style=\"text-align: right;\">\n",
       "      <th></th>\n",
       "      <th>winner</th>\n",
       "      <th>runs</th>\n",
       "      <th>at bats</th>\n",
       "      <th>hit</th>\n",
       "      <th>double</th>\n",
       "      <th>triple</th>\n",
       "      <th>homerun</th>\n",
       "      <th>Walks</th>\n",
       "      <th>Strikeouts</th>\n",
       "      <th>Stolen Bases</th>\n",
       "      <th>Runs Allowed</th>\n",
       "      <th>Earned Runs</th>\n",
       "      <th>Earned Run Average (ERA)</th>\n",
       "      <th>Complete Games</th>\n",
       "      <th>Shutouts</th>\n",
       "      <th>save</th>\n",
       "      <th>error</th>\n",
       "    </tr>\n",
       "  </thead>\n",
       "  <tbody>\n",
       "    <tr>\n",
       "      <th>0</th>\n",
       "      <td>95</td>\n",
       "      <td>724</td>\n",
       "      <td>5575</td>\n",
       "      <td>1497</td>\n",
       "      <td>300</td>\n",
       "      <td>42</td>\n",
       "      <td>139</td>\n",
       "      <td>383</td>\n",
       "      <td>973</td>\n",
       "      <td>104</td>\n",
       "      <td>641</td>\n",
       "      <td>601</td>\n",
       "      <td>3.73</td>\n",
       "      <td>2</td>\n",
       "      <td>8</td>\n",
       "      <td>56</td>\n",
       "      <td>88</td>\n",
       "    </tr>\n",
       "    <tr>\n",
       "      <th>1</th>\n",
       "      <td>83</td>\n",
       "      <td>696</td>\n",
       "      <td>5467</td>\n",
       "      <td>1349</td>\n",
       "      <td>277</td>\n",
       "      <td>44</td>\n",
       "      <td>156</td>\n",
       "      <td>439</td>\n",
       "      <td>1264</td>\n",
       "      <td>70</td>\n",
       "      <td>700</td>\n",
       "      <td>653</td>\n",
       "      <td>4.07</td>\n",
       "      <td>2</td>\n",
       "      <td>12</td>\n",
       "      <td>45</td>\n",
       "      <td>86</td>\n",
       "    </tr>\n",
       "    <tr>\n",
       "      <th>2</th>\n",
       "      <td>81</td>\n",
       "      <td>669</td>\n",
       "      <td>5439</td>\n",
       "      <td>1395</td>\n",
       "      <td>303</td>\n",
       "      <td>29</td>\n",
       "      <td>141</td>\n",
       "      <td>533</td>\n",
       "      <td>1157</td>\n",
       "      <td>86</td>\n",
       "      <td>640</td>\n",
       "      <td>584</td>\n",
       "      <td>3.67</td>\n",
       "      <td>11</td>\n",
       "      <td>10</td>\n",
       "      <td>38</td>\n",
       "      <td>79</td>\n",
       "    </tr>\n",
       "    <tr>\n",
       "      <th>3</th>\n",
       "      <td>76</td>\n",
       "      <td>622</td>\n",
       "      <td>5533</td>\n",
       "      <td>1381</td>\n",
       "      <td>260</td>\n",
       "      <td>27</td>\n",
       "      <td>136</td>\n",
       "      <td>404</td>\n",
       "      <td>1231</td>\n",
       "      <td>68</td>\n",
       "      <td>701</td>\n",
       "      <td>643</td>\n",
       "      <td>3.98</td>\n",
       "      <td>7</td>\n",
       "      <td>9</td>\n",
       "      <td>37</td>\n",
       "      <td>101</td>\n",
       "    </tr>\n",
       "    <tr>\n",
       "      <th>4</th>\n",
       "      <td>74</td>\n",
       "      <td>689</td>\n",
       "      <td>5605</td>\n",
       "      <td>1515</td>\n",
       "      <td>289</td>\n",
       "      <td>49</td>\n",
       "      <td>151</td>\n",
       "      <td>455</td>\n",
       "      <td>1259</td>\n",
       "      <td>83</td>\n",
       "      <td>803</td>\n",
       "      <td>746</td>\n",
       "      <td>4.64</td>\n",
       "      <td>7</td>\n",
       "      <td>12</td>\n",
       "      <td>35</td>\n",
       "      <td>86</td>\n",
       "    </tr>\n",
       "  </tbody>\n",
       "</table>\n",
       "</div>"
      ],
      "text/plain": [
       "   winner  runs  at bats   hit  double  triple  homerun  Walks  Strikeouts  \\\n",
       "0      95   724     5575  1497     300      42      139    383         973   \n",
       "1      83   696     5467  1349     277      44      156    439        1264   \n",
       "2      81   669     5439  1395     303      29      141    533        1157   \n",
       "3      76   622     5533  1381     260      27      136    404        1231   \n",
       "4      74   689     5605  1515     289      49      151    455        1259   \n",
       "\n",
       "   Stolen Bases  Runs Allowed  Earned Runs  Earned Run Average (ERA)  \\\n",
       "0           104           641          601                      3.73   \n",
       "1            70           700          653                      4.07   \n",
       "2            86           640          584                      3.67   \n",
       "3            68           701          643                      3.98   \n",
       "4            83           803          746                      4.64   \n",
       "\n",
       "   Complete Games  Shutouts  save  error  \n",
       "0               2         8    56     88  \n",
       "1               2        12    45     86  \n",
       "2              11        10    38     79  \n",
       "3               7         9    37    101  \n",
       "4               7        12    35     86  "
      ]
     },
     "execution_count": 23,
     "metadata": {},
     "output_type": "execute_result"
    }
   ],
   "source": [
    "df.head()\n"
   ]
  },
  {
   "cell_type": "code",
   "execution_count": 24,
   "id": "2354ae92",
   "metadata": {},
   "outputs": [
    {
     "data": {
      "text/plain": [
       "Index(['winner', 'runs', 'at bats', 'hit', 'double', 'triple', 'homerun',\n",
       "       'Walks', 'Strikeouts', 'Stolen Bases', 'Runs Allowed', 'Earned Runs',\n",
       "       'Earned Run Average (ERA)', 'Complete Games', 'Shutouts', 'save',\n",
       "       'error'],\n",
       "      dtype='object')"
      ]
     },
     "execution_count": 24,
     "metadata": {},
     "output_type": "execute_result"
    }
   ],
   "source": [
    "df.columns\n"
   ]
  },
  {
   "cell_type": "code",
   "execution_count": 25,
   "id": "98453c21",
   "metadata": {},
   "outputs": [],
   "source": [
    "#independent features = [ 'runs', 'at bats', 'hit', 'double', 'triple', 'homerun',\n",
    "#       'Walks', 'Strikeouts', 'Stolen Bases', 'Runs Allowed', 'Earned Runs',\n",
    "#       'Earned Run Average (ERA)', 'Complete Games', 'Shutouts', 'save',\n",
    " #      'error']\n",
    "\n",
    "#dependent featuresor target or predicion variable = 'winner' \n",
    "\n",
    "\n",
    "#analysis predict the contineous variable that is regression problem"
   ]
  },
  {
   "cell_type": "markdown",
   "id": "349fa4b3",
   "metadata": {},
   "source": [
    "# visulization analysis\n"
   ]
  },
  {
   "cell_type": "code",
   "execution_count": 26,
   "id": "b42d2236",
   "metadata": {},
   "outputs": [
    {
     "data": {
      "image/png": "[encoded data removed]",
      "text/plain": [
       "<Figure size 1080x1440 with 15 Axes>"
      ]
     },
     "metadata": {
      "needs_background": "light"
     },
     "output_type": "display_data"
    }
   ],
   "source": [
    "plt.figure(figsize=(15,20))\n",
    "graph = 1\n",
    "for column in df:\n",
    "    if graph<=15:\n",
    "        ax = plt.subplot(5,3,graph)\n",
    "        sns.boxplot(df[column],orient='v')\n",
    "        plt.xlabel(column,fontsize=10)\n",
    "        \n",
    "        \n",
    "        \n",
    "        graph+=1\n",
    "plt.show()"
   ]
  },
  {
   "cell_type": "code",
   "execution_count": 27,
   "id": "2b98f82b",
   "metadata": {},
   "outputs": [
    {
     "data": {
      "text/plain": [
       "count    30.000000\n",
       "mean     43.066667\n",
       "std       7.869335\n",
       "min      28.000000\n",
       "25%      37.250000\n",
       "50%      42.000000\n",
       "75%      46.750000\n",
       "max      62.000000\n",
       "Name: save, dtype: float64"
      ]
     },
     "execution_count": 27,
     "metadata": {},
     "output_type": "execute_result"
    }
   ],
   "source": [
    "df['save'].describe()"
   ]
  },
  {
   "cell_type": "code",
   "execution_count": 28,
   "id": "54ae4093",
   "metadata": {},
   "outputs": [
    {
     "data": {
      "text/plain": [
       "count    30.000000\n",
       "mean     11.300000\n",
       "std       4.120177\n",
       "min       4.000000\n",
       "25%       9.000000\n",
       "50%      12.000000\n",
       "75%      13.000000\n",
       "max      21.000000\n",
       "Name: Shutouts, dtype: float64"
      ]
     },
     "execution_count": 28,
     "metadata": {},
     "output_type": "execute_result"
    }
   ],
   "source": [
    "df['Shutouts'].describe()"
   ]
  },
  {
   "cell_type": "markdown",
   "id": "da60b543",
   "metadata": {},
   "source": [
    "no outliers present\n",
    "\n"
   ]
  },
  {
   "cell_type": "code",
   "execution_count": 29,
   "id": "2c492d9d",
   "metadata": {},
   "outputs": [],
   "source": [
    "x = df.drop(['winner'],axis=1)\n",
    "y = df['winner']"
   ]
  },
  {
   "cell_type": "code",
   "execution_count": 30,
   "id": "a888d512",
   "metadata": {},
   "outputs": [
    {
     "data": {
      "image/png": "[encoded data removed]",
      "text/plain": [
       "<Figure size 1440x1800 with 15 Axes>"
      ]
     },
     "metadata": {},
     "output_type": "display_data"
    }
   ],
   "source": [
    "plt.figure(figsize=(20,25),facecolor='yellow')\n",
    "plotnumber = 1\n",
    "for column in x:\n",
    "    if plotnumber<=15:\n",
    "        ax = plt.subplot(5,3,plotnumber)\n",
    "        sns.distplot(x[column])\n",
    "        plt.xlabel(column,fontsize=20)\n",
    "        \n",
    "        \n",
    "        \n",
    "        plotnumber+=1\n",
    "plt.show()"
   ]
  },
  {
   "cell_type": "code",
   "execution_count": 31,
   "id": "8a206527",
   "metadata": {},
   "outputs": [
    {
     "data": {
      "text/plain": [
       "runs                        1.200786\n",
       "at bats                     0.183437\n",
       "hit                         0.670254\n",
       "double                     -0.230650\n",
       "triple                      0.129502\n",
       "homerun                     0.516441\n",
       "Walks                       0.158498\n",
       "Strikeouts                 -0.156065\n",
       "Stolen Bases                0.479893\n",
       "Runs Allowed                0.045734\n",
       "Earned Runs                 0.058710\n",
       "Earned Run Average (ERA)    0.053331\n",
       "Complete Games              0.736845\n",
       "Shutouts                    0.565790\n",
       "save                        0.657524\n",
       "error                       0.890132\n",
       "dtype: float64"
      ]
     },
     "execution_count": 31,
     "metadata": {},
     "output_type": "execute_result"
    }
   ],
   "source": [
    "x.skew()"
   ]
  },
  {
   "cell_type": "code",
   "execution_count": 32,
   "id": "ba923799",
   "metadata": {},
   "outputs": [
    {
     "data": {
      "text/plain": [
       "runs                        1.200786\n",
       "error                       0.890132\n",
       "Complete Games              0.736845\n",
       "hit                         0.670254\n",
       "save                        0.657524\n",
       "Shutouts                    0.565790\n",
       "homerun                     0.516441\n",
       "Stolen Bases                0.479893\n",
       "at bats                     0.183437\n",
       "Walks                       0.158498\n",
       "triple                      0.129502\n",
       "Earned Runs                 0.058710\n",
       "Earned Run Average (ERA)    0.053331\n",
       "Runs Allowed                0.045734\n",
       "Strikeouts                 -0.156065\n",
       "double                     -0.230650\n",
       "dtype: float64"
      ]
     },
     "execution_count": 32,
     "metadata": {},
     "output_type": "execute_result"
    }
   ],
   "source": [
    "x.skew().sort_values(ascending=False)\n"
   ]
  },
  {
   "cell_type": "code",
   "execution_count": 33,
   "id": "1f6f85f1",
   "metadata": {},
   "outputs": [],
   "source": [
    "sk = x.skew()\n"
   ]
  },
  {
   "cell_type": "code",
   "execution_count": 34,
   "id": "1ae20ab9",
   "metadata": {},
   "outputs": [
    {
     "data": {
      "text/plain": [
       "runs              1.200786\n",
       "hit               0.670254\n",
       "homerun           0.516441\n",
       "Complete Games    0.736845\n",
       "Shutouts          0.565790\n",
       "save              0.657524\n",
       "error             0.890132\n",
       "dtype: float64"
      ]
     },
     "execution_count": 34,
     "metadata": {},
     "output_type": "execute_result"
    }
   ],
   "source": [
    "sk[np.abs(sk)>0.5]\n"
   ]
  },
  {
   "cell_type": "code",
   "execution_count": 35,
   "id": "5ba6cf87",
   "metadata": {},
   "outputs": [],
   "source": [
    "from sklearn.preprocessing import power_transform\n"
   ]
  },
  {
   "cell_type": "code",
   "execution_count": 36,
   "id": "cdc95105",
   "metadata": {},
   "outputs": [
    {
     "data": {
      "text/plain": [
       "array([[ 0.        ,  0.        ,  0.        ,  1.47768528,  1.03310301,\n",
       "        -0.76462586, -1.61091476, -2.56989562,  0.93970819, -0.66033096,\n",
       "        -0.49742469, -0.50089346, -0.35984364, -0.78957937,  1.546378  ,\n",
       "        -0.3349525 ],\n",
       "       [ 0.        ,  0.        ,  0.        ,  0.08426878,  1.2033202 ,\n",
       "        -0.15858141, -0.50274883,  0.13491294, -0.53969308,  0.17546536,\n",
       "         0.25797351,  0.26180619, -0.35984364,  0.25177537,  0.36044386,\n",
       "        -0.53221128],\n",
       "       [ 0.        ,  0.        ,  0.        ,  1.67078208, -0.16026987,\n",
       "        -0.68967629,  1.1282937 , -0.90125379,  0.2119555 , -0.67462053,\n",
       "        -0.74690639, -0.63645949,  1.99351257, -0.24539345, -0.6075936 ,\n",
       "        -1.34233137],\n",
       "       [ 0.        ,  0.        ,  0.        , -0.84859969, -0.36052064,\n",
       "        -0.8790486 , -1.18120722, -0.1896282 , -0.64256433,  0.18951225,\n",
       "         0.11357524,  0.06080381,  1.22010317, -0.51075929, -0.76445333,\n",
       "         0.67852361],\n",
       "       [ 0.        ,  0.        ,  0.        ,  0.79218291,  1.61644394,\n",
       "        -0.3298501 , -0.20677062,  0.08545863,  0.07962852,  1.6032282 ,\n",
       "         1.5826538 ,  1.52095856,  1.22010317,  0.25177537, -1.09501024,\n",
       "        -0.53221128],\n",
       "       [ 0.        ,  0.        ,  0.        ,  1.99850636, -1.4610616 ,\n",
       "         1.93785984,  1.7080669 , -0.95796004,  0.29823789, -0.24775668,\n",
       "        -0.38046418, -0.34310973,  1.22010317, -0.24539345, -1.26943834,\n",
       "        -0.3349525 ],\n",
       "       [ 0.        ,  0.        ,  0.        , -0.19855793, -1.22491064,\n",
       "         1.46009864,  1.46112104, -0.22866778, -0.91015416,  0.14736005,\n",
       "         0.24355176,  0.17254893,  0.06463007, -2.09932639,  0.71808189,\n",
       "         0.10453866],\n",
       "       [ 0.        ,  0.        ,  0.        , -1.55645436, -1.11030224,\n",
       "         1.58355136, -0.90445022,  0.80717417, -2.10289743,  0.07702925,\n",
       "         0.15693705,  0.2171929 , -1.72988948, -0.24539345,  0.10460573,\n",
       "        -1.61455012],\n",
       "       [ 0.        ,  0.        ,  0.        ,  0.1416866 ,  0.130611  ,\n",
       "         0.20005848, -0.55919142,  0.59456066,  0.25528505, -0.64604565,\n",
       "        -0.45353173, -0.47832824, -0.90918054,  0.25177537,  1.90547983,\n",
       "         0.26150364],\n",
       "       [ 0.        ,  0.        ,  0.        ,  1.09940491,  0.2252559 ,\n",
       "         0.00740376,  0.20459864, -0.98625666, -0.4890904 ,  0.9148155 ,\n",
       "         0.84591008,  0.79482258,  0.06463007, -0.24539345, -0.30910856,\n",
       "         0.4090036 ],\n",
       "       [ 0.        ,  0.        ,  0.        ,  0.1993895 ,  0.130611  ,\n",
       "         0.35550255,  0.63434931, -0.17008409,  0.82545098,  0.63702368,\n",
       "         0.64587575,  0.6397999 ,  0.71644471, -0.51075929,  0.36044386,\n",
       "         1.57772533],\n",
       "       [ 0.        ,  0.        ,  0.        ,  0.1416866 , -0.46273161,\n",
       "         1.89193722,  0.34401438,  1.43447471,  1.54360946, -0.99008598,\n",
       "        -0.92380051, -0.86307791,  0.71644471,  0.48616028, -0.45590999,\n",
       "        -0.63601435],\n",
       "       [ 0.        ,  0.        ,  0.        , -1.70115949, -0.9978016 ,\n",
       "         0.47670831, -0.57807386, -0.96739644, -1.56087959, -0.17697199,\n",
       "        -0.07475111, -0.02873255, -0.35984364,  0.25177537,  0.48296759,\n",
       "         0.10453866],\n",
       "       [ 0.        ,  0.        ,  0.        , -0.74305731, -0.88727666,\n",
       "         1.09863616,  0.20459864,  0.85805048, -0.5908464 ,  0.53945546,\n",
       "         0.60291486,  0.46219   ,  0.98187374,  0.25177537,  0.36044386,\n",
       "         0.18425403],\n",
       "       [ 0.        ,  0.        ,  0.        ,  0.08426878,  1.37061398,\n",
       "        -0.50675282,  0.15184177, -1.25783783, -0.14922002,  0.58129235,\n",
       "         0.41635103,  0.41771307,  0.71644471,  0.93134543, -2.47346122,\n",
       "         1.82912694],\n",
       "       [ 0.        ,  0.        ,  0.        ,  0.73160797,  0.77187241,\n",
       "        -0.84063614,  0.6847765 ,  0.16463355, -0.5908464 , -2.34864635,\n",
       "        -2.33415028, -2.31158455, -0.90918054,  0.93134543,  2.07367378,\n",
       "         0.33638827],\n",
       "       [ 0.        ,  0.        ,  0.        ,  0.97564513, -0.36052064,\n",
       "        -0.72702035, -0.09789936,  0.71584268,  0.70858172, -1.30770717,\n",
       "        -1.51839579, -1.68621311, -1.72988948,  0.48616028,  1.35421939,\n",
       "         1.69070364],\n",
       "       [ 0.        ,  0.        ,  0.        , -0.19855793, -0.06210084,\n",
       "         0.3247704 ,  1.66218601,  2.77484406,  0.58895875, -1.13418647,\n",
       "        -1.30939814, -1.34181164,  0.98187374,  2.1228587 ,  0.71808189,\n",
       "         1.23106343],\n",
       "       [ 0.        ,  0.        ,  0.        , -0.08627816,  0.31882221,\n",
       "        -0.54284278, -1.02214896,  0.48388272,  0.12413531,  0.69269686,\n",
       "         0.67449731,  0.728428  , -0.90918054, -1.08415811, -0.30910856,\n",
       "         1.45599167],\n",
       "       [ 0.        ,  0.        ,  0.        , -1.00482997, -0.36052064,\n",
       "         0.20005848,  0.51575406,  0.04596732,  1.96311582,  0.92866776,\n",
       "         0.93141525,  0.83904944, -0.35984364, -0.78957937, -1.09501024,\n",
       "        -0.15049335],\n",
       "       [ 0.        ,  0.        ,  0.        ,  1.16172142, -1.4610616 ,\n",
       "         0.50658869,  0.37858445,  0.39368322, -1.62503782, -1.06208003,\n",
       "        -1.14586471, -1.181798  , -0.90918054,  0.71241788,  0.94096393,\n",
       "        -0.3349525 ],\n",
       "       [ 0.        ,  0.        ,  0.        , -0.58265234, -1.96666084,\n",
       "         0.50658869,  1.22443057,  0.93965496, -1.2533623 , -0.74613259,\n",
       "        -0.85001394, -0.74966224,  0.41526799,  0.48616028, -0.16691871,\n",
       "        -0.15049335],\n",
       "       [ 0.        ,  0.        ,  0.        , -2.02934483,  0.85977161,\n",
       "        -1.53428021, -1.77952032, -0.96739644,  1.23258601, -0.13454934,\n",
       "         0.0412242 ,  0.15021539, -1.72988948,  0.25177537, -1.09501024,\n",
       "        -1.61455012],\n",
       "       [ 0.        ,  0.        ,  0.        , -1.30983118, -1.34177482,\n",
       "        -2.48513082,  0.0810878 , -1.36917434, -0.5908464 ,  1.01170768,\n",
       "         0.9029283 ,  1.0156701 ,  0.06463007, -0.24539345,  0.23438459,\n",
       "        -0.15049335],\n",
       "       [ 0.        ,  0.        ,  0.        , -0.19855793,  0.5934617 ,\n",
       "        -1.1154812 , -1.52765389,  0.23412141,  0.29823789,  1.68527759,\n",
       "         1.62486936,  1.63032615, -0.90918054, -1.08415811, -1.09501024,\n",
       "         1.49759735],\n",
       "       [ 0.        ,  0.        ,  0.        , -0.68986824, -0.46273161,\n",
       "         0.79662621,  1.60071179,  0.07557979, -1.13604803, -1.32219722,\n",
       "        -1.20526331, -1.15897488,  0.98187374,  2.1228587 ,  0.60212705,\n",
       "        -1.90842687],\n",
       "       [ 0.        ,  0.        ,  0.        ,  0.73160797,  0.77187241,\n",
       "        -0.8790486 , -0.17035471, -0.88231827,  0.50760474, -0.86077652,\n",
       "        -0.55601027, -0.52346697,  1.22010317,  1.55042485, -0.16691871,\n",
       "        -1.47586961],\n",
       "       [ 0.        ,  0.        ,  0.        ,  0.79218291,  1.53515592,\n",
       "        -0.22643599,  0.41304265,  0.61473509,  1.9006571 ,  0.35777783,\n",
       "         0.34442049,  0.19487476, -0.90918054,  0.25177537,  0.23438459,\n",
       "        -0.53221128],\n",
       "       [ 0.        ,  0.        ,  0.        , -0.84859969,  0.5028866 ,\n",
       "        -0.43529176, -0.749579  ,  0.76654332,  0.03471274,  0.60916531,\n",
       "         0.28680506,  0.30638893, -0.90918054, -1.39754579, -0.16691871,\n",
       "         0.02225134],\n",
       "       [ 0.        ,  0.        ,  0.        , -0.08627816,  1.61644394,\n",
       "         0.76831413, -1.50694503,  0.3237498 ,  0.6690207 ,  2.16161235,\n",
       "         2.324072  ,  2.39132405,  0.41526799, -2.09932639, -0.92680917,\n",
       "         0.26150364]])"
      ]
     },
     "execution_count": 36,
     "metadata": {},
     "output_type": "execute_result"
    }
   ],
   "source": [
    "x_new = power_transform(x)\n",
    "x_new"
   ]
  },
  {
   "cell_type": "code",
   "execution_count": 37,
   "id": "f6ce22ad",
   "metadata": {},
   "outputs": [
    {
     "data": {
      "text/plain": [
       "Index(['runs', 'at bats', 'hit', 'double', 'triple', 'homerun', 'Walks',\n",
       "       'Strikeouts', 'Stolen Bases', 'Runs Allowed', 'Earned Runs',\n",
       "       'Earned Run Average (ERA)', 'Complete Games', 'Shutouts', 'save',\n",
       "       'error'],\n",
       "      dtype='object')"
      ]
     },
     "execution_count": 37,
     "metadata": {},
     "output_type": "execute_result"
    }
   ],
   "source": [
    "x.columns\n"
   ]
  },
  {
   "cell_type": "code",
   "execution_count": 38,
   "id": "177f515c",
   "metadata": {},
   "outputs": [],
   "source": [
    "x = pd.DataFrame(x_new,columns = x.columns)\n"
   ]
  },
  {
   "cell_type": "code",
   "execution_count": 39,
   "id": "15185a44",
   "metadata": {},
   "outputs": [
    {
     "data": {
      "text/plain": [
       "error                       0.063909\n",
       "Strikeouts                  0.041170\n",
       "Shutouts                    0.006560\n",
       "Earned Run Average (ERA)    0.001746\n",
       "save                        0.000836\n",
       "runs                        0.000000\n",
       "at bats                     0.000000\n",
       "hit                         0.000000\n",
       "homerun                    -0.000065\n",
       "Earned Runs                -0.001940\n",
       "Walks                      -0.007760\n",
       "Runs Allowed               -0.008082\n",
       "Stolen Bases               -0.010455\n",
       "double                     -0.035315\n",
       "Complete Games             -0.059785\n",
       "triple                     -0.072933\n",
       "dtype: float64"
      ]
     },
     "execution_count": 39,
     "metadata": {},
     "output_type": "execute_result"
    }
   ],
   "source": [
    "x.skew().sort_values(ascending=False)\n"
   ]
  },
  {
   "cell_type": "code",
   "execution_count": 40,
   "id": "6cf04bee",
   "metadata": {},
   "outputs": [],
   "source": [
    "dk = x.skew()\n"
   ]
  },
  {
   "cell_type": "code",
   "execution_count": 41,
   "id": "054c2dce",
   "metadata": {},
   "outputs": [
    {
     "data": {
      "text/plain": [
       "runs                        0.000000\n",
       "at bats                     0.000000\n",
       "hit                         0.000000\n",
       "double                     -0.035315\n",
       "triple                     -0.072933\n",
       "homerun                    -0.000065\n",
       "Walks                      -0.007760\n",
       "Strikeouts                  0.041170\n",
       "Stolen Bases               -0.010455\n",
       "Runs Allowed               -0.008082\n",
       "Earned Runs                -0.001940\n",
       "Earned Run Average (ERA)    0.001746\n",
       "Complete Games             -0.059785\n",
       "Shutouts                    0.006560\n",
       "save                        0.000836\n",
       "error                       0.063909\n",
       "dtype: float64"
      ]
     },
     "execution_count": 41,
     "metadata": {},
     "output_type": "execute_result"
    }
   ],
   "source": [
    "dk[np.abs(dk)<0.5]\n"
   ]
  },
  {
   "cell_type": "code",
   "execution_count": 42,
   "id": "54ad7050",
   "metadata": {},
   "outputs": [
    {
     "data": {
      "text/plain": [
       "True"
      ]
     },
     "execution_count": 42,
     "metadata": {},
     "output_type": "execute_result"
    }
   ],
   "source": [
    "x.skew()[np.abs(x.skew())>0.5].all()\n"
   ]
  },
  {
   "cell_type": "markdown",
   "id": "44edba12",
   "metadata": {},
   "source": [
    "# feature selection\n"
   ]
  },
  {
   "cell_type": "markdown",
   "id": "953ab564",
   "metadata": {},
   "source": [
    "# using select kbest feature selection method\n"
   ]
  },
  {
   "cell_type": "code",
   "execution_count": 43,
   "id": "c9e47cb7",
   "metadata": {},
   "outputs": [],
   "source": [
    "from sklearn.feature_selection import SelectKBest,f_classif\n"
   ]
  },
  {
   "cell_type": "code",
   "execution_count": 44,
   "id": "35fa484d",
   "metadata": {},
   "outputs": [],
   "source": [
    "x = df.drop(['winner'],axis=1)\n",
    "y = df['winner']"
   ]
  },
  {
   "cell_type": "code",
   "execution_count": 45,
   "id": "ddb84ad4",
   "metadata": {},
   "outputs": [],
   "source": [
    "best_features = SelectKBest(score_func=f_classif,k=13)\n",
    "fit = best_features.fit(x,y)\n",
    "df_scores = pd.DataFrame(fit.scores_)\n",
    "df_columns = pd.DataFrame(df.columns)"
   ]
  },
  {
   "cell_type": "code",
   "execution_count": 46,
   "id": "ac3576de",
   "metadata": {},
   "outputs": [],
   "source": [
    "feature_scores = pd.concat([df_scores,df_columns],axis=1)\n",
    "feature_scores.columns = ['Score','Feature_Name']#put the column nme"
   ]
  },
  {
   "cell_type": "code",
   "execution_count": 47,
   "id": "2367079b",
   "metadata": {},
   "outputs": [
    {
     "name": "stdout",
     "output_type": "stream",
     "text": [
      "       Score    Feature_Name\n",
      "0   4.325471          winner\n",
      "8   3.145176      Strikeouts\n",
      "14  2.966365        Shutouts\n",
      "9   2.420967    Stolen Bases\n",
      "15  2.403946            save\n",
      "11  1.665038     Earned Runs\n",
      "10  1.574876    Runs Allowed\n",
      "1   1.552727            runs\n",
      "7   1.509218           Walks\n",
      "13  1.204067  Complete Games\n",
      "6   1.048384         homerun\n",
      "5   0.989166          triple\n",
      "3   0.904863             hit\n"
     ]
    }
   ],
   "source": [
    "print(feature_scores.nlargest(13,'Score'))"
   ]
  },
  {
   "cell_type": "code",
   "execution_count": 48,
   "id": "712525e2",
   "metadata": {},
   "outputs": [],
   "source": [
    "new_x = df[['winner','Strikeouts','Shutouts','Stolen Bases','save','Walks','Earned Runs','Runs Allowed',\n",
    "           'runs','Complete Games','homerun','triple','hit']]"
   ]
  },
  {
   "cell_type": "code",
   "execution_count": 49,
   "id": "0a2350d1",
   "metadata": {},
   "outputs": [
    {
     "data": {
      "text/html": [
       "<div>\n",
       "<style scoped>\n",
       "    .dataframe tbody tr th:only-of-type {\n",
       "        vertical-align: middle;\n",
       "    }\n",
       "\n",
       "    .dataframe tbody tr th {\n",
       "        vertical-align: top;\n",
       "    }\n",
       "\n",
       "    .dataframe thead th {\n",
       "        text-align: right;\n",
       "    }\n",
       "</style>\n",
       "<table border=\"1\" class=\"dataframe\">\n",
       "  <thead>\n",
       "    <tr style=\"text-align: right;\">\n",
       "      <th></th>\n",
       "      <th>winner</th>\n",
       "      <th>Strikeouts</th>\n",
       "      <th>Shutouts</th>\n",
       "      <th>Stolen Bases</th>\n",
       "      <th>save</th>\n",
       "      <th>Walks</th>\n",
       "      <th>Earned Runs</th>\n",
       "      <th>Runs Allowed</th>\n",
       "      <th>runs</th>\n",
       "      <th>Complete Games</th>\n",
       "      <th>homerun</th>\n",
       "      <th>triple</th>\n",
       "      <th>hit</th>\n",
       "    </tr>\n",
       "  </thead>\n",
       "  <tbody>\n",
       "    <tr>\n",
       "      <th>0</th>\n",
       "      <td>95</td>\n",
       "      <td>973</td>\n",
       "      <td>8</td>\n",
       "      <td>104</td>\n",
       "      <td>56</td>\n",
       "      <td>383</td>\n",
       "      <td>601</td>\n",
       "      <td>641</td>\n",
       "      <td>724</td>\n",
       "      <td>2</td>\n",
       "      <td>139</td>\n",
       "      <td>42</td>\n",
       "      <td>1497</td>\n",
       "    </tr>\n",
       "    <tr>\n",
       "      <th>1</th>\n",
       "      <td>83</td>\n",
       "      <td>1264</td>\n",
       "      <td>12</td>\n",
       "      <td>70</td>\n",
       "      <td>45</td>\n",
       "      <td>439</td>\n",
       "      <td>653</td>\n",
       "      <td>700</td>\n",
       "      <td>696</td>\n",
       "      <td>2</td>\n",
       "      <td>156</td>\n",
       "      <td>44</td>\n",
       "      <td>1349</td>\n",
       "    </tr>\n",
       "    <tr>\n",
       "      <th>2</th>\n",
       "      <td>81</td>\n",
       "      <td>1157</td>\n",
       "      <td>10</td>\n",
       "      <td>86</td>\n",
       "      <td>38</td>\n",
       "      <td>533</td>\n",
       "      <td>584</td>\n",
       "      <td>640</td>\n",
       "      <td>669</td>\n",
       "      <td>11</td>\n",
       "      <td>141</td>\n",
       "      <td>29</td>\n",
       "      <td>1395</td>\n",
       "    </tr>\n",
       "    <tr>\n",
       "      <th>3</th>\n",
       "      <td>76</td>\n",
       "      <td>1231</td>\n",
       "      <td>9</td>\n",
       "      <td>68</td>\n",
       "      <td>37</td>\n",
       "      <td>404</td>\n",
       "      <td>643</td>\n",
       "      <td>701</td>\n",
       "      <td>622</td>\n",
       "      <td>7</td>\n",
       "      <td>136</td>\n",
       "      <td>27</td>\n",
       "      <td>1381</td>\n",
       "    </tr>\n",
       "    <tr>\n",
       "      <th>4</th>\n",
       "      <td>74</td>\n",
       "      <td>1259</td>\n",
       "      <td>12</td>\n",
       "      <td>83</td>\n",
       "      <td>35</td>\n",
       "      <td>455</td>\n",
       "      <td>746</td>\n",
       "      <td>803</td>\n",
       "      <td>689</td>\n",
       "      <td>7</td>\n",
       "      <td>151</td>\n",
       "      <td>49</td>\n",
       "      <td>1515</td>\n",
       "    </tr>\n",
       "    <tr>\n",
       "      <th>5</th>\n",
       "      <td>93</td>\n",
       "      <td>1151</td>\n",
       "      <td>10</td>\n",
       "      <td>88</td>\n",
       "      <td>34</td>\n",
       "      <td>570</td>\n",
       "      <td>609</td>\n",
       "      <td>670</td>\n",
       "      <td>891</td>\n",
       "      <td>7</td>\n",
       "      <td>232</td>\n",
       "      <td>17</td>\n",
       "      <td>1480</td>\n",
       "    </tr>\n",
       "    <tr>\n",
       "      <th>6</th>\n",
       "      <td>87</td>\n",
       "      <td>1227</td>\n",
       "      <td>4</td>\n",
       "      <td>63</td>\n",
       "      <td>48</td>\n",
       "      <td>554</td>\n",
       "      <td>652</td>\n",
       "      <td>698</td>\n",
       "      <td>764</td>\n",
       "      <td>3</td>\n",
       "      <td>212</td>\n",
       "      <td>19</td>\n",
       "      <td>1397</td>\n",
       "    </tr>\n",
       "    <tr>\n",
       "      <th>7</th>\n",
       "      <td>81</td>\n",
       "      <td>1331</td>\n",
       "      <td>10</td>\n",
       "      <td>44</td>\n",
       "      <td>43</td>\n",
       "      <td>418</td>\n",
       "      <td>646</td>\n",
       "      <td>693</td>\n",
       "      <td>713</td>\n",
       "      <td>0</td>\n",
       "      <td>217</td>\n",
       "      <td>20</td>\n",
       "      <td>1370</td>\n",
       "    </tr>\n",
       "    <tr>\n",
       "      <th>8</th>\n",
       "      <td>80</td>\n",
       "      <td>1310</td>\n",
       "      <td>12</td>\n",
       "      <td>87</td>\n",
       "      <td>60</td>\n",
       "      <td>436</td>\n",
       "      <td>604</td>\n",
       "      <td>642</td>\n",
       "      <td>644</td>\n",
       "      <td>1</td>\n",
       "      <td>167</td>\n",
       "      <td>32</td>\n",
       "      <td>1383</td>\n",
       "    </tr>\n",
       "    <tr>\n",
       "      <th>9</th>\n",
       "      <td>78</td>\n",
       "      <td>1148</td>\n",
       "      <td>10</td>\n",
       "      <td>71</td>\n",
       "      <td>40</td>\n",
       "      <td>478</td>\n",
       "      <td>694</td>\n",
       "      <td>753</td>\n",
       "      <td>748</td>\n",
       "      <td>3</td>\n",
       "      <td>161</td>\n",
       "      <td>33</td>\n",
       "      <td>1495</td>\n",
       "    </tr>\n",
       "    <tr>\n",
       "      <th>10</th>\n",
       "      <td>88</td>\n",
       "      <td>1233</td>\n",
       "      <td>9</td>\n",
       "      <td>101</td>\n",
       "      <td>45</td>\n",
       "      <td>503</td>\n",
       "      <td>680</td>\n",
       "      <td>733</td>\n",
       "      <td>751</td>\n",
       "      <td>5</td>\n",
       "      <td>172</td>\n",
       "      <td>32</td>\n",
       "      <td>1419</td>\n",
       "    </tr>\n",
       "    <tr>\n",
       "      <th>11</th>\n",
       "      <td>86</td>\n",
       "      <td>1392</td>\n",
       "      <td>13</td>\n",
       "      <td>121</td>\n",
       "      <td>39</td>\n",
       "      <td>486</td>\n",
       "      <td>572</td>\n",
       "      <td>618</td>\n",
       "      <td>729</td>\n",
       "      <td>5</td>\n",
       "      <td>230</td>\n",
       "      <td>26</td>\n",
       "      <td>1363</td>\n",
       "    </tr>\n",
       "    <tr>\n",
       "      <th>12</th>\n",
       "      <td>85</td>\n",
       "      <td>1150</td>\n",
       "      <td>12</td>\n",
       "      <td>52</td>\n",
       "      <td>46</td>\n",
       "      <td>435</td>\n",
       "      <td>630</td>\n",
       "      <td>675</td>\n",
       "      <td>661</td>\n",
       "      <td>2</td>\n",
       "      <td>176</td>\n",
       "      <td>21</td>\n",
       "      <td>1331</td>\n",
       "    </tr>\n",
       "    <tr>\n",
       "      <th>13</th>\n",
       "      <td>76</td>\n",
       "      <td>1336</td>\n",
       "      <td>12</td>\n",
       "      <td>69</td>\n",
       "      <td>45</td>\n",
       "      <td>478</td>\n",
       "      <td>677</td>\n",
       "      <td>726</td>\n",
       "      <td>656</td>\n",
       "      <td>6</td>\n",
       "      <td>198</td>\n",
       "      <td>22</td>\n",
       "      <td>1379</td>\n",
       "    </tr>\n",
       "    <tr>\n",
       "      <th>14</th>\n",
       "      <td>68</td>\n",
       "      <td>1119</td>\n",
       "      <td>15</td>\n",
       "      <td>78</td>\n",
       "      <td>28</td>\n",
       "      <td>475</td>\n",
       "      <td>664</td>\n",
       "      <td>729</td>\n",
       "      <td>694</td>\n",
       "      <td>5</td>\n",
       "      <td>146</td>\n",
       "      <td>46</td>\n",
       "      <td>1405</td>\n",
       "    </tr>\n",
       "    <tr>\n",
       "      <th>15</th>\n",
       "      <td>100</td>\n",
       "      <td>1267</td>\n",
       "      <td>15</td>\n",
       "      <td>69</td>\n",
       "      <td>62</td>\n",
       "      <td>506</td>\n",
       "      <td>478</td>\n",
       "      <td>525</td>\n",
       "      <td>647</td>\n",
       "      <td>1</td>\n",
       "      <td>137</td>\n",
       "      <td>39</td>\n",
       "      <td>1386</td>\n",
       "    </tr>\n",
       "    <tr>\n",
       "      <th>16</th>\n",
       "      <td>98</td>\n",
       "      <td>1322</td>\n",
       "      <td>13</td>\n",
       "      <td>98</td>\n",
       "      <td>54</td>\n",
       "      <td>461</td>\n",
       "      <td>532</td>\n",
       "      <td>596</td>\n",
       "      <td>697</td>\n",
       "      <td>0</td>\n",
       "      <td>140</td>\n",
       "      <td>27</td>\n",
       "      <td>1462</td>\n",
       "    </tr>\n",
       "    <tr>\n",
       "      <th>17</th>\n",
       "      <td>97</td>\n",
       "      <td>1518</td>\n",
       "      <td>21</td>\n",
       "      <td>95</td>\n",
       "      <td>48</td>\n",
       "      <td>567</td>\n",
       "      <td>546</td>\n",
       "      <td>608</td>\n",
       "      <td>689</td>\n",
       "      <td>6</td>\n",
       "      <td>171</td>\n",
       "      <td>30</td>\n",
       "      <td>1341</td>\n",
       "    </tr>\n",
       "    <tr>\n",
       "      <th>18</th>\n",
       "      <td>68</td>\n",
       "      <td>1299</td>\n",
       "      <td>7</td>\n",
       "      <td>84</td>\n",
       "      <td>40</td>\n",
       "      <td>412</td>\n",
       "      <td>682</td>\n",
       "      <td>737</td>\n",
       "      <td>655</td>\n",
       "      <td>1</td>\n",
       "      <td>145</td>\n",
       "      <td>34</td>\n",
       "      <td>1378</td>\n",
       "    </tr>\n",
       "    <tr>\n",
       "      <th>19</th>\n",
       "      <td>64</td>\n",
       "      <td>1255</td>\n",
       "      <td>8</td>\n",
       "      <td>134</td>\n",
       "      <td>35</td>\n",
       "      <td>496</td>\n",
       "      <td>700</td>\n",
       "      <td>754</td>\n",
       "      <td>640</td>\n",
       "      <td>2</td>\n",
       "      <td>167</td>\n",
       "      <td>27</td>\n",
       "      <td>1382</td>\n",
       "    </tr>\n",
       "    <tr>\n",
       "      <th>20</th>\n",
       "      <td>90</td>\n",
       "      <td>1290</td>\n",
       "      <td>14</td>\n",
       "      <td>51</td>\n",
       "      <td>50</td>\n",
       "      <td>488</td>\n",
       "      <td>557</td>\n",
       "      <td>613</td>\n",
       "      <td>683</td>\n",
       "      <td>1</td>\n",
       "      <td>177</td>\n",
       "      <td>17</td>\n",
       "      <td>1351</td>\n",
       "    </tr>\n",
       "    <tr>\n",
       "      <th>21</th>\n",
       "      <td>83</td>\n",
       "      <td>1344</td>\n",
       "      <td>13</td>\n",
       "      <td>57</td>\n",
       "      <td>41</td>\n",
       "      <td>539</td>\n",
       "      <td>577</td>\n",
       "      <td>635</td>\n",
       "      <td>703</td>\n",
       "      <td>4</td>\n",
       "      <td>177</td>\n",
       "      <td>13</td>\n",
       "      <td>1363</td>\n",
       "    </tr>\n",
       "    <tr>\n",
       "      <th>22</th>\n",
       "      <td>71</td>\n",
       "      <td>1150</td>\n",
       "      <td>12</td>\n",
       "      <td>112</td>\n",
       "      <td>35</td>\n",
       "      <td>375</td>\n",
       "      <td>638</td>\n",
       "      <td>678</td>\n",
       "      <td>613</td>\n",
       "      <td>0</td>\n",
       "      <td>120</td>\n",
       "      <td>40</td>\n",
       "      <td>1420</td>\n",
       "    </tr>\n",
       "    <tr>\n",
       "      <th>23</th>\n",
       "      <td>67</td>\n",
       "      <td>1107</td>\n",
       "      <td>10</td>\n",
       "      <td>69</td>\n",
       "      <td>44</td>\n",
       "      <td>471</td>\n",
       "      <td>698</td>\n",
       "      <td>760</td>\n",
       "      <td>573</td>\n",
       "      <td>3</td>\n",
       "      <td>100</td>\n",
       "      <td>18</td>\n",
       "      <td>1361</td>\n",
       "    </tr>\n",
       "    <tr>\n",
       "      <th>24</th>\n",
       "      <td>63</td>\n",
       "      <td>1274</td>\n",
       "      <td>7</td>\n",
       "      <td>88</td>\n",
       "      <td>35</td>\n",
       "      <td>387</td>\n",
       "      <td>749</td>\n",
       "      <td>809</td>\n",
       "      <td>626</td>\n",
       "      <td>1</td>\n",
       "      <td>130</td>\n",
       "      <td>37</td>\n",
       "      <td>1374</td>\n",
       "    </tr>\n",
       "    <tr>\n",
       "      <th>25</th>\n",
       "      <td>92</td>\n",
       "      <td>1258</td>\n",
       "      <td>21</td>\n",
       "      <td>59</td>\n",
       "      <td>47</td>\n",
       "      <td>563</td>\n",
       "      <td>553</td>\n",
       "      <td>595</td>\n",
       "      <td>667</td>\n",
       "      <td>6</td>\n",
       "      <td>187</td>\n",
       "      <td>26</td>\n",
       "      <td>1346</td>\n",
       "    </tr>\n",
       "    <tr>\n",
       "      <th>26</th>\n",
       "      <td>84</td>\n",
       "      <td>1159</td>\n",
       "      <td>18</td>\n",
       "      <td>93</td>\n",
       "      <td>41</td>\n",
       "      <td>457</td>\n",
       "      <td>597</td>\n",
       "      <td>627</td>\n",
       "      <td>696</td>\n",
       "      <td>7</td>\n",
       "      <td>136</td>\n",
       "      <td>39</td>\n",
       "      <td>1486</td>\n",
       "    </tr>\n",
       "    <tr>\n",
       "      <th>27</th>\n",
       "      <td>79</td>\n",
       "      <td>1312</td>\n",
       "      <td>12</td>\n",
       "      <td>132</td>\n",
       "      <td>44</td>\n",
       "      <td>490</td>\n",
       "      <td>659</td>\n",
       "      <td>713</td>\n",
       "      <td>720</td>\n",
       "      <td>1</td>\n",
       "      <td>154</td>\n",
       "      <td>48</td>\n",
       "      <td>1494</td>\n",
       "    </tr>\n",
       "    <tr>\n",
       "      <th>28</th>\n",
       "      <td>74</td>\n",
       "      <td>1327</td>\n",
       "      <td>6</td>\n",
       "      <td>82</td>\n",
       "      <td>41</td>\n",
       "      <td>426</td>\n",
       "      <td>655</td>\n",
       "      <td>731</td>\n",
       "      <td>650</td>\n",
       "      <td>1</td>\n",
       "      <td>148</td>\n",
       "      <td>36</td>\n",
       "      <td>1324</td>\n",
       "    </tr>\n",
       "    <tr>\n",
       "      <th>29</th>\n",
       "      <td>68</td>\n",
       "      <td>1283</td>\n",
       "      <td>4</td>\n",
       "      <td>97</td>\n",
       "      <td>36</td>\n",
       "      <td>388</td>\n",
       "      <td>799</td>\n",
       "      <td>844</td>\n",
       "      <td>737</td>\n",
       "      <td>4</td>\n",
       "      <td>186</td>\n",
       "      <td>49</td>\n",
       "      <td>1479</td>\n",
       "    </tr>\n",
       "  </tbody>\n",
       "</table>\n",
       "</div>"
      ],
      "text/plain": [
       "    winner  Strikeouts  Shutouts  Stolen Bases  save  Walks  Earned Runs  \\\n",
       "0       95         973         8           104    56    383          601   \n",
       "1       83        1264        12            70    45    439          653   \n",
       "2       81        1157        10            86    38    533          584   \n",
       "3       76        1231         9            68    37    404          643   \n",
       "4       74        1259        12            83    35    455          746   \n",
       "5       93        1151        10            88    34    570          609   \n",
       "6       87        1227         4            63    48    554          652   \n",
       "7       81        1331        10            44    43    418          646   \n",
       "8       80        1310        12            87    60    436          604   \n",
       "9       78        1148        10            71    40    478          694   \n",
       "10      88        1233         9           101    45    503          680   \n",
       "11      86        1392        13           121    39    486          572   \n",
       "12      85        1150        12            52    46    435          630   \n",
       "13      76        1336        12            69    45    478          677   \n",
       "14      68        1119        15            78    28    475          664   \n",
       "15     100        1267        15            69    62    506          478   \n",
       "16      98        1322        13            98    54    461          532   \n",
       "17      97        1518        21            95    48    567          546   \n",
       "18      68        1299         7            84    40    412          682   \n",
       "19      64        1255         8           134    35    496          700   \n",
       "20      90        1290        14            51    50    488          557   \n",
       "21      83        1344        13            57    41    539          577   \n",
       "22      71        1150        12           112    35    375          638   \n",
       "23      67        1107        10            69    44    471          698   \n",
       "24      63        1274         7            88    35    387          749   \n",
       "25      92        1258        21            59    47    563          553   \n",
       "26      84        1159        18            93    41    457          597   \n",
       "27      79        1312        12           132    44    490          659   \n",
       "28      74        1327         6            82    41    426          655   \n",
       "29      68        1283         4            97    36    388          799   \n",
       "\n",
       "    Runs Allowed  runs  Complete Games  homerun  triple   hit  \n",
       "0            641   724               2      139      42  1497  \n",
       "1            700   696               2      156      44  1349  \n",
       "2            640   669              11      141      29  1395  \n",
       "3            701   622               7      136      27  1381  \n",
       "4            803   689               7      151      49  1515  \n",
       "5            670   891               7      232      17  1480  \n",
       "6            698   764               3      212      19  1397  \n",
       "7            693   713               0      217      20  1370  \n",
       "8            642   644               1      167      32  1383  \n",
       "9            753   748               3      161      33  1495  \n",
       "10           733   751               5      172      32  1419  \n",
       "11           618   729               5      230      26  1363  \n",
       "12           675   661               2      176      21  1331  \n",
       "13           726   656               6      198      22  1379  \n",
       "14           729   694               5      146      46  1405  \n",
       "15           525   647               1      137      39  1386  \n",
       "16           596   697               0      140      27  1462  \n",
       "17           608   689               6      171      30  1341  \n",
       "18           737   655               1      145      34  1378  \n",
       "19           754   640               2      167      27  1382  \n",
       "20           613   683               1      177      17  1351  \n",
       "21           635   703               4      177      13  1363  \n",
       "22           678   613               0      120      40  1420  \n",
       "23           760   573               3      100      18  1361  \n",
       "24           809   626               1      130      37  1374  \n",
       "25           595   667               6      187      26  1346  \n",
       "26           627   696               7      136      39  1486  \n",
       "27           713   720               1      154      48  1494  \n",
       "28           731   650               1      148      36  1324  \n",
       "29           844   737               4      186      49  1479  "
      ]
     },
     "execution_count": 49,
     "metadata": {},
     "output_type": "execute_result"
    }
   ],
   "source": [
    "new_x\n"
   ]
  },
  {
   "cell_type": "code",
   "execution_count": 50,
   "id": "7d2ea4fd",
   "metadata": {},
   "outputs": [],
   "source": [
    "from sklearn.preprocessing import StandardScaler\n",
    "from sklearn.model_selection import train_test_split\n",
    "scaler = StandardScaler()"
   ]
  },
  {
   "cell_type": "code",
   "execution_count": 51,
   "id": "4f8d336c",
   "metadata": {},
   "outputs": [],
   "source": [
    "x_scaler = scaler.fit_transform(new_x)\n"
   ]
  },
  {
   "cell_type": "code",
   "execution_count": 52,
   "id": "62b2eb6e",
   "metadata": {},
   "outputs": [
    {
     "name": "stdout",
     "output_type": "stream",
     "text": [
      "13    76\n",
      "3     76\n",
      "23    67\n",
      "6     87\n",
      "18    68\n",
      "25    92\n",
      "Name: winner, dtype: int64\n"
     ]
    }
   ],
   "source": [
    "for i in range(20):\n",
    "     x_train,x_test,y_train,y_test = train_test_split(x_scaler,y,test_size=0.20,random_state=i)\n",
    "\n",
    "print(y_test)"
   ]
  },
  {
   "cell_type": "code",
   "execution_count": 53,
   "id": "d456d7d5",
   "metadata": {},
   "outputs": [],
   "source": [
    "x_train,x_test,y_train,y_test = train_test_split(x_scaler,y,test_size=0.25,random_state=41)"
   ]
  },
  {
   "cell_type": "markdown",
   "id": "9142c531",
   "metadata": {},
   "source": [
    "# linear model\n"
   ]
  },
  {
   "cell_type": "code",
   "execution_count": 54,
   "id": "d1a8ebb9",
   "metadata": {},
   "outputs": [],
   "source": [
    "from sklearn.linear_model import LinearRegression\n"
   ]
  },
  {
   "cell_type": "code",
   "execution_count": 55,
   "id": "b2903898",
   "metadata": {},
   "outputs": [],
   "source": [
    "lr = LinearRegression()"
   ]
  },
  {
   "cell_type": "code",
   "execution_count": 56,
   "id": "8703efc5",
   "metadata": {},
   "outputs": [
    {
     "data": {
      "text/plain": [
       "LinearRegression()"
      ]
     },
     "execution_count": 56,
     "metadata": {},
     "output_type": "execute_result"
    }
   ],
   "source": [
    "lr.fit(x_train,y_train)"
   ]
  },
  {
   "cell_type": "code",
   "execution_count": 57,
   "id": "69bbc236",
   "metadata": {},
   "outputs": [
    {
     "data": {
      "text/plain": [
       "1.0"
      ]
     },
     "execution_count": 57,
     "metadata": {},
     "output_type": "execute_result"
    }
   ],
   "source": [
    "lr.score(x_train,y_train)\n"
   ]
  },
  {
   "cell_type": "code",
   "execution_count": 58,
   "id": "a73b96fd",
   "metadata": {},
   "outputs": [
    {
     "data": {
      "text/plain": [
       "1.0"
      ]
     },
     "execution_count": 58,
     "metadata": {},
     "output_type": "execute_result"
    }
   ],
   "source": [
    "lr.score(x_test,y_test)\n"
   ]
  },
  {
   "cell_type": "code",
   "execution_count": 59,
   "id": "f2cc15d0",
   "metadata": {},
   "outputs": [],
   "source": [
    "y_pred = lr.predict(x_test)\n"
   ]
  },
  {
   "cell_type": "code",
   "execution_count": 60,
   "id": "b9dffc6d",
   "metadata": {},
   "outputs": [
    {
     "data": {
      "text/plain": [
       "array([86., 68., 88., 90., 84., 93., 63., 68.])"
      ]
     },
     "execution_count": 60,
     "metadata": {},
     "output_type": "execute_result"
    }
   ],
   "source": [
    "y_pred"
   ]
  },
  {
   "cell_type": "code",
   "execution_count": 61,
   "id": "01a47e7d",
   "metadata": {},
   "outputs": [],
   "source": [
    "from sklearn.metrics import mean_squared_error,mean_absolute_error\n"
   ]
  },
  {
   "cell_type": "code",
   "execution_count": 62,
   "id": "54b6185f",
   "metadata": {},
   "outputs": [
    {
     "data": {
      "text/plain": [
       "1.7404671430534633e-14"
      ]
     },
     "execution_count": 62,
     "metadata": {},
     "output_type": "execute_result"
    }
   ],
   "source": [
    "y_pred = lr.predict(x_test)\n",
    "mean_absolute_error(y_test,y_pred)\n",
    "mean_squared_error(y_test,y_pred)\n",
    "np.sqrt(mean_squared_error(y_test,y_pred))"
   ]
  },
  {
   "cell_type": "markdown",
   "id": "be59405a",
   "metadata": {},
   "source": [
    "# lassocv model\n"
   ]
  },
  {
   "cell_type": "code",
   "execution_count": 63,
   "id": "4caa196f",
   "metadata": {},
   "outputs": [],
   "source": [
    "from sklearn.linear_model import Ridge,Lasso,RidgeCV,LassoCV\n",
    "lassocv = LassoCV(alphas = None,max_iter=100,normalize=True)\n",
    "lassocv.fit(x_train,y_train)\n",
    "alpha = lassocv.alpha_\n",
    "lasso_reg = Lasso(alpha)"
   ]
  },
  {
   "cell_type": "code",
   "execution_count": 64,
   "id": "fcd3042d",
   "metadata": {},
   "outputs": [
    {
     "data": {
      "text/plain": [
       "0.9999999512199881"
      ]
     },
     "execution_count": 64,
     "metadata": {},
     "output_type": "execute_result"
    }
   ],
   "source": [
    "lasso_reg.fit(x_train,y_train)\n",
    "lasso_reg.score(x_test,y_test)"
   ]
  },
  {
   "cell_type": "markdown",
   "id": "925f2752",
   "metadata": {},
   "source": [
    "# ridge model\n"
   ]
  },
  {
   "cell_type": "code",
   "execution_count": 65,
   "id": "b63236fd",
   "metadata": {},
   "outputs": [],
   "source": [
    "ridgecv = RidgeCV(alphas = np.arange(0.0001,0.1,0.001),normalize=True)\n",
    "ridgecv.fit(x_train,y_train)\n",
    "ridgecv.alpha_\n",
    "ridge_model = Ridge(alpha=ridgecv.alpha_)"
   ]
  },
  {
   "cell_type": "code",
   "execution_count": 66,
   "id": "cbda92e4",
   "metadata": {},
   "outputs": [
    {
     "data": {
      "text/plain": [
       "0.9999999974565964"
      ]
     },
     "execution_count": 66,
     "metadata": {},
     "output_type": "execute_result"
    }
   ],
   "source": [
    "ridge_model.fit(x_train,y_train)\n",
    "ridge_model.score(x_test,y_test)"
   ]
  },
  {
   "cell_type": "markdown",
   "id": "0d22a061",
   "metadata": {},
   "source": [
    "# random forest model\n"
   ]
  },
  {
   "cell_type": "code",
   "execution_count": 67,
   "id": "37c93bb7",
   "metadata": {},
   "outputs": [],
   "source": [
    "from sklearn.ensemble import RandomForestRegressor"
   ]
  },
  {
   "cell_type": "code",
   "execution_count": 68,
   "id": "2993e329",
   "metadata": {},
   "outputs": [],
   "source": [
    "rf = RandomForestRegressor()"
   ]
  },
  {
   "cell_type": "code",
   "execution_count": 69,
   "id": "eca16fb6",
   "metadata": {},
   "outputs": [
    {
     "data": {
      "text/plain": [
       "RandomForestRegressor()"
      ]
     },
     "execution_count": 69,
     "metadata": {},
     "output_type": "execute_result"
    }
   ],
   "source": [
    "rf.fit(x_train,y_train)"
   ]
  },
  {
   "cell_type": "code",
   "execution_count": 70,
   "id": "1affde4d",
   "metadata": {},
   "outputs": [
    {
     "data": {
      "text/plain": [
       "0.9545455301455301"
      ]
     },
     "execution_count": 70,
     "metadata": {},
     "output_type": "execute_result"
    }
   ],
   "source": [
    "rf.score(x_test,y_test)"
   ]
  },
  {
   "cell_type": "code",
   "execution_count": 71,
   "id": "bcf5f24f",
   "metadata": {},
   "outputs": [
    {
     "data": {
      "text/plain": [
       "0.9899885865629332"
      ]
     },
     "execution_count": 71,
     "metadata": {},
     "output_type": "execute_result"
    }
   ],
   "source": [
    "rf.score(x_train,y_train)"
   ]
  },
  {
   "cell_type": "code",
   "execution_count": 72,
   "id": "d1cba19b",
   "metadata": {},
   "outputs": [
    {
     "data": {
      "text/plain": [
       "2.337926431691127"
      ]
     },
     "execution_count": 72,
     "metadata": {},
     "output_type": "execute_result"
    }
   ],
   "source": [
    "y_pred = rf.predict(x_test)\n",
    "mean_absolute_error(y_test,y_pred)\n",
    "mean_squared_error(y_test,y_pred)\n",
    "np.sqrt(mean_squared_error(y_test,y_pred))"
   ]
  },
  {
   "cell_type": "code",
   "execution_count": 73,
   "id": "b2cdbb40",
   "metadata": {},
   "outputs": [
    {
     "data": {
      "image/png": "[encoded data removed]",
      "text/plain": [
       "<Figure size 432x288 with 1 Axes>"
      ]
     },
     "metadata": {
      "needs_background": "light"
     },
     "output_type": "display_data"
    }
   ],
   "source": [
    "plt.scatter(y_test,y_pred)\n",
    "plt.xlabel('actual value')\n",
    "plt.ylabel('predicted the value')\n",
    "plt.show()"
   ]
  },
  {
   "cell_type": "code",
   "execution_count": 74,
   "id": "4e91f428",
   "metadata": {},
   "outputs": [],
   "source": [
    "from sklearn.metrics import r2_score"
   ]
  },
  {
   "cell_type": "code",
   "execution_count": 75,
   "id": "ea1bc5ee",
   "metadata": {},
   "outputs": [
    {
     "data": {
      "text/plain": [
       "0.9545455301455301"
      ]
     },
     "execution_count": 75,
     "metadata": {},
     "output_type": "execute_result"
    }
   ],
   "source": [
    "r2_score(y_test,y_pred)\n"
   ]
  },
  {
   "cell_type": "markdown",
   "id": "e5cb32ca",
   "metadata": {},
   "source": [
    "conclusion random forest regressor model is good and good accuracy and mean_absolute_error is less linear regression\n",
    "\n"
   ]
  },
  {
   "cell_type": "code",
   "execution_count": null,
   "id": "30905739",
   "metadata": {},
   "outputs": [],
   "source": []
  }
 ],
 "metadata": {
  "kernelspec": {
   "display_name": "Python 3 (ipykernel)",
   "language": "python",
   "name": "python3"
  },
  "language_info": {
   "codemirror_mode": {
    "name": "ipython",
    "version": 3
   },
   "file_extension": ".py",
   "mimetype": "text/x-python",
   "name": "python",
   "nbconvert_exporter": "python",
   "pygments_lexer": "ipython3",
   "version": "3.9.7"
  }
 },
 "nbformat": 4,
 "nbformat_minor": 5
}
