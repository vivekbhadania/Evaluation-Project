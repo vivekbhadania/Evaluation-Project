{
 "cells": [
  {
   "cell_type": "markdown",
   "id": "b4ec43c2",
   "metadata": {},
   "source": [
    "# Loan Application Status Prediction\n"
   ]
  },
  {
   "cell_type": "markdown",
   "id": "d876cba2",
   "metadata": {},
   "source": [
    "# Problem Statement:\n"
   ]
  },
  {
   "cell_type": "markdown",
   "id": "d13d3734",
   "metadata": {},
   "source": [
    "This dataset includes details of applicants who have applied for loan. The dataset includes details like credit history, loan amount, their income, dependents etc.\n",
    "\n"
   ]
  },
  {
   "cell_type": "markdown",
   "id": "65d39204",
   "metadata": {},
   "source": [
    "Independent Variables:\n",
    "\n"
   ]
  },
  {
   "cell_type": "markdown",
   "id": "fe57cf19",
   "metadata": {},
   "source": [
    "Loan_ID\n",
    "\n"
   ]
  },
  {
   "cell_type": "markdown",
   "id": "8828cce3",
   "metadata": {},
   "source": [
    "Gender"
   ]
  },
  {
   "cell_type": "markdown",
   "id": "67b0f793",
   "metadata": {},
   "source": [
    "Married"
   ]
  },
  {
   "cell_type": "markdown",
   "id": "f05695f8",
   "metadata": {},
   "source": [
    "Dependents"
   ]
  },
  {
   "cell_type": "markdown",
   "id": "40dc57c2",
   "metadata": {},
   "source": [
    "Education"
   ]
  },
  {
   "cell_type": "markdown",
   "id": "23b861bc",
   "metadata": {},
   "source": [
    "Self_Employed\n",
    "\n"
   ]
  },
  {
   "cell_type": "markdown",
   "id": "d6ab3122",
   "metadata": {},
   "source": [
    "ApplicantIncome"
   ]
  },
  {
   "cell_type": "markdown",
   "id": "575a6be8",
   "metadata": {},
   "source": [
    "CoapplicantIncome"
   ]
  },
  {
   "cell_type": "markdown",
   "id": "7099905a",
   "metadata": {},
   "source": [
    "Loan_Amount"
   ]
  },
  {
   "cell_type": "markdown",
   "id": "047505e0",
   "metadata": {},
   "source": [
    "Loan_Amount_Term\n",
    "\n"
   ]
  },
  {
   "cell_type": "markdown",
   "id": "2a59e5cb",
   "metadata": {},
   "source": [
    "Credit History\n",
    "\n"
   ]
  },
  {
   "cell_type": "markdown",
   "id": "605ad5d9",
   "metadata": {},
   "source": [
    "Property_Area\n",
    "\n"
   ]
  },
  {
   "cell_type": "markdown",
   "id": "bb6de694",
   "metadata": {},
   "source": [
    "Dependent Variable (Target Variable):\n",
    "\n"
   ]
  },
  {
   "cell_type": "markdown",
   "id": "36a29e50",
   "metadata": {},
   "source": [
    "Loan_Status\n"
   ]
  },
  {
   "cell_type": "markdown",
   "id": "9ac13001",
   "metadata": {},
   "source": [
    "You have to build a model that can predict whether the loan of the applicant will be approved or not on the basis of the details provided in the dataset. 1\n",
    "\n"
   ]
  },
  {
   "cell_type": "markdown",
   "id": "60f631e7",
   "metadata": {},
   "source": [
    "# Importing required libraries\n"
   ]
  },
  {
   "cell_type": "code",
   "execution_count": 1,
   "id": "dec4f0df",
   "metadata": {},
   "outputs": [],
   "source": [
    "import numpy as np\n",
    "import pandas as pd\n",
    "\n",
    "\n",
    "import seaborn as sns\n",
    "import matplotlib.pyplot as plt\n",
    "\n",
    "from scipy.stats import zscore\n",
    "from sklearn.preprocessing import power_transform,StandardScaler,LabelEncoder,OrdinalEncoder,OneHotEncoder\n",
    "from sklearn.model_selection import train_test_split\n",
    "\n",
    "from sklearn.linear_model import LogisticRegression\n",
    "from sklearn.tree import DecisionTreeClassifier\n",
    "from sklearn.ensemble import RandomForestClassifier,AdaBoostClassifier\n",
    "from sklearn.neighbors import KNeighborsClassifier\n",
    "from sklearn.svm import SVC\n",
    "from sklearn.model_selection import GridSearchCV,cross_val_score\n",
    "from sklearn.metrics import accuracy_score,confusion_matrix,classification_report,roc_curve,roc_auc_score,plot_roc_curve,plot_confusion_matrix\n",
    "\n",
    "import warnings\n",
    "warnings.filterwarnings('ignore')"
   ]
  },
  {
   "cell_type": "markdown",
   "id": "ff5b9575",
   "metadata": {},
   "source": [
    "# Loading DataSet\n"
   ]
  },
  {
   "cell_type": "code",
   "execution_count": 2,
   "id": "2bc600aa",
   "metadata": {},
   "outputs": [
    {
     "data": {
      "text/html": [
       "<div>\n",
       "<style scoped>\n",
       "    .dataframe tbody tr th:only-of-type {\n",
       "        vertical-align: middle;\n",
       "    }\n",
       "\n",
       "    .dataframe tbody tr th {\n",
       "        vertical-align: top;\n",
       "    }\n",
       "\n",
       "    .dataframe thead th {\n",
       "        text-align: right;\n",
       "    }\n",
       "</style>\n",
       "<table border=\"1\" class=\"dataframe\">\n",
       "  <thead>\n",
       "    <tr style=\"text-align: right;\">\n",
       "      <th></th>\n",
       "      <th>Loan_ID</th>\n",
       "      <th>Gender</th>\n",
       "      <th>Married</th>\n",
       "      <th>Dependents</th>\n",
       "      <th>Education</th>\n",
       "      <th>Self_Employed</th>\n",
       "      <th>ApplicantIncome</th>\n",
       "      <th>CoapplicantIncome</th>\n",
       "      <th>LoanAmount</th>\n",
       "      <th>Loan_Amount_Term</th>\n",
       "      <th>Credit_History</th>\n",
       "      <th>Property_Area</th>\n",
       "      <th>Loan_Status</th>\n",
       "    </tr>\n",
       "  </thead>\n",
       "  <tbody>\n",
       "    <tr>\n",
       "      <th>0</th>\n",
       "      <td>LP001002</td>\n",
       "      <td>Male</td>\n",
       "      <td>No</td>\n",
       "      <td>0</td>\n",
       "      <td>Graduate</td>\n",
       "      <td>No</td>\n",
       "      <td>5849</td>\n",
       "      <td>0.0</td>\n",
       "      <td>NaN</td>\n",
       "      <td>360.0</td>\n",
       "      <td>1.0</td>\n",
       "      <td>Urban</td>\n",
       "      <td>Y</td>\n",
       "    </tr>\n",
       "    <tr>\n",
       "      <th>1</th>\n",
       "      <td>LP001003</td>\n",
       "      <td>Male</td>\n",
       "      <td>Yes</td>\n",
       "      <td>1</td>\n",
       "      <td>Graduate</td>\n",
       "      <td>No</td>\n",
       "      <td>4583</td>\n",
       "      <td>1508.0</td>\n",
       "      <td>128.0</td>\n",
       "      <td>360.0</td>\n",
       "      <td>1.0</td>\n",
       "      <td>Rural</td>\n",
       "      <td>N</td>\n",
       "    </tr>\n",
       "    <tr>\n",
       "      <th>2</th>\n",
       "      <td>LP001005</td>\n",
       "      <td>Male</td>\n",
       "      <td>Yes</td>\n",
       "      <td>0</td>\n",
       "      <td>Graduate</td>\n",
       "      <td>Yes</td>\n",
       "      <td>3000</td>\n",
       "      <td>0.0</td>\n",
       "      <td>66.0</td>\n",
       "      <td>360.0</td>\n",
       "      <td>1.0</td>\n",
       "      <td>Urban</td>\n",
       "      <td>Y</td>\n",
       "    </tr>\n",
       "    <tr>\n",
       "      <th>3</th>\n",
       "      <td>LP001006</td>\n",
       "      <td>Male</td>\n",
       "      <td>Yes</td>\n",
       "      <td>0</td>\n",
       "      <td>Not Graduate</td>\n",
       "      <td>No</td>\n",
       "      <td>2583</td>\n",
       "      <td>2358.0</td>\n",
       "      <td>120.0</td>\n",
       "      <td>360.0</td>\n",
       "      <td>1.0</td>\n",
       "      <td>Urban</td>\n",
       "      <td>Y</td>\n",
       "    </tr>\n",
       "    <tr>\n",
       "      <th>4</th>\n",
       "      <td>LP001008</td>\n",
       "      <td>Male</td>\n",
       "      <td>No</td>\n",
       "      <td>0</td>\n",
       "      <td>Graduate</td>\n",
       "      <td>No</td>\n",
       "      <td>6000</td>\n",
       "      <td>0.0</td>\n",
       "      <td>141.0</td>\n",
       "      <td>360.0</td>\n",
       "      <td>1.0</td>\n",
       "      <td>Urban</td>\n",
       "      <td>Y</td>\n",
       "    </tr>\n",
       "  </tbody>\n",
       "</table>\n",
       "</div>"
      ],
      "text/plain": [
       "    Loan_ID Gender Married Dependents     Education Self_Employed  \\\n",
       "0  LP001002   Male      No          0      Graduate            No   \n",
       "1  LP001003   Male     Yes          1      Graduate            No   \n",
       "2  LP001005   Male     Yes          0      Graduate           Yes   \n",
       "3  LP001006   Male     Yes          0  Not Graduate            No   \n",
       "4  LP001008   Male      No          0      Graduate            No   \n",
       "\n",
       "   ApplicantIncome  CoapplicantIncome  LoanAmount  Loan_Amount_Term  \\\n",
       "0             5849                0.0         NaN             360.0   \n",
       "1             4583             1508.0       128.0             360.0   \n",
       "2             3000                0.0        66.0             360.0   \n",
       "3             2583             2358.0       120.0             360.0   \n",
       "4             6000                0.0       141.0             360.0   \n",
       "\n",
       "   Credit_History Property_Area Loan_Status  \n",
       "0             1.0         Urban           Y  \n",
       "1             1.0         Rural           N  \n",
       "2             1.0         Urban           Y  \n",
       "3             1.0         Urban           Y  \n",
       "4             1.0         Urban           Y  "
      ]
     },
     "execution_count": 2,
     "metadata": {},
     "output_type": "execute_result"
    }
   ],
   "source": [
    "df=pd.read_csv(\"Loan Application.csv\")\n",
    "df.head()"
   ]
  },
  {
   "cell_type": "markdown",
   "id": "a814f1a7",
   "metadata": {},
   "source": [
    "# EDA(Exploratory Data Analysis)"
   ]
  },
  {
   "cell_type": "code",
   "execution_count": 3,
   "id": "fc77c179",
   "metadata": {},
   "outputs": [],
   "source": [
    "df=df.drop(\"Loan_ID\",axis=1)             #Removing dummy columns which is not required for analyisis"
   ]
  },
  {
   "cell_type": "code",
   "execution_count": 4,
   "id": "209e3322",
   "metadata": {},
   "outputs": [
    {
     "data": {
      "text/html": [
       "<div>\n",
       "<style scoped>\n",
       "    .dataframe tbody tr th:only-of-type {\n",
       "        vertical-align: middle;\n",
       "    }\n",
       "\n",
       "    .dataframe tbody tr th {\n",
       "        vertical-align: top;\n",
       "    }\n",
       "\n",
       "    .dataframe thead th {\n",
       "        text-align: right;\n",
       "    }\n",
       "</style>\n",
       "<table border=\"1\" class=\"dataframe\">\n",
       "  <thead>\n",
       "    <tr style=\"text-align: right;\">\n",
       "      <th></th>\n",
       "      <th>Gender</th>\n",
       "      <th>Married</th>\n",
       "      <th>Dependents</th>\n",
       "      <th>Education</th>\n",
       "      <th>Self_Employed</th>\n",
       "      <th>ApplicantIncome</th>\n",
       "      <th>CoapplicantIncome</th>\n",
       "      <th>LoanAmount</th>\n",
       "      <th>Loan_Amount_Term</th>\n",
       "      <th>Credit_History</th>\n",
       "      <th>Property_Area</th>\n",
       "      <th>Loan_Status</th>\n",
       "    </tr>\n",
       "  </thead>\n",
       "  <tbody>\n",
       "    <tr>\n",
       "      <th>count</th>\n",
       "      <td>601</td>\n",
       "      <td>611</td>\n",
       "      <td>599</td>\n",
       "      <td>614</td>\n",
       "      <td>582</td>\n",
       "      <td>614.000000</td>\n",
       "      <td>614.000000</td>\n",
       "      <td>592.000000</td>\n",
       "      <td>600.00000</td>\n",
       "      <td>564.000000</td>\n",
       "      <td>614</td>\n",
       "      <td>614</td>\n",
       "    </tr>\n",
       "    <tr>\n",
       "      <th>unique</th>\n",
       "      <td>2</td>\n",
       "      <td>2</td>\n",
       "      <td>4</td>\n",
       "      <td>2</td>\n",
       "      <td>2</td>\n",
       "      <td>NaN</td>\n",
       "      <td>NaN</td>\n",
       "      <td>NaN</td>\n",
       "      <td>NaN</td>\n",
       "      <td>NaN</td>\n",
       "      <td>3</td>\n",
       "      <td>2</td>\n",
       "    </tr>\n",
       "    <tr>\n",
       "      <th>top</th>\n",
       "      <td>Male</td>\n",
       "      <td>Yes</td>\n",
       "      <td>0</td>\n",
       "      <td>Graduate</td>\n",
       "      <td>No</td>\n",
       "      <td>NaN</td>\n",
       "      <td>NaN</td>\n",
       "      <td>NaN</td>\n",
       "      <td>NaN</td>\n",
       "      <td>NaN</td>\n",
       "      <td>Semiurban</td>\n",
       "      <td>Y</td>\n",
       "    </tr>\n",
       "    <tr>\n",
       "      <th>freq</th>\n",
       "      <td>489</td>\n",
       "      <td>398</td>\n",
       "      <td>345</td>\n",
       "      <td>480</td>\n",
       "      <td>500</td>\n",
       "      <td>NaN</td>\n",
       "      <td>NaN</td>\n",
       "      <td>NaN</td>\n",
       "      <td>NaN</td>\n",
       "      <td>NaN</td>\n",
       "      <td>233</td>\n",
       "      <td>422</td>\n",
       "    </tr>\n",
       "    <tr>\n",
       "      <th>mean</th>\n",
       "      <td>NaN</td>\n",
       "      <td>NaN</td>\n",
       "      <td>NaN</td>\n",
       "      <td>NaN</td>\n",
       "      <td>NaN</td>\n",
       "      <td>5403.459283</td>\n",
       "      <td>1621.245798</td>\n",
       "      <td>146.412162</td>\n",
       "      <td>342.00000</td>\n",
       "      <td>0.842199</td>\n",
       "      <td>NaN</td>\n",
       "      <td>NaN</td>\n",
       "    </tr>\n",
       "    <tr>\n",
       "      <th>std</th>\n",
       "      <td>NaN</td>\n",
       "      <td>NaN</td>\n",
       "      <td>NaN</td>\n",
       "      <td>NaN</td>\n",
       "      <td>NaN</td>\n",
       "      <td>6109.041673</td>\n",
       "      <td>2926.248369</td>\n",
       "      <td>85.587325</td>\n",
       "      <td>65.12041</td>\n",
       "      <td>0.364878</td>\n",
       "      <td>NaN</td>\n",
       "      <td>NaN</td>\n",
       "    </tr>\n",
       "    <tr>\n",
       "      <th>min</th>\n",
       "      <td>NaN</td>\n",
       "      <td>NaN</td>\n",
       "      <td>NaN</td>\n",
       "      <td>NaN</td>\n",
       "      <td>NaN</td>\n",
       "      <td>150.000000</td>\n",
       "      <td>0.000000</td>\n",
       "      <td>9.000000</td>\n",
       "      <td>12.00000</td>\n",
       "      <td>0.000000</td>\n",
       "      <td>NaN</td>\n",
       "      <td>NaN</td>\n",
       "    </tr>\n",
       "    <tr>\n",
       "      <th>25%</th>\n",
       "      <td>NaN</td>\n",
       "      <td>NaN</td>\n",
       "      <td>NaN</td>\n",
       "      <td>NaN</td>\n",
       "      <td>NaN</td>\n",
       "      <td>2877.500000</td>\n",
       "      <td>0.000000</td>\n",
       "      <td>100.000000</td>\n",
       "      <td>360.00000</td>\n",
       "      <td>1.000000</td>\n",
       "      <td>NaN</td>\n",
       "      <td>NaN</td>\n",
       "    </tr>\n",
       "    <tr>\n",
       "      <th>50%</th>\n",
       "      <td>NaN</td>\n",
       "      <td>NaN</td>\n",
       "      <td>NaN</td>\n",
       "      <td>NaN</td>\n",
       "      <td>NaN</td>\n",
       "      <td>3812.500000</td>\n",
       "      <td>1188.500000</td>\n",
       "      <td>128.000000</td>\n",
       "      <td>360.00000</td>\n",
       "      <td>1.000000</td>\n",
       "      <td>NaN</td>\n",
       "      <td>NaN</td>\n",
       "    </tr>\n",
       "    <tr>\n",
       "      <th>75%</th>\n",
       "      <td>NaN</td>\n",
       "      <td>NaN</td>\n",
       "      <td>NaN</td>\n",
       "      <td>NaN</td>\n",
       "      <td>NaN</td>\n",
       "      <td>5795.000000</td>\n",
       "      <td>2297.250000</td>\n",
       "      <td>168.000000</td>\n",
       "      <td>360.00000</td>\n",
       "      <td>1.000000</td>\n",
       "      <td>NaN</td>\n",
       "      <td>NaN</td>\n",
       "    </tr>\n",
       "    <tr>\n",
       "      <th>max</th>\n",
       "      <td>NaN</td>\n",
       "      <td>NaN</td>\n",
       "      <td>NaN</td>\n",
       "      <td>NaN</td>\n",
       "      <td>NaN</td>\n",
       "      <td>81000.000000</td>\n",
       "      <td>41667.000000</td>\n",
       "      <td>700.000000</td>\n",
       "      <td>480.00000</td>\n",
       "      <td>1.000000</td>\n",
       "      <td>NaN</td>\n",
       "      <td>NaN</td>\n",
       "    </tr>\n",
       "  </tbody>\n",
       "</table>\n",
       "</div>"
      ],
      "text/plain": [
       "       Gender Married Dependents Education Self_Employed  ApplicantIncome  \\\n",
       "count     601     611        599       614           582       614.000000   \n",
       "unique      2       2          4         2             2              NaN   \n",
       "top      Male     Yes          0  Graduate            No              NaN   \n",
       "freq      489     398        345       480           500              NaN   \n",
       "mean      NaN     NaN        NaN       NaN           NaN      5403.459283   \n",
       "std       NaN     NaN        NaN       NaN           NaN      6109.041673   \n",
       "min       NaN     NaN        NaN       NaN           NaN       150.000000   \n",
       "25%       NaN     NaN        NaN       NaN           NaN      2877.500000   \n",
       "50%       NaN     NaN        NaN       NaN           NaN      3812.500000   \n",
       "75%       NaN     NaN        NaN       NaN           NaN      5795.000000   \n",
       "max       NaN     NaN        NaN       NaN           NaN     81000.000000   \n",
       "\n",
       "        CoapplicantIncome  LoanAmount  Loan_Amount_Term  Credit_History  \\\n",
       "count          614.000000  592.000000         600.00000      564.000000   \n",
       "unique                NaN         NaN               NaN             NaN   \n",
       "top                   NaN         NaN               NaN             NaN   \n",
       "freq                  NaN         NaN               NaN             NaN   \n",
       "mean          1621.245798  146.412162         342.00000        0.842199   \n",
       "std           2926.248369   85.587325          65.12041        0.364878   \n",
       "min              0.000000    9.000000          12.00000        0.000000   \n",
       "25%              0.000000  100.000000         360.00000        1.000000   \n",
       "50%           1188.500000  128.000000         360.00000        1.000000   \n",
       "75%           2297.250000  168.000000         360.00000        1.000000   \n",
       "max          41667.000000  700.000000         480.00000        1.000000   \n",
       "\n",
       "       Property_Area Loan_Status  \n",
       "count            614         614  \n",
       "unique             3           2  \n",
       "top        Semiurban           Y  \n",
       "freq             233         422  \n",
       "mean             NaN         NaN  \n",
       "std              NaN         NaN  \n",
       "min              NaN         NaN  \n",
       "25%              NaN         NaN  \n",
       "50%              NaN         NaN  \n",
       "75%              NaN         NaN  \n",
       "max              NaN         NaN  "
      ]
     },
     "execution_count": 4,
     "metadata": {},
     "output_type": "execute_result"
    }
   ],
   "source": [
    "df.describe(include='all')          # Describe the details of all columns and rows"
   ]
  },
  {
   "cell_type": "code",
   "execution_count": 5,
   "id": "fbc8f5de",
   "metadata": {},
   "outputs": [
    {
     "data": {
      "text/plain": [
       "(614, 12)"
      ]
     },
     "execution_count": 5,
     "metadata": {},
     "output_type": "execute_result"
    }
   ],
   "source": [
    "df.shape      #No. of rows and columns\n"
   ]
  },
  {
   "cell_type": "code",
   "execution_count": 6,
   "id": "523a6cf4",
   "metadata": {},
   "outputs": [
    {
     "name": "stdout",
     "output_type": "stream",
     "text": [
      "<class 'pandas.core.frame.DataFrame'>\n",
      "RangeIndex: 614 entries, 0 to 613\n",
      "Data columns (total 12 columns):\n",
      " #   Column             Non-Null Count  Dtype  \n",
      "---  ------             --------------  -----  \n",
      " 0   Gender             601 non-null    object \n",
      " 1   Married            611 non-null    object \n",
      " 2   Dependents         599 non-null    object \n",
      " 3   Education          614 non-null    object \n",
      " 4   Self_Employed      582 non-null    object \n",
      " 5   ApplicantIncome    614 non-null    int64  \n",
      " 6   CoapplicantIncome  614 non-null    float64\n",
      " 7   LoanAmount         592 non-null    float64\n",
      " 8   Loan_Amount_Term   600 non-null    float64\n",
      " 9   Credit_History     564 non-null    float64\n",
      " 10  Property_Area      614 non-null    object \n",
      " 11  Loan_Status        614 non-null    object \n",
      "dtypes: float64(4), int64(1), object(7)\n",
      "memory usage: 57.7+ KB\n"
     ]
    }
   ],
   "source": [
    "df.info()       #To get columns,null values and dtype\n"
   ]
  },
  {
   "cell_type": "code",
   "execution_count": 7,
   "id": "87b84142",
   "metadata": {},
   "outputs": [
    {
     "data": {
      "text/plain": [
       "Gender                object\n",
       "Married               object\n",
       "Dependents            object\n",
       "Education             object\n",
       "Self_Employed         object\n",
       "ApplicantIncome        int64\n",
       "CoapplicantIncome    float64\n",
       "LoanAmount           float64\n",
       "Loan_Amount_Term     float64\n",
       "Credit_History       float64\n",
       "Property_Area         object\n",
       "Loan_Status           object\n",
       "dtype: object"
      ]
     },
     "execution_count": 7,
     "metadata": {},
     "output_type": "execute_result"
    }
   ],
   "source": [
    "df.dtypes   #To get data types\n"
   ]
  },
  {
   "cell_type": "markdown",
   "id": "2c4a10b9",
   "metadata": {},
   "source": [
    "Hence we have found object type variables in the data\n"
   ]
  },
  {
   "cell_type": "markdown",
   "id": "8c1c477c",
   "metadata": {},
   "source": [
    "# Data Visualization\n"
   ]
  },
  {
   "cell_type": "code",
   "execution_count": 9,
   "id": "4beae718",
   "metadata": {},
   "outputs": [
    {
     "data": {
      "text/plain": [
       "<AxesSubplot:xlabel='ApplicantIncome', ylabel='Credit_History'>"
      ]
     },
     "execution_count": 9,
     "metadata": {},
     "output_type": "execute_result"
    },
    {
     "data": {
      "image/png": "[encoded data removed]",
      "text/plain": [
       "<Figure size 432x288 with 1 Axes>"
      ]
     },
     "metadata": {
      "needs_background": "light"
     },
     "output_type": "display_data"
    }
   ],
   "source": [
    "sns.scatterplot(df.ApplicantIncome,df['Credit_History'],df.LoanAmount)\n"
   ]
  },
  {
   "cell_type": "code",
   "execution_count": 10,
   "id": "aab43156",
   "metadata": {},
   "outputs": [
    {
     "data": {
      "text/plain": [
       "<AxesSubplot:xlabel='ApplicantIncome', ylabel='LoanAmount'>"
      ]
     },
     "execution_count": 10,
     "metadata": {},
     "output_type": "execute_result"
    },
    {
     "data": {
      "image/png": "[encoded data removed]",
      "text/plain": [
       "<Figure size 864x432 with 1 Axes>"
      ]
     },
     "metadata": {
      "needs_background": "light"
     },
     "output_type": "display_data"
    }
   ],
   "source": [
    "plt.figure(figsize=(12,6))\n",
    "sns.barplot('ApplicantIncome','LoanAmount',data=df)"
   ]
  },
  {
   "cell_type": "markdown",
   "id": "2c4ffc2b",
   "metadata": {},
   "source": [
    "As above figure shows the loan amount depends on applicant income directly proportional\n"
   ]
  },
  {
   "cell_type": "code",
   "execution_count": 12,
   "id": "859a7f10",
   "metadata": {
    "scrolled": true
   },
   "outputs": [
    {
     "ename": "TypeError",
     "evalue": "Neither the `x` nor `y` variable appears to be numeric.",
     "output_type": "error",
     "traceback": [
      "\u001b[1;31m---------------------------------------------------------------------------\u001b[0m",
      "\u001b[1;31mTypeError\u001b[0m                                 Traceback (most recent call last)",
      "\u001b[1;32m~\\AppData\\Local\\Temp/ipykernel_9220/175592299.py\u001b[0m in \u001b[0;36m<module>\u001b[1;34m\u001b[0m\n\u001b[0;32m      1\u001b[0m \u001b[1;32mfor\u001b[0m \u001b[0mi\u001b[0m \u001b[1;32min\u001b[0m \u001b[0mdf\u001b[0m\u001b[1;33m.\u001b[0m\u001b[0mcolumns\u001b[0m\u001b[1;33m:\u001b[0m\u001b[1;33m\u001b[0m\u001b[1;33m\u001b[0m\u001b[0m\n\u001b[0;32m      2\u001b[0m     \u001b[0mplt\u001b[0m\u001b[1;33m.\u001b[0m\u001b[0mfigure\u001b[0m\u001b[1;33m(\u001b[0m\u001b[0mfigsize\u001b[0m\u001b[1;33m=\u001b[0m\u001b[1;33m(\u001b[0m\u001b[1;36m10\u001b[0m\u001b[1;33m,\u001b[0m\u001b[1;36m6\u001b[0m\u001b[1;33m)\u001b[0m\u001b[1;33m)\u001b[0m\u001b[1;33m\u001b[0m\u001b[1;33m\u001b[0m\u001b[0m\n\u001b[1;32m----> 3\u001b[1;33m     \u001b[0msns\u001b[0m\u001b[1;33m.\u001b[0m\u001b[0mbarplot\u001b[0m\u001b[1;33m(\u001b[0m\u001b[0mdf\u001b[0m\u001b[1;33m[\u001b[0m\u001b[1;34m'Loan_Status'\u001b[0m\u001b[1;33m]\u001b[0m\u001b[1;33m,\u001b[0m\u001b[0mdf\u001b[0m\u001b[1;33m[\u001b[0m\u001b[0mi\u001b[0m\u001b[1;33m]\u001b[0m\u001b[1;33m,\u001b[0m\u001b[0medgecolor\u001b[0m\u001b[1;33m=\u001b[0m\u001b[1;34m'black'\u001b[0m\u001b[1;33m,\u001b[0m\u001b[0mlinewidth\u001b[0m\u001b[1;33m=\u001b[0m\u001b[1;36m3\u001b[0m\u001b[1;33m)\u001b[0m\u001b[1;33m\u001b[0m\u001b[1;33m\u001b[0m\u001b[0m\n\u001b[0m",
      "\u001b[1;32mC:\\ProgramData\\Anaconda3\\lib\\site-packages\\seaborn\\_decorators.py\u001b[0m in \u001b[0;36minner_f\u001b[1;34m(*args, **kwargs)\u001b[0m\n\u001b[0;32m     44\u001b[0m             )\n\u001b[0;32m     45\u001b[0m         \u001b[0mkwargs\u001b[0m\u001b[1;33m.\u001b[0m\u001b[0mupdate\u001b[0m\u001b[1;33m(\u001b[0m\u001b[1;33m{\u001b[0m\u001b[0mk\u001b[0m\u001b[1;33m:\u001b[0m \u001b[0marg\u001b[0m \u001b[1;32mfor\u001b[0m \u001b[0mk\u001b[0m\u001b[1;33m,\u001b[0m \u001b[0marg\u001b[0m \u001b[1;32min\u001b[0m \u001b[0mzip\u001b[0m\u001b[1;33m(\u001b[0m\u001b[0msig\u001b[0m\u001b[1;33m.\u001b[0m\u001b[0mparameters\u001b[0m\u001b[1;33m,\u001b[0m \u001b[0margs\u001b[0m\u001b[1;33m)\u001b[0m\u001b[1;33m}\u001b[0m\u001b[1;33m)\u001b[0m\u001b[1;33m\u001b[0m\u001b[1;33m\u001b[0m\u001b[0m\n\u001b[1;32m---> 46\u001b[1;33m         \u001b[1;32mreturn\u001b[0m \u001b[0mf\u001b[0m\u001b[1;33m(\u001b[0m\u001b[1;33m**\u001b[0m\u001b[0mkwargs\u001b[0m\u001b[1;33m)\u001b[0m\u001b[1;33m\u001b[0m\u001b[1;33m\u001b[0m\u001b[0m\n\u001b[0m\u001b[0;32m     47\u001b[0m     \u001b[1;32mreturn\u001b[0m \u001b[0minner_f\u001b[0m\u001b[1;33m\u001b[0m\u001b[1;33m\u001b[0m\u001b[0m\n\u001b[0;32m     48\u001b[0m \u001b[1;33m\u001b[0m\u001b[0m\n",
      "\u001b[1;32mC:\\ProgramData\\Anaconda3\\lib\\site-packages\\seaborn\\categorical.py\u001b[0m in \u001b[0;36mbarplot\u001b[1;34m(x, y, hue, data, order, hue_order, estimator, ci, n_boot, units, seed, orient, color, palette, saturation, errcolor, errwidth, capsize, dodge, ax, **kwargs)\u001b[0m\n\u001b[0;32m   3180\u001b[0m ):\n\u001b[0;32m   3181\u001b[0m \u001b[1;33m\u001b[0m\u001b[0m\n\u001b[1;32m-> 3182\u001b[1;33m     plotter = _BarPlotter(x, y, hue, data, order, hue_order,\n\u001b[0m\u001b[0;32m   3183\u001b[0m                           \u001b[0mestimator\u001b[0m\u001b[1;33m,\u001b[0m \u001b[0mci\u001b[0m\u001b[1;33m,\u001b[0m \u001b[0mn_boot\u001b[0m\u001b[1;33m,\u001b[0m \u001b[0munits\u001b[0m\u001b[1;33m,\u001b[0m \u001b[0mseed\u001b[0m\u001b[1;33m,\u001b[0m\u001b[1;33m\u001b[0m\u001b[1;33m\u001b[0m\u001b[0m\n\u001b[0;32m   3184\u001b[0m                           \u001b[0morient\u001b[0m\u001b[1;33m,\u001b[0m \u001b[0mcolor\u001b[0m\u001b[1;33m,\u001b[0m \u001b[0mpalette\u001b[0m\u001b[1;33m,\u001b[0m \u001b[0msaturation\u001b[0m\u001b[1;33m,\u001b[0m\u001b[1;33m\u001b[0m\u001b[1;33m\u001b[0m\u001b[0m\n",
      "\u001b[1;32mC:\\ProgramData\\Anaconda3\\lib\\site-packages\\seaborn\\categorical.py\u001b[0m in \u001b[0;36m__init__\u001b[1;34m(self, x, y, hue, data, order, hue_order, estimator, ci, n_boot, units, seed, orient, color, palette, saturation, errcolor, errwidth, capsize, dodge)\u001b[0m\n\u001b[0;32m   1582\u001b[0m                  errwidth, capsize, dodge):\n\u001b[0;32m   1583\u001b[0m         \u001b[1;34m\"\"\"Initialize the plotter.\"\"\"\u001b[0m\u001b[1;33m\u001b[0m\u001b[1;33m\u001b[0m\u001b[0m\n\u001b[1;32m-> 1584\u001b[1;33m         self.establish_variables(x, y, hue, data, orient,\n\u001b[0m\u001b[0;32m   1585\u001b[0m                                  order, hue_order, units)\n\u001b[0;32m   1586\u001b[0m         \u001b[0mself\u001b[0m\u001b[1;33m.\u001b[0m\u001b[0mestablish_colors\u001b[0m\u001b[1;33m(\u001b[0m\u001b[0mcolor\u001b[0m\u001b[1;33m,\u001b[0m \u001b[0mpalette\u001b[0m\u001b[1;33m,\u001b[0m \u001b[0msaturation\u001b[0m\u001b[1;33m)\u001b[0m\u001b[1;33m\u001b[0m\u001b[1;33m\u001b[0m\u001b[0m\n",
      "\u001b[1;32mC:\\ProgramData\\Anaconda3\\lib\\site-packages\\seaborn\\categorical.py\u001b[0m in \u001b[0;36mestablish_variables\u001b[1;34m(self, x, y, hue, data, orient, order, hue_order, units)\u001b[0m\n\u001b[0;32m    154\u001b[0m \u001b[1;33m\u001b[0m\u001b[0m\n\u001b[0;32m    155\u001b[0m             \u001b[1;31m# Figure out the plotting orientation\u001b[0m\u001b[1;33m\u001b[0m\u001b[1;33m\u001b[0m\u001b[0m\n\u001b[1;32m--> 156\u001b[1;33m             orient = infer_orient(\n\u001b[0m\u001b[0;32m    157\u001b[0m                 \u001b[0mx\u001b[0m\u001b[1;33m,\u001b[0m \u001b[0my\u001b[0m\u001b[1;33m,\u001b[0m \u001b[0morient\u001b[0m\u001b[1;33m,\u001b[0m \u001b[0mrequire_numeric\u001b[0m\u001b[1;33m=\u001b[0m\u001b[0mself\u001b[0m\u001b[1;33m.\u001b[0m\u001b[0mrequire_numeric\u001b[0m\u001b[1;33m\u001b[0m\u001b[1;33m\u001b[0m\u001b[0m\n\u001b[0;32m    158\u001b[0m             )\n",
      "\u001b[1;32mC:\\ProgramData\\Anaconda3\\lib\\site-packages\\seaborn\\_core.py\u001b[0m in \u001b[0;36minfer_orient\u001b[1;34m(x, y, orient, require_numeric)\u001b[0m\n\u001b[0;32m   1350\u001b[0m     \u001b[1;32melif\u001b[0m \u001b[0mrequire_numeric\u001b[0m \u001b[1;32mand\u001b[0m \u001b[1;34m\"numeric\"\u001b[0m \u001b[1;32mnot\u001b[0m \u001b[1;32min\u001b[0m \u001b[1;33m(\u001b[0m\u001b[0mx_type\u001b[0m\u001b[1;33m,\u001b[0m \u001b[0my_type\u001b[0m\u001b[1;33m)\u001b[0m\u001b[1;33m:\u001b[0m\u001b[1;33m\u001b[0m\u001b[1;33m\u001b[0m\u001b[0m\n\u001b[0;32m   1351\u001b[0m         \u001b[0merr\u001b[0m \u001b[1;33m=\u001b[0m \u001b[1;34m\"Neither the `x` nor `y` variable appears to be numeric.\"\u001b[0m\u001b[1;33m\u001b[0m\u001b[1;33m\u001b[0m\u001b[0m\n\u001b[1;32m-> 1352\u001b[1;33m         \u001b[1;32mraise\u001b[0m \u001b[0mTypeError\u001b[0m\u001b[1;33m(\u001b[0m\u001b[0merr\u001b[0m\u001b[1;33m)\u001b[0m\u001b[1;33m\u001b[0m\u001b[1;33m\u001b[0m\u001b[0m\n\u001b[0m\u001b[0;32m   1353\u001b[0m \u001b[1;33m\u001b[0m\u001b[0m\n\u001b[0;32m   1354\u001b[0m     \u001b[1;32melse\u001b[0m\u001b[1;33m:\u001b[0m\u001b[1;33m\u001b[0m\u001b[1;33m\u001b[0m\u001b[0m\n",
      "\u001b[1;31mTypeError\u001b[0m: Neither the `x` nor `y` variable appears to be numeric."
     ]
    },
    {
     "data": {
      "text/plain": [
       "<Figure size 720x432 with 0 Axes>"
      ]
     },
     "metadata": {},
     "output_type": "display_data"
    }
   ],
   "source": [
    "for i in df.columns:\n",
    "    plt.figure(figsize=(10,6))\n",
    "    sns.barplot(df['Loan_Status'],df[i],edgecolor='black',linewidth=3)"
   ]
  },
  {
   "cell_type": "markdown",
   "id": "29174bb7",
   "metadata": {},
   "source": [
    "# Finding null values\n"
   ]
  },
  {
   "cell_type": "code",
   "execution_count": 13,
   "id": "d8fbe1a4",
   "metadata": {},
   "outputs": [
    {
     "data": {
      "text/plain": [
       "Gender               13\n",
       "Married               3\n",
       "Dependents           15\n",
       "Education             0\n",
       "Self_Employed        32\n",
       "ApplicantIncome       0\n",
       "CoapplicantIncome     0\n",
       "LoanAmount           22\n",
       "Loan_Amount_Term     14\n",
       "Credit_History       50\n",
       "Property_Area         0\n",
       "Loan_Status           0\n",
       "dtype: int64"
      ]
     },
     "execution_count": 13,
     "metadata": {},
     "output_type": "execute_result"
    }
   ],
   "source": [
    "df.isnull().sum()    #To find null values\n"
   ]
  },
  {
   "cell_type": "markdown",
   "id": "34c762ab",
   "metadata": {},
   "source": [
    "# Missing values Imputaton\n"
   ]
  },
  {
   "cell_type": "code",
   "execution_count": 14,
   "id": "de2e7c48",
   "metadata": {},
   "outputs": [],
   "source": [
    "#Missing values handling using mean,mode,median\n",
    "\n",
    "df[\"Gender\"]=df[\"Gender\"].fillna(df[\"Gender\"].mode()[0])\n",
    "df[\"Married\"]=df[\"Married\"].fillna(df[\"Married\"].mode()[0])\n",
    "df[\"Dependents\"]=df[\"Dependents\"].fillna(df[\"Dependents\"].mode()[0])\n",
    "df[\"Self_Employed\"]=df[\"Self_Employed\"].fillna(df[\"Self_Employed\"].mode()[0])\n",
    "df[\"LoanAmount\"]=df[\"LoanAmount\"].fillna(df[\"LoanAmount\"].mode()[0])\n",
    "df[\"Loan_Amount_Term\"]=df[\"Loan_Amount_Term\"].fillna(df[\"Loan_Amount_Term\"].median())\n",
    "df[\"Credit_History\"]=df[\"Credit_History\"].fillna(df[\"Credit_History\"].median())"
   ]
  },
  {
   "cell_type": "code",
   "execution_count": 15,
   "id": "586ab6f9",
   "metadata": {},
   "outputs": [
    {
     "data": {
      "text/plain": [
       "<AxesSubplot:>"
      ]
     },
     "execution_count": 15,
     "metadata": {},
     "output_type": "execute_result"
    },
    {
     "data": {
      "image/png": "[encoded data removed]",
      "text/plain": [
       "<Figure size 432x288 with 2 Axes>"
      ]
     },
     "metadata": {
      "needs_background": "light"
     },
     "output_type": "display_data"
    }
   ],
   "source": [
    "sns.heatmap(df.isnull())\n"
   ]
  },
  {
   "cell_type": "markdown",
   "id": "a8deaa97",
   "metadata": {},
   "source": [
    "Hence there is no null values in the data\n"
   ]
  },
  {
   "cell_type": "markdown",
   "id": "ffde77a0",
   "metadata": {},
   "source": [
    "# Encoding Data using LabelEncoder()\n"
   ]
  },
  {
   "cell_type": "code",
   "execution_count": 16,
   "id": "5904a156",
   "metadata": {},
   "outputs": [],
   "source": [
    "df[\"Dependents\"]=df[\"Dependents\"].map(lambda x:x.rstrip(\"+\")) # removing + sign from dependant column\n",
    "df[\"Dependents\"]=df.Dependents.astype(float)     #To convert object type into float type"
   ]
  },
  {
   "cell_type": "code",
   "execution_count": 17,
   "id": "690b0565",
   "metadata": {},
   "outputs": [
    {
     "data": {
      "text/html": [
       "<div>\n",
       "<style scoped>\n",
       "    .dataframe tbody tr th:only-of-type {\n",
       "        vertical-align: middle;\n",
       "    }\n",
       "\n",
       "    .dataframe tbody tr th {\n",
       "        vertical-align: top;\n",
       "    }\n",
       "\n",
       "    .dataframe thead th {\n",
       "        text-align: right;\n",
       "    }\n",
       "</style>\n",
       "<table border=\"1\" class=\"dataframe\">\n",
       "  <thead>\n",
       "    <tr style=\"text-align: right;\">\n",
       "      <th></th>\n",
       "      <th>Gender</th>\n",
       "      <th>Married</th>\n",
       "      <th>Dependents</th>\n",
       "      <th>Education</th>\n",
       "      <th>Self_Employed</th>\n",
       "      <th>ApplicantIncome</th>\n",
       "      <th>CoapplicantIncome</th>\n",
       "      <th>LoanAmount</th>\n",
       "      <th>Loan_Amount_Term</th>\n",
       "      <th>Credit_History</th>\n",
       "      <th>Property_Area</th>\n",
       "      <th>Loan_Status</th>\n",
       "    </tr>\n",
       "  </thead>\n",
       "  <tbody>\n",
       "    <tr>\n",
       "      <th>0</th>\n",
       "      <td>1</td>\n",
       "      <td>0</td>\n",
       "      <td>0.0</td>\n",
       "      <td>0</td>\n",
       "      <td>0</td>\n",
       "      <td>5849</td>\n",
       "      <td>0.0</td>\n",
       "      <td>120.0</td>\n",
       "      <td>360.0</td>\n",
       "      <td>1.0</td>\n",
       "      <td>2</td>\n",
       "      <td>1</td>\n",
       "    </tr>\n",
       "    <tr>\n",
       "      <th>1</th>\n",
       "      <td>1</td>\n",
       "      <td>1</td>\n",
       "      <td>1.0</td>\n",
       "      <td>0</td>\n",
       "      <td>0</td>\n",
       "      <td>4583</td>\n",
       "      <td>1508.0</td>\n",
       "      <td>128.0</td>\n",
       "      <td>360.0</td>\n",
       "      <td>1.0</td>\n",
       "      <td>0</td>\n",
       "      <td>0</td>\n",
       "    </tr>\n",
       "    <tr>\n",
       "      <th>2</th>\n",
       "      <td>1</td>\n",
       "      <td>1</td>\n",
       "      <td>0.0</td>\n",
       "      <td>0</td>\n",
       "      <td>1</td>\n",
       "      <td>3000</td>\n",
       "      <td>0.0</td>\n",
       "      <td>66.0</td>\n",
       "      <td>360.0</td>\n",
       "      <td>1.0</td>\n",
       "      <td>2</td>\n",
       "      <td>1</td>\n",
       "    </tr>\n",
       "    <tr>\n",
       "      <th>3</th>\n",
       "      <td>1</td>\n",
       "      <td>1</td>\n",
       "      <td>0.0</td>\n",
       "      <td>1</td>\n",
       "      <td>0</td>\n",
       "      <td>2583</td>\n",
       "      <td>2358.0</td>\n",
       "      <td>120.0</td>\n",
       "      <td>360.0</td>\n",
       "      <td>1.0</td>\n",
       "      <td>2</td>\n",
       "      <td>1</td>\n",
       "    </tr>\n",
       "    <tr>\n",
       "      <th>4</th>\n",
       "      <td>1</td>\n",
       "      <td>0</td>\n",
       "      <td>0.0</td>\n",
       "      <td>0</td>\n",
       "      <td>0</td>\n",
       "      <td>6000</td>\n",
       "      <td>0.0</td>\n",
       "      <td>141.0</td>\n",
       "      <td>360.0</td>\n",
       "      <td>1.0</td>\n",
       "      <td>2</td>\n",
       "      <td>1</td>\n",
       "    </tr>\n",
       "    <tr>\n",
       "      <th>...</th>\n",
       "      <td>...</td>\n",
       "      <td>...</td>\n",
       "      <td>...</td>\n",
       "      <td>...</td>\n",
       "      <td>...</td>\n",
       "      <td>...</td>\n",
       "      <td>...</td>\n",
       "      <td>...</td>\n",
       "      <td>...</td>\n",
       "      <td>...</td>\n",
       "      <td>...</td>\n",
       "      <td>...</td>\n",
       "    </tr>\n",
       "    <tr>\n",
       "      <th>609</th>\n",
       "      <td>0</td>\n",
       "      <td>0</td>\n",
       "      <td>0.0</td>\n",
       "      <td>0</td>\n",
       "      <td>0</td>\n",
       "      <td>2900</td>\n",
       "      <td>0.0</td>\n",
       "      <td>71.0</td>\n",
       "      <td>360.0</td>\n",
       "      <td>1.0</td>\n",
       "      <td>0</td>\n",
       "      <td>1</td>\n",
       "    </tr>\n",
       "    <tr>\n",
       "      <th>610</th>\n",
       "      <td>1</td>\n",
       "      <td>1</td>\n",
       "      <td>3.0</td>\n",
       "      <td>0</td>\n",
       "      <td>0</td>\n",
       "      <td>4106</td>\n",
       "      <td>0.0</td>\n",
       "      <td>40.0</td>\n",
       "      <td>180.0</td>\n",
       "      <td>1.0</td>\n",
       "      <td>0</td>\n",
       "      <td>1</td>\n",
       "    </tr>\n",
       "    <tr>\n",
       "      <th>611</th>\n",
       "      <td>1</td>\n",
       "      <td>1</td>\n",
       "      <td>1.0</td>\n",
       "      <td>0</td>\n",
       "      <td>0</td>\n",
       "      <td>8072</td>\n",
       "      <td>240.0</td>\n",
       "      <td>253.0</td>\n",
       "      <td>360.0</td>\n",
       "      <td>1.0</td>\n",
       "      <td>2</td>\n",
       "      <td>1</td>\n",
       "    </tr>\n",
       "    <tr>\n",
       "      <th>612</th>\n",
       "      <td>1</td>\n",
       "      <td>1</td>\n",
       "      <td>2.0</td>\n",
       "      <td>0</td>\n",
       "      <td>0</td>\n",
       "      <td>7583</td>\n",
       "      <td>0.0</td>\n",
       "      <td>187.0</td>\n",
       "      <td>360.0</td>\n",
       "      <td>1.0</td>\n",
       "      <td>2</td>\n",
       "      <td>1</td>\n",
       "    </tr>\n",
       "    <tr>\n",
       "      <th>613</th>\n",
       "      <td>0</td>\n",
       "      <td>0</td>\n",
       "      <td>0.0</td>\n",
       "      <td>0</td>\n",
       "      <td>1</td>\n",
       "      <td>4583</td>\n",
       "      <td>0.0</td>\n",
       "      <td>133.0</td>\n",
       "      <td>360.0</td>\n",
       "      <td>0.0</td>\n",
       "      <td>1</td>\n",
       "      <td>0</td>\n",
       "    </tr>\n",
       "  </tbody>\n",
       "</table>\n",
       "<p>614 rows × 12 columns</p>\n",
       "</div>"
      ],
      "text/plain": [
       "     Gender  Married  Dependents  Education  Self_Employed  ApplicantIncome  \\\n",
       "0         1        0         0.0          0              0             5849   \n",
       "1         1        1         1.0          0              0             4583   \n",
       "2         1        1         0.0          0              1             3000   \n",
       "3         1        1         0.0          1              0             2583   \n",
       "4         1        0         0.0          0              0             6000   \n",
       "..      ...      ...         ...        ...            ...              ...   \n",
       "609       0        0         0.0          0              0             2900   \n",
       "610       1        1         3.0          0              0             4106   \n",
       "611       1        1         1.0          0              0             8072   \n",
       "612       1        1         2.0          0              0             7583   \n",
       "613       0        0         0.0          0              1             4583   \n",
       "\n",
       "     CoapplicantIncome  LoanAmount  Loan_Amount_Term  Credit_History  \\\n",
       "0                  0.0       120.0             360.0             1.0   \n",
       "1               1508.0       128.0             360.0             1.0   \n",
       "2                  0.0        66.0             360.0             1.0   \n",
       "3               2358.0       120.0             360.0             1.0   \n",
       "4                  0.0       141.0             360.0             1.0   \n",
       "..                 ...         ...               ...             ...   \n",
       "609                0.0        71.0             360.0             1.0   \n",
       "610                0.0        40.0             180.0             1.0   \n",
       "611              240.0       253.0             360.0             1.0   \n",
       "612                0.0       187.0             360.0             1.0   \n",
       "613                0.0       133.0             360.0             0.0   \n",
       "\n",
       "     Property_Area  Loan_Status  \n",
       "0                2            1  \n",
       "1                0            0  \n",
       "2                2            1  \n",
       "3                2            1  \n",
       "4                2            1  \n",
       "..             ...          ...  \n",
       "609              0            1  \n",
       "610              0            1  \n",
       "611              2            1  \n",
       "612              2            1  \n",
       "613              1            0  \n",
       "\n",
       "[614 rows x 12 columns]"
      ]
     },
     "execution_count": 17,
     "metadata": {},
     "output_type": "execute_result"
    }
   ],
   "source": [
    "LE=LabelEncoder()\n",
    "var=['Gender','Married','Education','Self_Employed','Property_Area','Loan_Status']\n",
    "for i in var:\n",
    "    df[i]=LE.fit_transform(df[i])\n",
    "df"
   ]
  },
  {
   "cell_type": "code",
   "execution_count": 18,
   "id": "f6a44a4f",
   "metadata": {},
   "outputs": [
    {
     "data": {
      "text/plain": [
       "Gender                 int32\n",
       "Married                int32\n",
       "Dependents           float64\n",
       "Education              int32\n",
       "Self_Employed          int32\n",
       "ApplicantIncome        int64\n",
       "CoapplicantIncome    float64\n",
       "LoanAmount           float64\n",
       "Loan_Amount_Term     float64\n",
       "Credit_History       float64\n",
       "Property_Area          int32\n",
       "Loan_Status            int32\n",
       "dtype: object"
      ]
     },
     "execution_count": 18,
     "metadata": {},
     "output_type": "execute_result"
    }
   ],
   "source": [
    "df.dtypes\n"
   ]
  },
  {
   "cell_type": "markdown",
   "id": "1121059a",
   "metadata": {},
   "source": [
    "Hence object type columns converted into float or int type\n"
   ]
  },
  {
   "cell_type": "markdown",
   "id": "7271d8e4",
   "metadata": {},
   "source": [
    "# Correlationship between features and labels\n"
   ]
  },
  {
   "cell_type": "code",
   "execution_count": 19,
   "id": "28a0b0e0",
   "metadata": {},
   "outputs": [
    {
     "data": {
      "text/html": [
       "<div>\n",
       "<style scoped>\n",
       "    .dataframe tbody tr th:only-of-type {\n",
       "        vertical-align: middle;\n",
       "    }\n",
       "\n",
       "    .dataframe tbody tr th {\n",
       "        vertical-align: top;\n",
       "    }\n",
       "\n",
       "    .dataframe thead th {\n",
       "        text-align: right;\n",
       "    }\n",
       "</style>\n",
       "<table border=\"1\" class=\"dataframe\">\n",
       "  <thead>\n",
       "    <tr style=\"text-align: right;\">\n",
       "      <th></th>\n",
       "      <th>Gender</th>\n",
       "      <th>Married</th>\n",
       "      <th>Dependents</th>\n",
       "      <th>Education</th>\n",
       "      <th>Self_Employed</th>\n",
       "      <th>ApplicantIncome</th>\n",
       "      <th>CoapplicantIncome</th>\n",
       "      <th>LoanAmount</th>\n",
       "      <th>Loan_Amount_Term</th>\n",
       "      <th>Credit_History</th>\n",
       "      <th>Property_Area</th>\n",
       "      <th>Loan_Status</th>\n",
       "    </tr>\n",
       "  </thead>\n",
       "  <tbody>\n",
       "    <tr>\n",
       "      <th>Gender</th>\n",
       "      <td>1.000000</td>\n",
       "      <td>0.364569</td>\n",
       "      <td>0.172914</td>\n",
       "      <td>0.045364</td>\n",
       "      <td>-0.000525</td>\n",
       "      <td>0.058809</td>\n",
       "      <td>0.082912</td>\n",
       "      <td>0.106404</td>\n",
       "      <td>-0.074030</td>\n",
       "      <td>0.009170</td>\n",
       "      <td>-0.025752</td>\n",
       "      <td>0.017987</td>\n",
       "    </tr>\n",
       "    <tr>\n",
       "      <th>Married</th>\n",
       "      <td>0.364569</td>\n",
       "      <td>1.000000</td>\n",
       "      <td>0.334216</td>\n",
       "      <td>0.012304</td>\n",
       "      <td>0.004489</td>\n",
       "      <td>0.051708</td>\n",
       "      <td>0.075948</td>\n",
       "      <td>0.146212</td>\n",
       "      <td>-0.100912</td>\n",
       "      <td>0.010938</td>\n",
       "      <td>0.004257</td>\n",
       "      <td>0.091478</td>\n",
       "    </tr>\n",
       "    <tr>\n",
       "      <th>Dependents</th>\n",
       "      <td>0.172914</td>\n",
       "      <td>0.334216</td>\n",
       "      <td>1.000000</td>\n",
       "      <td>0.055752</td>\n",
       "      <td>0.056798</td>\n",
       "      <td>0.118202</td>\n",
       "      <td>0.030430</td>\n",
       "      <td>0.163017</td>\n",
       "      <td>-0.103864</td>\n",
       "      <td>-0.040160</td>\n",
       "      <td>-0.000244</td>\n",
       "      <td>0.010118</td>\n",
       "    </tr>\n",
       "    <tr>\n",
       "      <th>Education</th>\n",
       "      <td>0.045364</td>\n",
       "      <td>0.012304</td>\n",
       "      <td>0.055752</td>\n",
       "      <td>1.000000</td>\n",
       "      <td>-0.010383</td>\n",
       "      <td>-0.140760</td>\n",
       "      <td>-0.062290</td>\n",
       "      <td>-0.169436</td>\n",
       "      <td>-0.073928</td>\n",
       "      <td>-0.073658</td>\n",
       "      <td>-0.065243</td>\n",
       "      <td>-0.085884</td>\n",
       "    </tr>\n",
       "    <tr>\n",
       "      <th>Self_Employed</th>\n",
       "      <td>-0.000525</td>\n",
       "      <td>0.004489</td>\n",
       "      <td>0.056798</td>\n",
       "      <td>-0.010383</td>\n",
       "      <td>1.000000</td>\n",
       "      <td>0.127180</td>\n",
       "      <td>-0.016100</td>\n",
       "      <td>0.114971</td>\n",
       "      <td>-0.033739</td>\n",
       "      <td>-0.001550</td>\n",
       "      <td>-0.030860</td>\n",
       "      <td>-0.003700</td>\n",
       "    </tr>\n",
       "    <tr>\n",
       "      <th>ApplicantIncome</th>\n",
       "      <td>0.058809</td>\n",
       "      <td>0.051708</td>\n",
       "      <td>0.118202</td>\n",
       "      <td>-0.140760</td>\n",
       "      <td>0.127180</td>\n",
       "      <td>1.000000</td>\n",
       "      <td>-0.116605</td>\n",
       "      <td>0.564698</td>\n",
       "      <td>-0.046531</td>\n",
       "      <td>-0.018615</td>\n",
       "      <td>-0.009500</td>\n",
       "      <td>-0.004710</td>\n",
       "    </tr>\n",
       "    <tr>\n",
       "      <th>CoapplicantIncome</th>\n",
       "      <td>0.082912</td>\n",
       "      <td>0.075948</td>\n",
       "      <td>0.030430</td>\n",
       "      <td>-0.062290</td>\n",
       "      <td>-0.016100</td>\n",
       "      <td>-0.116605</td>\n",
       "      <td>1.000000</td>\n",
       "      <td>0.189723</td>\n",
       "      <td>-0.059383</td>\n",
       "      <td>0.011134</td>\n",
       "      <td>0.010522</td>\n",
       "      <td>-0.059187</td>\n",
       "    </tr>\n",
       "    <tr>\n",
       "      <th>LoanAmount</th>\n",
       "      <td>0.106404</td>\n",
       "      <td>0.146212</td>\n",
       "      <td>0.163017</td>\n",
       "      <td>-0.169436</td>\n",
       "      <td>0.114971</td>\n",
       "      <td>0.564698</td>\n",
       "      <td>0.189723</td>\n",
       "      <td>1.000000</td>\n",
       "      <td>0.037152</td>\n",
       "      <td>-0.000250</td>\n",
       "      <td>-0.047414</td>\n",
       "      <td>-0.031808</td>\n",
       "    </tr>\n",
       "    <tr>\n",
       "      <th>Loan_Amount_Term</th>\n",
       "      <td>-0.074030</td>\n",
       "      <td>-0.100912</td>\n",
       "      <td>-0.103864</td>\n",
       "      <td>-0.073928</td>\n",
       "      <td>-0.033739</td>\n",
       "      <td>-0.046531</td>\n",
       "      <td>-0.059383</td>\n",
       "      <td>0.037152</td>\n",
       "      <td>1.000000</td>\n",
       "      <td>-0.004705</td>\n",
       "      <td>-0.076120</td>\n",
       "      <td>-0.022549</td>\n",
       "    </tr>\n",
       "    <tr>\n",
       "      <th>Credit_History</th>\n",
       "      <td>0.009170</td>\n",
       "      <td>0.010938</td>\n",
       "      <td>-0.040160</td>\n",
       "      <td>-0.073658</td>\n",
       "      <td>-0.001550</td>\n",
       "      <td>-0.018615</td>\n",
       "      <td>0.011134</td>\n",
       "      <td>-0.000250</td>\n",
       "      <td>-0.004705</td>\n",
       "      <td>1.000000</td>\n",
       "      <td>0.001963</td>\n",
       "      <td>0.540556</td>\n",
       "    </tr>\n",
       "    <tr>\n",
       "      <th>Property_Area</th>\n",
       "      <td>-0.025752</td>\n",
       "      <td>0.004257</td>\n",
       "      <td>-0.000244</td>\n",
       "      <td>-0.065243</td>\n",
       "      <td>-0.030860</td>\n",
       "      <td>-0.009500</td>\n",
       "      <td>0.010522</td>\n",
       "      <td>-0.047414</td>\n",
       "      <td>-0.076120</td>\n",
       "      <td>0.001963</td>\n",
       "      <td>1.000000</td>\n",
       "      <td>0.032112</td>\n",
       "    </tr>\n",
       "    <tr>\n",
       "      <th>Loan_Status</th>\n",
       "      <td>0.017987</td>\n",
       "      <td>0.091478</td>\n",
       "      <td>0.010118</td>\n",
       "      <td>-0.085884</td>\n",
       "      <td>-0.003700</td>\n",
       "      <td>-0.004710</td>\n",
       "      <td>-0.059187</td>\n",
       "      <td>-0.031808</td>\n",
       "      <td>-0.022549</td>\n",
       "      <td>0.540556</td>\n",
       "      <td>0.032112</td>\n",
       "      <td>1.000000</td>\n",
       "    </tr>\n",
       "  </tbody>\n",
       "</table>\n",
       "</div>"
      ],
      "text/plain": [
       "                     Gender   Married  Dependents  Education  Self_Employed  \\\n",
       "Gender             1.000000  0.364569    0.172914   0.045364      -0.000525   \n",
       "Married            0.364569  1.000000    0.334216   0.012304       0.004489   \n",
       "Dependents         0.172914  0.334216    1.000000   0.055752       0.056798   \n",
       "Education          0.045364  0.012304    0.055752   1.000000      -0.010383   \n",
       "Self_Employed     -0.000525  0.004489    0.056798  -0.010383       1.000000   \n",
       "ApplicantIncome    0.058809  0.051708    0.118202  -0.140760       0.127180   \n",
       "CoapplicantIncome  0.082912  0.075948    0.030430  -0.062290      -0.016100   \n",
       "LoanAmount         0.106404  0.146212    0.163017  -0.169436       0.114971   \n",
       "Loan_Amount_Term  -0.074030 -0.100912   -0.103864  -0.073928      -0.033739   \n",
       "Credit_History     0.009170  0.010938   -0.040160  -0.073658      -0.001550   \n",
       "Property_Area     -0.025752  0.004257   -0.000244  -0.065243      -0.030860   \n",
       "Loan_Status        0.017987  0.091478    0.010118  -0.085884      -0.003700   \n",
       "\n",
       "                   ApplicantIncome  CoapplicantIncome  LoanAmount  \\\n",
       "Gender                    0.058809           0.082912    0.106404   \n",
       "Married                   0.051708           0.075948    0.146212   \n",
       "Dependents                0.118202           0.030430    0.163017   \n",
       "Education                -0.140760          -0.062290   -0.169436   \n",
       "Self_Employed             0.127180          -0.016100    0.114971   \n",
       "ApplicantIncome           1.000000          -0.116605    0.564698   \n",
       "CoapplicantIncome        -0.116605           1.000000    0.189723   \n",
       "LoanAmount                0.564698           0.189723    1.000000   \n",
       "Loan_Amount_Term         -0.046531          -0.059383    0.037152   \n",
       "Credit_History           -0.018615           0.011134   -0.000250   \n",
       "Property_Area            -0.009500           0.010522   -0.047414   \n",
       "Loan_Status              -0.004710          -0.059187   -0.031808   \n",
       "\n",
       "                   Loan_Amount_Term  Credit_History  Property_Area  \\\n",
       "Gender                    -0.074030        0.009170      -0.025752   \n",
       "Married                   -0.100912        0.010938       0.004257   \n",
       "Dependents                -0.103864       -0.040160      -0.000244   \n",
       "Education                 -0.073928       -0.073658      -0.065243   \n",
       "Self_Employed             -0.033739       -0.001550      -0.030860   \n",
       "ApplicantIncome           -0.046531       -0.018615      -0.009500   \n",
       "CoapplicantIncome         -0.059383        0.011134       0.010522   \n",
       "LoanAmount                 0.037152       -0.000250      -0.047414   \n",
       "Loan_Amount_Term           1.000000       -0.004705      -0.076120   \n",
       "Credit_History            -0.004705        1.000000       0.001963   \n",
       "Property_Area             -0.076120        0.001963       1.000000   \n",
       "Loan_Status               -0.022549        0.540556       0.032112   \n",
       "\n",
       "                   Loan_Status  \n",
       "Gender                0.017987  \n",
       "Married               0.091478  \n",
       "Dependents            0.010118  \n",
       "Education            -0.085884  \n",
       "Self_Employed        -0.003700  \n",
       "ApplicantIncome      -0.004710  \n",
       "CoapplicantIncome    -0.059187  \n",
       "LoanAmount           -0.031808  \n",
       "Loan_Amount_Term     -0.022549  \n",
       "Credit_History        0.540556  \n",
       "Property_Area         0.032112  \n",
       "Loan_Status           1.000000  "
      ]
     },
     "execution_count": 19,
     "metadata": {},
     "output_type": "execute_result"
    }
   ],
   "source": [
    "df.corr()\n"
   ]
  },
  {
   "cell_type": "markdown",
   "id": "02beab1a",
   "metadata": {},
   "source": [
    "# Correlationship matrix\n"
   ]
  },
  {
   "cell_type": "code",
   "execution_count": 20,
   "id": "6dff3e7d",
   "metadata": {},
   "outputs": [
    {
     "data": {
      "text/plain": [
       "<AxesSubplot:>"
      ]
     },
     "execution_count": 20,
     "metadata": {},
     "output_type": "execute_result"
    },
    {
     "data": {
      "image/png": "[encoded data removed]",
      "text/plain": [
       "<Figure size 1440x576 with 2 Axes>"
      ]
     },
     "metadata": {
      "needs_background": "light"
     },
     "output_type": "display_data"
    }
   ],
   "source": [
    "plt.figure(figsize=(20,8))\n",
    "sns.heatmap(df.corr(),annot=True)"
   ]
  },
  {
   "cell_type": "markdown",
   "id": "6b4d1050",
   "metadata": {},
   "source": [
    "The above matrix shows positive and negetive correlationship between features and labels\n"
   ]
  },
  {
   "cell_type": "markdown",
   "id": "56eb1dc3",
   "metadata": {},
   "source": [
    "# Finding skewness in the Data\n"
   ]
  },
  {
   "cell_type": "code",
   "execution_count": 21,
   "id": "f8d50a6f",
   "metadata": {},
   "outputs": [
    {
     "data": {
      "text/plain": [
       "array([[<AxesSubplot:ylabel='Density'>, <AxesSubplot:ylabel='Density'>,\n",
       "        <AxesSubplot:ylabel='Density'>, <AxesSubplot:ylabel='Density'>,\n",
       "        <AxesSubplot:ylabel='Density'>, <AxesSubplot:ylabel='Density'>],\n",
       "       [<AxesSubplot:ylabel='Density'>, <AxesSubplot:ylabel='Density'>,\n",
       "        <AxesSubplot:ylabel='Density'>, <AxesSubplot:ylabel='Density'>,\n",
       "        <AxesSubplot:ylabel='Density'>, <AxesSubplot:ylabel='Density'>],\n",
       "       [<AxesSubplot:ylabel='Density'>, <AxesSubplot:ylabel='Density'>,\n",
       "        <AxesSubplot:ylabel='Density'>, <AxesSubplot:ylabel='Density'>,\n",
       "        <AxesSubplot:ylabel='Density'>, <AxesSubplot:ylabel='Density'>],\n",
       "       [<AxesSubplot:ylabel='Density'>, <AxesSubplot:ylabel='Density'>,\n",
       "        <AxesSubplot:ylabel='Density'>, <AxesSubplot:ylabel='Density'>,\n",
       "        <AxesSubplot:ylabel='Density'>, <AxesSubplot:ylabel='Density'>],\n",
       "       [<AxesSubplot:ylabel='Density'>, <AxesSubplot:ylabel='Density'>,\n",
       "        <AxesSubplot:ylabel='Density'>, <AxesSubplot:ylabel='Density'>,\n",
       "        <AxesSubplot:ylabel='Density'>, <AxesSubplot:ylabel='Density'>],\n",
       "       [<AxesSubplot:ylabel='Density'>, <AxesSubplot:ylabel='Density'>,\n",
       "        <AxesSubplot:ylabel='Density'>, <AxesSubplot:ylabel='Density'>,\n",
       "        <AxesSubplot:ylabel='Density'>, <AxesSubplot:ylabel='Density'>]],\n",
       "      dtype=object)"
      ]
     },
     "execution_count": 21,
     "metadata": {},
     "output_type": "execute_result"
    },
    {
     "data": {
      "image/png": "[encoded data removed]",
      "text/plain": [
       "<Figure size 1296x1296 with 36 Axes>"
      ]
     },
     "metadata": {
      "needs_background": "light"
     },
     "output_type": "display_data"
    }
   ],
   "source": [
    "df.plot(kind='density',subplots=True,layout=(6,6),sharex=False,figsize=(18,18),fontsize=1,legend=True)\n"
   ]
  },
  {
   "cell_type": "code",
   "execution_count": 22,
   "id": "91d3dc56",
   "metadata": {},
   "outputs": [
    {
     "data": {
      "text/plain": [
       "Loan_Amount_Term    -2.402112\n",
       "Credit_History      -2.021971\n",
       "Gender              -1.648795\n",
       "Loan_Status         -0.809998\n",
       "Married             -0.644850\n",
       "Property_Area       -0.066196\n",
       "Dependents           1.015551\n",
       "Education            1.367622\n",
       "Self_Employed        2.159796\n",
       "LoanAmount           2.745407\n",
       "ApplicantIncome      6.539513\n",
       "CoapplicantIncome    7.491531\n",
       "dtype: float64"
      ]
     },
     "execution_count": 22,
     "metadata": {},
     "output_type": "execute_result"
    }
   ],
   "source": [
    "df.skew().sort_values()  #skewed values\n"
   ]
  },
  {
   "cell_type": "markdown",
   "id": "5ef7e9a9",
   "metadata": {},
   "source": [
    "# Plotting Distribution plot\n"
   ]
  },
  {
   "cell_type": "code",
   "execution_count": 23,
   "id": "77485aa1",
   "metadata": {},
   "outputs": [
    {
     "data": {
      "image/png": "[encoded data removed]",
      "text/plain": [
       "<Figure size 1152x864 with 12 Axes>"
      ]
     },
     "metadata": {},
     "output_type": "display_data"
    }
   ],
   "source": [
    "plt.figure(figsize=(16,12),facecolor='yellow')\n",
    "plotnumber=1\n",
    "for column in df:\n",
    "    if plotnumber<=12:\n",
    "        ax=plt.subplot(3,4,plotnumber)\n",
    "        sns.distplot(df[column])\n",
    "        plt.xlabel(column,fontsize=20)\n",
    "        \n",
    "        plotnumber+=1\n",
    "    plt.tight_layout()"
   ]
  },
  {
   "cell_type": "markdown",
   "id": "cd020c3f",
   "metadata": {},
   "source": [
    "# Finding Outliers\n"
   ]
  },
  {
   "cell_type": "code",
   "execution_count": 24,
   "id": "f3e87767",
   "metadata": {},
   "outputs": [
    {
     "data": {
      "image/png": "[encoded data removed]",
      "text/plain": [
       "<Figure size 1440x864 with 1 Axes>"
      ]
     },
     "metadata": {
      "needs_background": "light"
     },
     "output_type": "display_data"
    }
   ],
   "source": [
    "df.boxplot(figsize=(20,12))\n",
    "plt.subplots_adjust(bottom=0.5)"
   ]
  },
  {
   "cell_type": "markdown",
   "id": "82e91925",
   "metadata": {},
   "source": [
    "Hence we have found outliers in more than 2 columns,so we have to remove\n"
   ]
  },
  {
   "cell_type": "markdown",
   "id": "be03c496",
   "metadata": {},
   "source": [
    "# Removing Outliers\n"
   ]
  },
  {
   "cell_type": "code",
   "execution_count": 25,
   "id": "737bcab2",
   "metadata": {},
   "outputs": [
    {
     "data": {
      "text/plain": [
       "Gender                True\n",
       "Married               True\n",
       "Dependents            True\n",
       "Education             True\n",
       "Self_Employed         True\n",
       "ApplicantIncome      False\n",
       "CoapplicantIncome    False\n",
       "LoanAmount           False\n",
       "Loan_Amount_Term      True\n",
       "Credit_History        True\n",
       "Property_Area         True\n",
       "Loan_Status           True\n",
       "dtype: bool"
      ]
     },
     "execution_count": 25,
     "metadata": {},
     "output_type": "execute_result"
    }
   ],
   "source": [
    "(np.abs(zscore(df)<3)).all()\n"
   ]
  },
  {
   "cell_type": "code",
   "execution_count": 26,
   "id": "0edbc7f7",
   "metadata": {},
   "outputs": [
    {
     "data": {
      "text/plain": [
       "(array([  0,   0,   0, ..., 613, 613, 613], dtype=int64),\n",
       " array([ 0,  1,  2, ...,  9, 10, 11], dtype=int64))"
      ]
     },
     "execution_count": 26,
     "metadata": {},
     "output_type": "execute_result"
    }
   ],
   "source": [
    "scores = np.abs(zscore(df))\n",
    "t = 3\n",
    "np.where(scores<3)"
   ]
  },
  {
   "cell_type": "code",
   "execution_count": 27,
   "id": "bdbcb2a8",
   "metadata": {},
   "outputs": [
    {
     "name": "stdout",
     "output_type": "stream",
     "text": [
      "(614, 12)\n",
      "(577, 12)\n"
     ]
    }
   ],
   "source": [
    "new_df = df[(scores<3).all(axis=1)]\n",
    "print(df.shape)\n",
    "print(new_df.shape)"
   ]
  },
  {
   "cell_type": "markdown",
   "id": "07733d96",
   "metadata": {},
   "source": [
    "# Removing skewness"
   ]
  },
  {
   "cell_type": "code",
   "execution_count": 28,
   "id": "a883d9b4",
   "metadata": {},
   "outputs": [
    {
     "data": {
      "text/plain": [
       "Gender              -1.622920\n",
       "Married             -0.630211\n",
       "Dependents           1.052106\n",
       "Education            1.306588\n",
       "Self_Employed        2.252848\n",
       "ApplicantIncome      2.148522\n",
       "CoapplicantIncome    1.350517\n",
       "LoanAmount           1.163426\n",
       "Loan_Amount_Term    -2.098806\n",
       "Credit_History      -1.976043\n",
       "Property_Area       -0.055332\n",
       "Loan_Status         -0.822635\n",
       "dtype: float64"
      ]
     },
     "execution_count": 28,
     "metadata": {},
     "output_type": "execute_result"
    }
   ],
   "source": [
    "new_df.skew()\n"
   ]
  },
  {
   "cell_type": "code",
   "execution_count": 29,
   "id": "403478df",
   "metadata": {},
   "outputs": [
    {
     "data": {
      "text/html": [
       "<div>\n",
       "<style scoped>\n",
       "    .dataframe tbody tr th:only-of-type {\n",
       "        vertical-align: middle;\n",
       "    }\n",
       "\n",
       "    .dataframe tbody tr th {\n",
       "        vertical-align: top;\n",
       "    }\n",
       "\n",
       "    .dataframe thead th {\n",
       "        text-align: right;\n",
       "    }\n",
       "</style>\n",
       "<table border=\"1\" class=\"dataframe\">\n",
       "  <thead>\n",
       "    <tr style=\"text-align: right;\">\n",
       "      <th></th>\n",
       "      <th>Gender</th>\n",
       "      <th>Married</th>\n",
       "      <th>Dependents</th>\n",
       "      <th>Education</th>\n",
       "      <th>Self_Employed</th>\n",
       "      <th>ApplicantIncome</th>\n",
       "      <th>CoapplicantIncome</th>\n",
       "      <th>LoanAmount</th>\n",
       "      <th>Loan_Amount_Term</th>\n",
       "      <th>Credit_History</th>\n",
       "      <th>Property_Area</th>\n",
       "    </tr>\n",
       "  </thead>\n",
       "  <tbody>\n",
       "    <tr>\n",
       "      <th>0</th>\n",
       "      <td>1</td>\n",
       "      <td>0</td>\n",
       "      <td>0.0</td>\n",
       "      <td>0</td>\n",
       "      <td>0</td>\n",
       "      <td>5849</td>\n",
       "      <td>0.0</td>\n",
       "      <td>120.0</td>\n",
       "      <td>360.0</td>\n",
       "      <td>1.0</td>\n",
       "      <td>2</td>\n",
       "    </tr>\n",
       "    <tr>\n",
       "      <th>1</th>\n",
       "      <td>1</td>\n",
       "      <td>1</td>\n",
       "      <td>1.0</td>\n",
       "      <td>0</td>\n",
       "      <td>0</td>\n",
       "      <td>4583</td>\n",
       "      <td>1508.0</td>\n",
       "      <td>128.0</td>\n",
       "      <td>360.0</td>\n",
       "      <td>1.0</td>\n",
       "      <td>0</td>\n",
       "    </tr>\n",
       "    <tr>\n",
       "      <th>2</th>\n",
       "      <td>1</td>\n",
       "      <td>1</td>\n",
       "      <td>0.0</td>\n",
       "      <td>0</td>\n",
       "      <td>1</td>\n",
       "      <td>3000</td>\n",
       "      <td>0.0</td>\n",
       "      <td>66.0</td>\n",
       "      <td>360.0</td>\n",
       "      <td>1.0</td>\n",
       "      <td>2</td>\n",
       "    </tr>\n",
       "    <tr>\n",
       "      <th>3</th>\n",
       "      <td>1</td>\n",
       "      <td>1</td>\n",
       "      <td>0.0</td>\n",
       "      <td>1</td>\n",
       "      <td>0</td>\n",
       "      <td>2583</td>\n",
       "      <td>2358.0</td>\n",
       "      <td>120.0</td>\n",
       "      <td>360.0</td>\n",
       "      <td>1.0</td>\n",
       "      <td>2</td>\n",
       "    </tr>\n",
       "    <tr>\n",
       "      <th>4</th>\n",
       "      <td>1</td>\n",
       "      <td>0</td>\n",
       "      <td>0.0</td>\n",
       "      <td>0</td>\n",
       "      <td>0</td>\n",
       "      <td>6000</td>\n",
       "      <td>0.0</td>\n",
       "      <td>141.0</td>\n",
       "      <td>360.0</td>\n",
       "      <td>1.0</td>\n",
       "      <td>2</td>\n",
       "    </tr>\n",
       "    <tr>\n",
       "      <th>...</th>\n",
       "      <td>...</td>\n",
       "      <td>...</td>\n",
       "      <td>...</td>\n",
       "      <td>...</td>\n",
       "      <td>...</td>\n",
       "      <td>...</td>\n",
       "      <td>...</td>\n",
       "      <td>...</td>\n",
       "      <td>...</td>\n",
       "      <td>...</td>\n",
       "      <td>...</td>\n",
       "    </tr>\n",
       "    <tr>\n",
       "      <th>609</th>\n",
       "      <td>0</td>\n",
       "      <td>0</td>\n",
       "      <td>0.0</td>\n",
       "      <td>0</td>\n",
       "      <td>0</td>\n",
       "      <td>2900</td>\n",
       "      <td>0.0</td>\n",
       "      <td>71.0</td>\n",
       "      <td>360.0</td>\n",
       "      <td>1.0</td>\n",
       "      <td>0</td>\n",
       "    </tr>\n",
       "    <tr>\n",
       "      <th>610</th>\n",
       "      <td>1</td>\n",
       "      <td>1</td>\n",
       "      <td>3.0</td>\n",
       "      <td>0</td>\n",
       "      <td>0</td>\n",
       "      <td>4106</td>\n",
       "      <td>0.0</td>\n",
       "      <td>40.0</td>\n",
       "      <td>180.0</td>\n",
       "      <td>1.0</td>\n",
       "      <td>0</td>\n",
       "    </tr>\n",
       "    <tr>\n",
       "      <th>611</th>\n",
       "      <td>1</td>\n",
       "      <td>1</td>\n",
       "      <td>1.0</td>\n",
       "      <td>0</td>\n",
       "      <td>0</td>\n",
       "      <td>8072</td>\n",
       "      <td>240.0</td>\n",
       "      <td>253.0</td>\n",
       "      <td>360.0</td>\n",
       "      <td>1.0</td>\n",
       "      <td>2</td>\n",
       "    </tr>\n",
       "    <tr>\n",
       "      <th>612</th>\n",
       "      <td>1</td>\n",
       "      <td>1</td>\n",
       "      <td>2.0</td>\n",
       "      <td>0</td>\n",
       "      <td>0</td>\n",
       "      <td>7583</td>\n",
       "      <td>0.0</td>\n",
       "      <td>187.0</td>\n",
       "      <td>360.0</td>\n",
       "      <td>1.0</td>\n",
       "      <td>2</td>\n",
       "    </tr>\n",
       "    <tr>\n",
       "      <th>613</th>\n",
       "      <td>0</td>\n",
       "      <td>0</td>\n",
       "      <td>0.0</td>\n",
       "      <td>0</td>\n",
       "      <td>1</td>\n",
       "      <td>4583</td>\n",
       "      <td>0.0</td>\n",
       "      <td>133.0</td>\n",
       "      <td>360.0</td>\n",
       "      <td>0.0</td>\n",
       "      <td>1</td>\n",
       "    </tr>\n",
       "  </tbody>\n",
       "</table>\n",
       "<p>577 rows × 11 columns</p>\n",
       "</div>"
      ],
      "text/plain": [
       "     Gender  Married  Dependents  Education  Self_Employed  ApplicantIncome  \\\n",
       "0         1        0         0.0          0              0             5849   \n",
       "1         1        1         1.0          0              0             4583   \n",
       "2         1        1         0.0          0              1             3000   \n",
       "3         1        1         0.0          1              0             2583   \n",
       "4         1        0         0.0          0              0             6000   \n",
       "..      ...      ...         ...        ...            ...              ...   \n",
       "609       0        0         0.0          0              0             2900   \n",
       "610       1        1         3.0          0              0             4106   \n",
       "611       1        1         1.0          0              0             8072   \n",
       "612       1        1         2.0          0              0             7583   \n",
       "613       0        0         0.0          0              1             4583   \n",
       "\n",
       "     CoapplicantIncome  LoanAmount  Loan_Amount_Term  Credit_History  \\\n",
       "0                  0.0       120.0             360.0             1.0   \n",
       "1               1508.0       128.0             360.0             1.0   \n",
       "2                  0.0        66.0             360.0             1.0   \n",
       "3               2358.0       120.0             360.0             1.0   \n",
       "4                  0.0       141.0             360.0             1.0   \n",
       "..                 ...         ...               ...             ...   \n",
       "609                0.0        71.0             360.0             1.0   \n",
       "610                0.0        40.0             180.0             1.0   \n",
       "611              240.0       253.0             360.0             1.0   \n",
       "612                0.0       187.0             360.0             1.0   \n",
       "613                0.0       133.0             360.0             0.0   \n",
       "\n",
       "     Property_Area  \n",
       "0                2  \n",
       "1                0  \n",
       "2                2  \n",
       "3                2  \n",
       "4                2  \n",
       "..             ...  \n",
       "609              0  \n",
       "610              0  \n",
       "611              2  \n",
       "612              2  \n",
       "613              1  \n",
       "\n",
       "[577 rows x 11 columns]"
      ]
     },
     "execution_count": 29,
     "metadata": {},
     "output_type": "execute_result"
    }
   ],
   "source": [
    "X=new_df.drop(\"Loan_Status\",axis=1)\n",
    "y=new_df[\"Loan_Status\"]\n",
    "X"
   ]
  },
  {
   "cell_type": "code",
   "execution_count": 30,
   "id": "489d8106",
   "metadata": {},
   "outputs": [
    {
     "data": {
      "text/plain": [
       "0      1\n",
       "1      0\n",
       "2      1\n",
       "3      1\n",
       "4      1\n",
       "      ..\n",
       "609    1\n",
       "610    1\n",
       "611    1\n",
       "612    1\n",
       "613    0\n",
       "Name: Loan_Status, Length: 577, dtype: int32"
      ]
     },
     "execution_count": 30,
     "metadata": {},
     "output_type": "execute_result"
    }
   ],
   "source": [
    "y"
   ]
  },
  {
   "cell_type": "code",
   "execution_count": 31,
   "id": "7cdb75ce",
   "metadata": {},
   "outputs": [],
   "source": [
    "x_new=np.sqrt(X[X.columns])"
   ]
  },
  {
   "cell_type": "code",
   "execution_count": 32,
   "id": "89bae5bd",
   "metadata": {},
   "outputs": [
    {
     "data": {
      "text/plain": [
       "Gender              -1.622920\n",
       "Married             -0.630211\n",
       "Dependents           0.610338\n",
       "Education            1.306588\n",
       "Self_Employed        2.252848\n",
       "ApplicantIncome      1.208613\n",
       "CoapplicantIncome    0.207591\n",
       "LoanAmount           0.376128\n",
       "Loan_Amount_Term    -2.473358\n",
       "Credit_History      -1.976043\n",
       "Property_Area       -0.598165\n",
       "dtype: float64"
      ]
     },
     "execution_count": 32,
     "metadata": {},
     "output_type": "execute_result"
    }
   ],
   "source": [
    "x_new.skew()\n"
   ]
  },
  {
   "cell_type": "markdown",
   "id": "afb768ac",
   "metadata": {},
   "source": [
    "# Pre-processing model\n"
   ]
  },
  {
   "cell_type": "code",
   "execution_count": 33,
   "id": "9e91e9ab",
   "metadata": {},
   "outputs": [
    {
     "data": {
      "text/plain": [
       "array([[ 0.47713685, -1.36251079, -0.81649549, ...,  0.13076798,\n",
       "         0.41851254,  1.10166321],\n",
       "       [ 0.47713685,  0.73393914,  1.04393001, ...,  0.13076798,\n",
       "         0.41851254, -1.41497784],\n",
       "       [ 0.47713685,  0.73393914, -0.81649549, ...,  0.13076798,\n",
       "         0.41851254,  1.10166321],\n",
       "       ...,\n",
       "       [ 0.47713685,  0.73393914,  1.04393001, ...,  0.13076798,\n",
       "         0.41851254,  1.10166321],\n",
       "       [ 0.47713685,  0.73393914,  1.28826074, ...,  0.13076798,\n",
       "         0.41851254,  1.10166321],\n",
       "       [-2.09583477, -1.36251079, -0.81649549, ...,  0.13076798,\n",
       "        -2.38941464,  0.1555155 ]])"
      ]
     },
     "execution_count": 33,
     "metadata": {},
     "output_type": "execute_result"
    }
   ],
   "source": [
    "x_new=power_transform(x_new)   \n",
    "x_new"
   ]
  },
  {
   "cell_type": "markdown",
   "id": "a92fbba6",
   "metadata": {},
   "source": [
    "# Scatter relation between features and labels"
   ]
  },
  {
   "cell_type": "code",
   "execution_count": 35,
   "id": "678bc144",
   "metadata": {},
   "outputs": [
    {
     "data": {
      "image/png": "[encoded data removed]",
      "text/plain": [
       "<Figure size 1152x864 with 12 Axes>"
      ]
     },
     "metadata": {},
     "output_type": "display_data"
    }
   ],
   "source": [
    "plt.figure(figsize=(16,12),facecolor='yellow')\n",
    "plotnumber=1\n",
    "for column in df:\n",
    "    if plotnumber<=12:\n",
    "        ax=plt.subplot(3,4,plotnumber)\n",
    "        plt.scatter(df[column],df['Loan_Status'])\n",
    "        plt.xlabel(column,fontsize=10)\n",
    "        plt.ylabel('Loan Status',fontsize=10)\n",
    "        \n",
    "        plotnumber+=1\n",
    "    plt.tight_layout()"
   ]
  },
  {
   "cell_type": "markdown",
   "id": "a5534270",
   "metadata": {},
   "source": [
    "# Scaling Data\n"
   ]
  },
  {
   "cell_type": "code",
   "execution_count": 36,
   "id": "85e152ed",
   "metadata": {},
   "outputs": [
    {
     "data": {
      "text/html": [
       "<div>\n",
       "<style scoped>\n",
       "    .dataframe tbody tr th:only-of-type {\n",
       "        vertical-align: middle;\n",
       "    }\n",
       "\n",
       "    .dataframe tbody tr th {\n",
       "        vertical-align: top;\n",
       "    }\n",
       "\n",
       "    .dataframe thead th {\n",
       "        text-align: right;\n",
       "    }\n",
       "</style>\n",
       "<table border=\"1\" class=\"dataframe\">\n",
       "  <thead>\n",
       "    <tr style=\"text-align: right;\">\n",
       "      <th></th>\n",
       "      <th>Gender</th>\n",
       "      <th>Married</th>\n",
       "      <th>Dependents</th>\n",
       "      <th>Education</th>\n",
       "      <th>Self_Employed</th>\n",
       "      <th>ApplicantIncome</th>\n",
       "      <th>CoapplicantIncome</th>\n",
       "      <th>LoanAmount</th>\n",
       "      <th>Loan_Amount_Term</th>\n",
       "      <th>Credit_History</th>\n",
       "      <th>Property_Area</th>\n",
       "    </tr>\n",
       "  </thead>\n",
       "  <tbody>\n",
       "    <tr>\n",
       "      <th>0</th>\n",
       "      <td>0.477137</td>\n",
       "      <td>-1.362511</td>\n",
       "      <td>-0.816495</td>\n",
       "      <td>-0.541961</td>\n",
       "      <td>-0.380580</td>\n",
       "      <td>0.683009</td>\n",
       "      <td>-1.123200</td>\n",
       "      <td>-0.145061</td>\n",
       "      <td>0.130768</td>\n",
       "      <td>0.418513</td>\n",
       "      <td>1.101663</td>\n",
       "    </tr>\n",
       "    <tr>\n",
       "      <th>1</th>\n",
       "      <td>0.477137</td>\n",
       "      <td>0.733939</td>\n",
       "      <td>1.043930</td>\n",
       "      <td>-0.541961</td>\n",
       "      <td>-0.380580</td>\n",
       "      <td>0.236029</td>\n",
       "      <td>0.747018</td>\n",
       "      <td>0.009214</td>\n",
       "      <td>0.130768</td>\n",
       "      <td>0.418513</td>\n",
       "      <td>-1.414978</td>\n",
       "    </tr>\n",
       "    <tr>\n",
       "      <th>2</th>\n",
       "      <td>0.477137</td>\n",
       "      <td>0.733939</td>\n",
       "      <td>-0.816495</td>\n",
       "      <td>-0.541961</td>\n",
       "      <td>2.627567</td>\n",
       "      <td>-0.527023</td>\n",
       "      <td>-1.123200</td>\n",
       "      <td>-1.433345</td>\n",
       "      <td>0.130768</td>\n",
       "      <td>0.418513</td>\n",
       "      <td>1.101663</td>\n",
       "    </tr>\n",
       "    <tr>\n",
       "      <th>3</th>\n",
       "      <td>0.477137</td>\n",
       "      <td>0.733939</td>\n",
       "      <td>-0.816495</td>\n",
       "      <td>1.845150</td>\n",
       "      <td>-0.380580</td>\n",
       "      <td>-0.792426</td>\n",
       "      <td>0.895177</td>\n",
       "      <td>-0.145061</td>\n",
       "      <td>0.130768</td>\n",
       "      <td>0.418513</td>\n",
       "      <td>1.101663</td>\n",
       "    </tr>\n",
       "    <tr>\n",
       "      <th>4</th>\n",
       "      <td>0.477137</td>\n",
       "      <td>-1.362511</td>\n",
       "      <td>-0.816495</td>\n",
       "      <td>-0.541961</td>\n",
       "      <td>-0.380580</td>\n",
       "      <td>0.730044</td>\n",
       "      <td>-1.123200</td>\n",
       "      <td>0.246407</td>\n",
       "      <td>0.130768</td>\n",
       "      <td>0.418513</td>\n",
       "      <td>1.101663</td>\n",
       "    </tr>\n",
       "    <tr>\n",
       "      <th>...</th>\n",
       "      <td>...</td>\n",
       "      <td>...</td>\n",
       "      <td>...</td>\n",
       "      <td>...</td>\n",
       "      <td>...</td>\n",
       "      <td>...</td>\n",
       "      <td>...</td>\n",
       "      <td>...</td>\n",
       "      <td>...</td>\n",
       "      <td>...</td>\n",
       "      <td>...</td>\n",
       "    </tr>\n",
       "    <tr>\n",
       "      <th>572</th>\n",
       "      <td>-2.095835</td>\n",
       "      <td>-1.362511</td>\n",
       "      <td>-0.816495</td>\n",
       "      <td>-0.541961</td>\n",
       "      <td>-0.380580</td>\n",
       "      <td>-0.587331</td>\n",
       "      <td>-1.123200</td>\n",
       "      <td>-1.288849</td>\n",
       "      <td>0.130768</td>\n",
       "      <td>0.418513</td>\n",
       "      <td>-1.414978</td>\n",
       "    </tr>\n",
       "    <tr>\n",
       "      <th>573</th>\n",
       "      <td>0.477137</td>\n",
       "      <td>0.733939</td>\n",
       "      <td>1.414106</td>\n",
       "      <td>-0.541961</td>\n",
       "      <td>-0.380580</td>\n",
       "      <td>0.036476</td>\n",
       "      <td>-1.123200</td>\n",
       "      <td>-2.337524</td>\n",
       "      <td>-2.563235</td>\n",
       "      <td>0.418513</td>\n",
       "      <td>-1.414978</td>\n",
       "    </tr>\n",
       "    <tr>\n",
       "      <th>574</th>\n",
       "      <td>0.477137</td>\n",
       "      <td>0.733939</td>\n",
       "      <td>1.043930</td>\n",
       "      <td>-0.541961</td>\n",
       "      <td>-0.380580</td>\n",
       "      <td>1.281967</td>\n",
       "      <td>0.197613</td>\n",
       "      <td>1.843996</td>\n",
       "      <td>0.130768</td>\n",
       "      <td>0.418513</td>\n",
       "      <td>1.101663</td>\n",
       "    </tr>\n",
       "    <tr>\n",
       "      <th>575</th>\n",
       "      <td>0.477137</td>\n",
       "      <td>0.733939</td>\n",
       "      <td>1.288261</td>\n",
       "      <td>-0.541961</td>\n",
       "      <td>-0.380580</td>\n",
       "      <td>1.165002</td>\n",
       "      <td>-1.123200</td>\n",
       "      <td>0.981517</td>\n",
       "      <td>0.130768</td>\n",
       "      <td>0.418513</td>\n",
       "      <td>1.101663</td>\n",
       "    </tr>\n",
       "    <tr>\n",
       "      <th>576</th>\n",
       "      <td>-2.095835</td>\n",
       "      <td>-1.362511</td>\n",
       "      <td>-0.816495</td>\n",
       "      <td>-0.541961</td>\n",
       "      <td>2.627567</td>\n",
       "      <td>0.236029</td>\n",
       "      <td>-1.123200</td>\n",
       "      <td>0.102312</td>\n",
       "      <td>0.130768</td>\n",
       "      <td>-2.389415</td>\n",
       "      <td>0.155515</td>\n",
       "    </tr>\n",
       "  </tbody>\n",
       "</table>\n",
       "<p>577 rows × 11 columns</p>\n",
       "</div>"
      ],
      "text/plain": [
       "       Gender   Married  Dependents  Education  Self_Employed  \\\n",
       "0    0.477137 -1.362511   -0.816495  -0.541961      -0.380580   \n",
       "1    0.477137  0.733939    1.043930  -0.541961      -0.380580   \n",
       "2    0.477137  0.733939   -0.816495  -0.541961       2.627567   \n",
       "3    0.477137  0.733939   -0.816495   1.845150      -0.380580   \n",
       "4    0.477137 -1.362511   -0.816495  -0.541961      -0.380580   \n",
       "..        ...       ...         ...        ...            ...   \n",
       "572 -2.095835 -1.362511   -0.816495  -0.541961      -0.380580   \n",
       "573  0.477137  0.733939    1.414106  -0.541961      -0.380580   \n",
       "574  0.477137  0.733939    1.043930  -0.541961      -0.380580   \n",
       "575  0.477137  0.733939    1.288261  -0.541961      -0.380580   \n",
       "576 -2.095835 -1.362511   -0.816495  -0.541961       2.627567   \n",
       "\n",
       "     ApplicantIncome  CoapplicantIncome  LoanAmount  Loan_Amount_Term  \\\n",
       "0           0.683009          -1.123200   -0.145061          0.130768   \n",
       "1           0.236029           0.747018    0.009214          0.130768   \n",
       "2          -0.527023          -1.123200   -1.433345          0.130768   \n",
       "3          -0.792426           0.895177   -0.145061          0.130768   \n",
       "4           0.730044          -1.123200    0.246407          0.130768   \n",
       "..               ...                ...         ...               ...   \n",
       "572        -0.587331          -1.123200   -1.288849          0.130768   \n",
       "573         0.036476          -1.123200   -2.337524         -2.563235   \n",
       "574         1.281967           0.197613    1.843996          0.130768   \n",
       "575         1.165002          -1.123200    0.981517          0.130768   \n",
       "576         0.236029          -1.123200    0.102312          0.130768   \n",
       "\n",
       "     Credit_History  Property_Area  \n",
       "0          0.418513       1.101663  \n",
       "1          0.418513      -1.414978  \n",
       "2          0.418513       1.101663  \n",
       "3          0.418513       1.101663  \n",
       "4          0.418513       1.101663  \n",
       "..              ...            ...  \n",
       "572        0.418513      -1.414978  \n",
       "573        0.418513      -1.414978  \n",
       "574        0.418513       1.101663  \n",
       "575        0.418513       1.101663  \n",
       "576       -2.389415       0.155515  \n",
       "\n",
       "[577 rows x 11 columns]"
      ]
     },
     "execution_count": 36,
     "metadata": {},
     "output_type": "execute_result"
    }
   ],
   "source": [
    "std=StandardScaler()\n",
    "x_scaled=pd.DataFrame(std.fit_transform(x_new),columns=X.columns)\n",
    "x_scaled"
   ]
  },
  {
   "cell_type": "markdown",
   "id": "e0343bb9",
   "metadata": {},
   "source": [
    "# Creating Model\n"
   ]
  },
  {
   "cell_type": "markdown",
   "id": "d69f7b4d",
   "metadata": {},
   "source": [
    "# Finding Best Random State"
   ]
  },
  {
   "cell_type": "code",
   "execution_count": 37,
   "id": "feca5a01",
   "metadata": {},
   "outputs": [
    {
     "name": "stdout",
     "output_type": "stream",
     "text": [
      "Accuracy score is  0.8333333333333334 Random state 0\n",
      "Accuracy 0.8333333333333334 Random State 0\n",
      "Accuracy score is  0.8045977011494253 Random state 1\n",
      "Accuracy score is  0.8160919540229885 Random state 2\n",
      "Accuracy score is  0.8103448275862069 Random state 3\n",
      "Accuracy score is  0.7758620689655172 Random state 4\n",
      "Accuracy score is  0.7931034482758621 Random state 5\n",
      "Accuracy score is  0.8275862068965517 Random state 6\n",
      "Accuracy score is  0.8045977011494253 Random state 7\n",
      "Accuracy score is  0.7873563218390804 Random state 8\n",
      "Accuracy score is  0.8103448275862069 Random state 9\n",
      "Accuracy score is  0.8160919540229885 Random state 10\n",
      "Accuracy score is  0.8045977011494253 Random state 11\n",
      "Accuracy score is  0.8850574712643678 Random state 12\n",
      "Accuracy 0.8850574712643678 Random State 12\n",
      "Accuracy score is  0.8103448275862069 Random state 13\n",
      "Accuracy score is  0.7701149425287356 Random state 14\n",
      "Accuracy score is  0.8275862068965517 Random state 15\n",
      "Accuracy score is  0.8160919540229885 Random state 16\n",
      "Accuracy score is  0.8160919540229885 Random state 17\n",
      "Accuracy score is  0.735632183908046 Random state 18\n",
      "Accuracy score is  0.8045977011494253 Random state 19\n",
      "Accuracy score is  0.8045977011494253 Random state 20\n",
      "Accuracy score is  0.8390804597701149 Random state 21\n",
      "Accuracy score is  0.7931034482758621 Random state 22\n",
      "Accuracy score is  0.7873563218390804 Random state 23\n",
      "Accuracy score is  0.8333333333333334 Random state 24\n",
      "Accuracy score is  0.8275862068965517 Random state 25\n",
      "Accuracy score is  0.8448275862068966 Random state 26\n",
      "Accuracy score is  0.8218390804597702 Random state 27\n",
      "Accuracy score is  0.8160919540229885 Random state 28\n",
      "Accuracy score is  0.7816091954022989 Random state 29\n",
      "Accuracy score is  0.7931034482758621 Random state 30\n",
      "Accuracy score is  0.8160919540229885 Random state 31\n",
      "Accuracy score is  0.8103448275862069 Random state 32\n",
      "Accuracy score is  0.8448275862068966 Random state 33\n",
      "Accuracy score is  0.7988505747126436 Random state 34\n",
      "Accuracy score is  0.8103448275862069 Random state 35\n",
      "Accuracy score is  0.8390804597701149 Random state 36\n",
      "Accuracy score is  0.7988505747126436 Random state 37\n",
      "Accuracy score is  0.8448275862068966 Random state 38\n",
      "Accuracy score is  0.8793103448275862 Random state 39\n",
      "Accuracy score is  0.8103448275862069 Random state 40\n",
      "Accuracy score is  0.8333333333333334 Random state 41\n",
      "Accuracy score is  0.8505747126436781 Random state 42\n",
      "Accuracy score is  0.7758620689655172 Random state 43\n",
      "Accuracy score is  0.8045977011494253 Random state 44\n",
      "Accuracy score is  0.8045977011494253 Random state 45\n",
      "Accuracy score is  0.8103448275862069 Random state 46\n",
      "Accuracy score is  0.8103448275862069 Random state 47\n",
      "Accuracy score is  0.8218390804597702 Random state 48\n",
      "Accuracy score is  0.8103448275862069 Random state 49\n",
      "Accuracy score is  0.8333333333333334 Random state 50\n",
      "Accuracy score is  0.8333333333333334 Random state 51\n",
      "Accuracy score is  0.8448275862068966 Random state 52\n",
      "Accuracy score is  0.8103448275862069 Random state 53\n",
      "Accuracy score is  0.7701149425287356 Random state 54\n",
      "Accuracy score is  0.8620689655172413 Random state 55\n",
      "Accuracy score is  0.8218390804597702 Random state 56\n",
      "Accuracy score is  0.7931034482758621 Random state 57\n",
      "Accuracy score is  0.8275862068965517 Random state 58\n",
      "Accuracy score is  0.8275862068965517 Random state 59\n",
      "Accuracy score is  0.8103448275862069 Random state 60\n",
      "Accuracy score is  0.7816091954022989 Random state 61\n",
      "Accuracy score is  0.7873563218390804 Random state 62\n",
      "Accuracy score is  0.7988505747126436 Random state 63\n",
      "Accuracy score is  0.8218390804597702 Random state 64\n",
      "Accuracy score is  0.7931034482758621 Random state 65\n",
      "Accuracy score is  0.8160919540229885 Random state 66\n",
      "Accuracy score is  0.7758620689655172 Random state 67\n",
      "Accuracy score is  0.8793103448275862 Random state 68\n",
      "Accuracy score is  0.8045977011494253 Random state 69\n",
      "Accuracy score is  0.764367816091954 Random state 70\n",
      "Accuracy score is  0.8448275862068966 Random state 71\n",
      "Accuracy score is  0.8045977011494253 Random state 72\n",
      "Accuracy score is  0.7931034482758621 Random state 73\n",
      "Accuracy score is  0.7528735632183908 Random state 74\n",
      "Accuracy score is  0.8333333333333334 Random state 75\n",
      "Accuracy score is  0.7873563218390804 Random state 76\n",
      "Accuracy score is  0.8160919540229885 Random state 77\n",
      "Accuracy score is  0.8333333333333334 Random state 78\n",
      "Accuracy score is  0.8390804597701149 Random state 79\n",
      "Accuracy score is  0.7758620689655172 Random state 80\n",
      "Accuracy score is  0.8160919540229885 Random state 81\n",
      "Accuracy score is  0.8448275862068966 Random state 82\n",
      "Accuracy score is  0.7988505747126436 Random state 83\n",
      "Accuracy score is  0.8735632183908046 Random state 84\n",
      "Accuracy score is  0.7873563218390804 Random state 85\n",
      "Accuracy score is  0.867816091954023 Random state 86\n",
      "Accuracy score is  0.8333333333333334 Random state 87\n",
      "Accuracy score is  0.7988505747126436 Random state 88\n",
      "Accuracy score is  0.7528735632183908 Random state 89\n",
      "Accuracy score is  0.8390804597701149 Random state 90\n",
      "Accuracy score is  0.867816091954023 Random state 91\n",
      "Accuracy score is  0.7873563218390804 Random state 92\n",
      "Accuracy score is  0.8448275862068966 Random state 93\n",
      "Accuracy score is  0.8448275862068966 Random state 94\n",
      "Accuracy score is  0.8275862068965517 Random state 95\n",
      "Accuracy score is  0.8333333333333334 Random state 96\n",
      "Accuracy score is  0.8218390804597702 Random state 97\n",
      "Accuracy score is  0.8103448275862069 Random state 98\n",
      "Accuracy score is  0.8045977011494253 Random state 99\n",
      "Accuracy score is  0.8218390804597702 Random state 100\n",
      "Accuracy score is  0.8160919540229885 Random state 101\n",
      "Accuracy score is  0.7931034482758621 Random state 102\n",
      "Accuracy score is  0.7988505747126436 Random state 103\n",
      "Accuracy score is  0.8103448275862069 Random state 104\n",
      "Accuracy score is  0.8045977011494253 Random state 105\n",
      "Accuracy score is  0.8448275862068966 Random state 106\n",
      "Accuracy score is  0.7758620689655172 Random state 107\n",
      "Accuracy score is  0.8103448275862069 Random state 108\n",
      "Accuracy score is  0.7931034482758621 Random state 109\n",
      "Accuracy score is  0.7988505747126436 Random state 110\n",
      "Accuracy score is  0.8275862068965517 Random state 111\n",
      "Accuracy score is  0.8218390804597702 Random state 112\n",
      "Accuracy score is  0.8103448275862069 Random state 113\n",
      "Accuracy score is  0.8160919540229885 Random state 114\n",
      "Accuracy score is  0.8505747126436781 Random state 115\n",
      "Accuracy score is  0.8390804597701149 Random state 116\n",
      "Accuracy score is  0.8218390804597702 Random state 117\n",
      "Accuracy score is  0.8045977011494253 Random state 118\n",
      "Accuracy score is  0.867816091954023 Random state 119\n",
      "Accuracy score is  0.7988505747126436 Random state 120\n",
      "Accuracy score is  0.8103448275862069 Random state 121\n",
      "Accuracy score is  0.8218390804597702 Random state 122\n",
      "Accuracy score is  0.8390804597701149 Random state 123\n",
      "Accuracy score is  0.867816091954023 Random state 124\n",
      "Accuracy score is  0.8333333333333334 Random state 125\n",
      "Accuracy score is  0.8103448275862069 Random state 126\n",
      "Accuracy score is  0.7988505747126436 Random state 127\n",
      "Accuracy score is  0.8390804597701149 Random state 128\n",
      "Accuracy score is  0.7816091954022989 Random state 129\n",
      "Accuracy score is  0.8505747126436781 Random state 130\n",
      "Accuracy score is  0.8103448275862069 Random state 131\n",
      "Accuracy score is  0.7931034482758621 Random state 132\n",
      "Accuracy score is  0.8333333333333334 Random state 133\n",
      "Accuracy score is  0.8275862068965517 Random state 134\n",
      "Accuracy score is  0.8218390804597702 Random state 135\n",
      "Accuracy score is  0.7701149425287356 Random state 136\n",
      "Accuracy score is  0.8448275862068966 Random state 137\n",
      "Accuracy score is  0.7988505747126436 Random state 138\n",
      "Accuracy score is  0.7988505747126436 Random state 139\n",
      "Accuracy score is  0.7873563218390804 Random state 140\n",
      "Accuracy score is  0.8218390804597702 Random state 141\n",
      "Accuracy score is  0.8218390804597702 Random state 142\n",
      "Accuracy score is  0.7701149425287356 Random state 143\n",
      "Accuracy score is  0.764367816091954 Random state 144\n",
      "Accuracy score is  0.8103448275862069 Random state 145\n",
      "Accuracy score is  0.7988505747126436 Random state 146\n",
      "Accuracy score is  0.8333333333333334 Random state 147\n",
      "Accuracy score is  0.8160919540229885 Random state 148\n",
      "Accuracy score is  0.7701149425287356 Random state 149\n",
      "Accuracy score is  0.8505747126436781 Random state 150\n",
      "Accuracy score is  0.8045977011494253 Random state 151\n",
      "Accuracy score is  0.8103448275862069 Random state 152\n",
      "Accuracy score is  0.8045977011494253 Random state 153\n",
      "Accuracy score is  0.8218390804597702 Random state 154\n",
      "Accuracy score is  0.7988505747126436 Random state 155\n",
      "Accuracy score is  0.8160919540229885 Random state 156\n",
      "Accuracy score is  0.8045977011494253 Random state 157\n",
      "Accuracy score is  0.8333333333333334 Random state 158\n",
      "Accuracy score is  0.8333333333333334 Random state 159\n",
      "Accuracy score is  0.8045977011494253 Random state 160\n",
      "Accuracy score is  0.8160919540229885 Random state 161\n",
      "Accuracy score is  0.7931034482758621 Random state 162\n",
      "Accuracy score is  0.8448275862068966 Random state 163\n",
      "Accuracy score is  0.8045977011494253 Random state 164\n",
      "Accuracy score is  0.8505747126436781 Random state 165\n",
      "Accuracy score is  0.8045977011494253 Random state 166\n",
      "Accuracy score is  0.8505747126436781 Random state 167\n",
      "Accuracy score is  0.8218390804597702 Random state 168\n",
      "Accuracy score is  0.8620689655172413 Random state 169\n",
      "Accuracy score is  0.8160919540229885 Random state 170\n",
      "Accuracy score is  0.8045977011494253 Random state 171\n",
      "Accuracy score is  0.8045977011494253 Random state 172\n",
      "Accuracy score is  0.8333333333333334 Random state 173\n",
      "Accuracy score is  0.8448275862068966 Random state 174\n",
      "Accuracy score is  0.8218390804597702 Random state 175\n",
      "Accuracy score is  0.7873563218390804 Random state 176\n",
      "Accuracy score is  0.8045977011494253 Random state 177\n",
      "Accuracy score is  0.7816091954022989 Random state 178\n",
      "Accuracy score is  0.8218390804597702 Random state 179\n",
      "Accuracy score is  0.8103448275862069 Random state 180\n",
      "Accuracy score is  0.8390804597701149 Random state 181\n",
      "Accuracy score is  0.8218390804597702 Random state 182\n",
      "Accuracy score is  0.8045977011494253 Random state 183\n",
      "Accuracy score is  0.8218390804597702 Random state 184\n",
      "Accuracy score is  0.8275862068965517 Random state 185\n",
      "Accuracy score is  0.7988505747126436 Random state 186\n",
      "Accuracy score is  0.8103448275862069 Random state 187\n",
      "Accuracy score is  0.8045977011494253 Random state 188\n",
      "Accuracy score is  0.8160919540229885 Random state 189\n",
      "Accuracy score is  0.8218390804597702 Random state 190\n",
      "Accuracy score is  0.7816091954022989 Random state 191\n",
      "Accuracy score is  0.8448275862068966 Random state 192\n",
      "Accuracy score is  0.7988505747126436 Random state 193\n",
      "Accuracy score is  0.7586206896551724 Random state 194\n",
      "Accuracy score is  0.8160919540229885 Random state 195\n",
      "Accuracy score is  0.8333333333333334 Random state 196\n",
      "Accuracy score is  0.7988505747126436 Random state 197\n",
      "Accuracy score is  0.7988505747126436 Random state 198\n",
      "Accuracy score is  0.8045977011494253 Random state 199\n",
      "Accuracy score is  0.7586206896551724 Random state 200\n",
      "Accuracy score is  0.8333333333333334 Random state 201\n",
      "Accuracy score is  0.7988505747126436 Random state 202\n",
      "Accuracy score is  0.8333333333333334 Random state 203\n",
      "Accuracy score is  0.8390804597701149 Random state 204\n",
      "Accuracy score is  0.8793103448275862 Random state 205\n",
      "Accuracy score is  0.7816091954022989 Random state 206\n",
      "Accuracy score is  0.8218390804597702 Random state 207\n",
      "Accuracy score is  0.8160919540229885 Random state 208\n",
      "Accuracy score is  0.8448275862068966 Random state 209\n",
      "Accuracy score is  0.8160919540229885 Random state 210\n",
      "Accuracy score is  0.8275862068965517 Random state 211\n",
      "Accuracy score is  0.7988505747126436 Random state 212\n",
      "Accuracy score is  0.8333333333333334 Random state 213\n",
      "Accuracy score is  0.8563218390804598 Random state 214\n",
      "Accuracy score is  0.7931034482758621 Random state 215\n",
      "Accuracy score is  0.7988505747126436 Random state 216\n",
      "Accuracy score is  0.8218390804597702 Random state 217\n",
      "Accuracy score is  0.8448275862068966 Random state 218\n",
      "Accuracy score is  0.8333333333333334 Random state 219\n",
      "Accuracy score is  0.8218390804597702 Random state 220\n",
      "Accuracy score is  0.7586206896551724 Random state 221\n",
      "Accuracy score is  0.7816091954022989 Random state 222\n",
      "Accuracy score is  0.8103448275862069 Random state 223\n",
      "Accuracy score is  0.8390804597701149 Random state 224\n",
      "Accuracy score is  0.8390804597701149 Random state 225\n",
      "Accuracy score is  0.8390804597701149 Random state 226\n",
      "Accuracy score is  0.8218390804597702 Random state 227\n",
      "Accuracy score is  0.8045977011494253 Random state 228\n",
      "Accuracy score is  0.7873563218390804 Random state 229\n",
      "Accuracy score is  0.7758620689655172 Random state 230\n",
      "Accuracy score is  0.8333333333333334 Random state 231\n",
      "Accuracy score is  0.7988505747126436 Random state 232\n",
      "Accuracy score is  0.8045977011494253 Random state 233\n",
      "Accuracy score is  0.8333333333333334 Random state 234\n",
      "Accuracy score is  0.8160919540229885 Random state 235\n",
      "Accuracy score is  0.8103448275862069 Random state 236\n",
      "Accuracy score is  0.8103448275862069 Random state 237\n",
      "Accuracy score is  0.8218390804597702 Random state 238\n",
      "Accuracy score is  0.8045977011494253 Random state 239\n",
      "Accuracy score is  0.8333333333333334 Random state 240\n",
      "Accuracy score is  0.8333333333333334 Random state 241\n",
      "Accuracy score is  0.8103448275862069 Random state 242\n",
      "Accuracy score is  0.8390804597701149 Random state 243\n",
      "Accuracy score is  0.7988505747126436 Random state 244\n",
      "Accuracy score is  0.7758620689655172 Random state 245\n",
      "Accuracy score is  0.7931034482758621 Random state 246\n",
      "Accuracy score is  0.7931034482758621 Random state 247\n",
      "Accuracy score is  0.7816091954022989 Random state 248\n",
      "Accuracy score is  0.8505747126436781 Random state 249\n",
      "Accuracy score is  0.8448275862068966 Random state 250\n",
      "Accuracy score is  0.7758620689655172 Random state 251\n",
      "Accuracy score is  0.8505747126436781 Random state 252\n",
      "Accuracy score is  0.8103448275862069 Random state 253\n",
      "Accuracy score is  0.8390804597701149 Random state 254\n",
      "Accuracy score is  0.8218390804597702 Random state 255\n",
      "Accuracy score is  0.8218390804597702 Random state 256\n",
      "Accuracy score is  0.8045977011494253 Random state 257\n",
      "Accuracy score is  0.8160919540229885 Random state 258\n",
      "Accuracy score is  0.8045977011494253 Random state 259\n",
      "Accuracy score is  0.8160919540229885 Random state 260\n",
      "Accuracy score is  0.8908045977011494 Random state 261\n",
      "Accuracy 0.8908045977011494 Random State 261\n",
      "Accuracy score is  0.8333333333333334 Random state 262\n",
      "Accuracy score is  0.7873563218390804 Random state 263\n",
      "Accuracy score is  0.8390804597701149 Random state 264\n",
      "Accuracy score is  0.8333333333333334 Random state 265\n",
      "Accuracy score is  0.8448275862068966 Random state 266\n",
      "Accuracy score is  0.8218390804597702 Random state 267\n",
      "Accuracy score is  0.8390804597701149 Random state 268\n",
      "Accuracy score is  0.8160919540229885 Random state 269\n",
      "Accuracy score is  0.7873563218390804 Random state 270\n",
      "Accuracy score is  0.7816091954022989 Random state 271\n",
      "Accuracy score is  0.7988505747126436 Random state 272\n",
      "Accuracy score is  0.8160919540229885 Random state 273\n",
      "Accuracy score is  0.8333333333333334 Random state 274\n",
      "Accuracy score is  0.8160919540229885 Random state 275\n",
      "Accuracy score is  0.8045977011494253 Random state 276\n",
      "Accuracy score is  0.8390804597701149 Random state 277\n",
      "Accuracy score is  0.8390804597701149 Random state 278\n",
      "Accuracy score is  0.7988505747126436 Random state 279\n",
      "Accuracy score is  0.8045977011494253 Random state 280\n",
      "Accuracy score is  0.8045977011494253 Random state 281\n",
      "Accuracy score is  0.8275862068965517 Random state 282\n",
      "Accuracy score is  0.8505747126436781 Random state 283\n",
      "Accuracy score is  0.8045977011494253 Random state 284\n",
      "Accuracy score is  0.7586206896551724 Random state 285\n",
      "Accuracy score is  0.8275862068965517 Random state 286\n",
      "Accuracy score is  0.8390804597701149 Random state 287\n",
      "Accuracy score is  0.8563218390804598 Random state 288\n",
      "Accuracy score is  0.8563218390804598 Random state 289\n",
      "Accuracy score is  0.8160919540229885 Random state 290\n",
      "Accuracy score is  0.8160919540229885 Random state 291\n",
      "Accuracy score is  0.8045977011494253 Random state 292\n",
      "Accuracy score is  0.8275862068965517 Random state 293\n",
      "Accuracy score is  0.7931034482758621 Random state 294\n",
      "Accuracy score is  0.8103448275862069 Random state 295\n",
      "Accuracy score is  0.7816091954022989 Random state 296\n",
      "Accuracy score is  0.8218390804597702 Random state 297\n",
      "Accuracy score is  0.7931034482758621 Random state 298\n",
      "Accuracy score is  0.8333333333333334 Random state 299\n",
      "Accuracy score is  0.7988505747126436 Random state 300\n",
      "Accuracy score is  0.8218390804597702 Random state 301\n",
      "Accuracy score is  0.8160919540229885 Random state 302\n",
      "Accuracy score is  0.7528735632183908 Random state 303\n",
      "Accuracy score is  0.8390804597701149 Random state 304\n",
      "Accuracy score is  0.867816091954023 Random state 305\n",
      "Accuracy score is  0.7988505747126436 Random state 306\n",
      "Accuracy score is  0.8160919540229885 Random state 307\n",
      "Accuracy score is  0.8333333333333334 Random state 308\n",
      "Accuracy score is  0.8275862068965517 Random state 309\n",
      "Accuracy score is  0.8333333333333334 Random state 310\n",
      "Accuracy score is  0.8505747126436781 Random state 311\n",
      "Accuracy score is  0.7988505747126436 Random state 312\n",
      "Accuracy score is  0.8390804597701149 Random state 313\n",
      "Accuracy score is  0.8160919540229885 Random state 314\n",
      "Accuracy score is  0.8793103448275862 Random state 315\n",
      "Accuracy score is  0.8448275862068966 Random state 316\n",
      "Accuracy score is  0.8390804597701149 Random state 317\n",
      "Accuracy score is  0.7816091954022989 Random state 318\n",
      "Accuracy score is  0.8103448275862069 Random state 319\n",
      "Accuracy score is  0.8333333333333334 Random state 320\n",
      "Accuracy score is  0.8045977011494253 Random state 321\n",
      "Accuracy score is  0.8103448275862069 Random state 322\n",
      "Accuracy score is  0.8275862068965517 Random state 323\n",
      "Accuracy score is  0.7988505747126436 Random state 324\n",
      "Accuracy score is  0.7758620689655172 Random state 325\n",
      "Accuracy score is  0.8505747126436781 Random state 326\n",
      "Accuracy score is  0.8160919540229885 Random state 327\n",
      "Accuracy score is  0.7873563218390804 Random state 328\n",
      "Accuracy score is  0.7873563218390804 Random state 329\n",
      "Accuracy score is  0.8103448275862069 Random state 330\n",
      "Accuracy score is  0.8333333333333334 Random state 331\n",
      "Accuracy score is  0.7816091954022989 Random state 332\n",
      "Accuracy score is  0.8160919540229885 Random state 333\n",
      "Accuracy score is  0.8045977011494253 Random state 334\n",
      "Accuracy score is  0.8448275862068966 Random state 335\n",
      "Accuracy score is  0.7988505747126436 Random state 336\n",
      "Accuracy score is  0.7931034482758621 Random state 337\n",
      "Accuracy score is  0.8103448275862069 Random state 338\n",
      "Accuracy score is  0.7931034482758621 Random state 339\n",
      "Accuracy score is  0.8045977011494253 Random state 340\n",
      "Accuracy score is  0.7931034482758621 Random state 341\n",
      "Accuracy score is  0.8218390804597702 Random state 342\n",
      "Accuracy score is  0.8045977011494253 Random state 343\n",
      "Accuracy score is  0.8333333333333334 Random state 344\n",
      "Accuracy score is  0.8333333333333334 Random state 345\n",
      "Accuracy score is  0.8275862068965517 Random state 346\n",
      "Accuracy score is  0.8045977011494253 Random state 347\n",
      "Accuracy score is  0.8045977011494253 Random state 348\n",
      "Accuracy score is  0.8735632183908046 Random state 349\n",
      "Accuracy score is  0.8103448275862069 Random state 350\n",
      "Accuracy score is  0.8218390804597702 Random state 351\n",
      "Accuracy score is  0.8160919540229885 Random state 352\n",
      "Accuracy score is  0.8390804597701149 Random state 353\n",
      "Accuracy score is  0.8045977011494253 Random state 354\n",
      "Accuracy score is  0.7988505747126436 Random state 355\n",
      "Accuracy score is  0.8103448275862069 Random state 356\n",
      "Accuracy score is  0.8390804597701149 Random state 357\n",
      "Accuracy score is  0.8218390804597702 Random state 358\n",
      "Accuracy score is  0.8160919540229885 Random state 359\n",
      "Accuracy score is  0.8275862068965517 Random state 360\n",
      "Accuracy score is  0.8448275862068966 Random state 361\n",
      "Accuracy score is  0.8045977011494253 Random state 362\n",
      "Accuracy score is  0.8620689655172413 Random state 363\n",
      "Accuracy score is  0.8505747126436781 Random state 364\n",
      "Accuracy score is  0.8045977011494253 Random state 365\n",
      "Accuracy score is  0.8563218390804598 Random state 366\n",
      "Accuracy score is  0.8218390804597702 Random state 367\n",
      "Accuracy score is  0.8275862068965517 Random state 368\n",
      "Accuracy score is  0.7931034482758621 Random state 369\n",
      "Accuracy score is  0.8448275862068966 Random state 370\n",
      "Accuracy score is  0.7586206896551724 Random state 371\n",
      "Accuracy score is  0.7988505747126436 Random state 372\n",
      "Accuracy score is  0.7816091954022989 Random state 373\n",
      "Accuracy score is  0.8045977011494253 Random state 374\n",
      "Accuracy score is  0.7873563218390804 Random state 375\n",
      "Accuracy score is  0.7816091954022989 Random state 376\n",
      "Accuracy score is  0.8275862068965517 Random state 377\n",
      "Accuracy score is  0.8275862068965517 Random state 378\n",
      "Accuracy score is  0.8103448275862069 Random state 379\n",
      "Accuracy score is  0.8333333333333334 Random state 380\n",
      "Accuracy score is  0.7988505747126436 Random state 381\n",
      "Accuracy score is  0.7816091954022989 Random state 382\n",
      "Accuracy score is  0.8103448275862069 Random state 383\n",
      "Accuracy score is  0.8103448275862069 Random state 384\n",
      "Accuracy score is  0.8103448275862069 Random state 385\n",
      "Accuracy score is  0.8448275862068966 Random state 386\n",
      "Accuracy score is  0.7988505747126436 Random state 387\n",
      "Accuracy score is  0.8218390804597702 Random state 388\n",
      "Accuracy score is  0.8735632183908046 Random state 389\n",
      "Accuracy score is  0.7988505747126436 Random state 390\n",
      "Accuracy score is  0.8218390804597702 Random state 391\n",
      "Accuracy score is  0.8103448275862069 Random state 392\n",
      "Accuracy score is  0.7988505747126436 Random state 393\n",
      "Accuracy score is  0.7816091954022989 Random state 394\n",
      "Accuracy score is  0.8275862068965517 Random state 395\n",
      "Accuracy score is  0.8160919540229885 Random state 396\n",
      "Accuracy score is  0.8275862068965517 Random state 397\n",
      "Accuracy score is  0.7758620689655172 Random state 398\n",
      "Accuracy score is  0.7931034482758621 Random state 399\n",
      "Accuracy score is  0.8103448275862069 Random state 400\n",
      "Accuracy score is  0.8275862068965517 Random state 401\n",
      "Accuracy score is  0.7931034482758621 Random state 402\n",
      "Accuracy score is  0.8045977011494253 Random state 403\n",
      "Accuracy score is  0.8333333333333334 Random state 404\n",
      "Accuracy score is  0.8103448275862069 Random state 405\n",
      "Accuracy score is  0.7988505747126436 Random state 406\n",
      "Accuracy score is  0.8160919540229885 Random state 407\n",
      "Accuracy score is  0.8333333333333334 Random state 408\n",
      "Accuracy score is  0.764367816091954 Random state 409\n",
      "Accuracy score is  0.8103448275862069 Random state 410\n",
      "Accuracy score is  0.8275862068965517 Random state 411\n",
      "Accuracy score is  0.7988505747126436 Random state 412\n",
      "Accuracy score is  0.8103448275862069 Random state 413\n",
      "Accuracy score is  0.7528735632183908 Random state 414\n",
      "Accuracy score is  0.8103448275862069 Random state 415\n",
      "Accuracy score is  0.8045977011494253 Random state 416\n",
      "Accuracy score is  0.8045977011494253 Random state 417\n",
      "Accuracy score is  0.8045977011494253 Random state 418\n",
      "Accuracy score is  0.8103448275862069 Random state 419\n",
      "Accuracy score is  0.8563218390804598 Random state 420\n",
      "Accuracy score is  0.8448275862068966 Random state 421\n",
      "Accuracy score is  0.7988505747126436 Random state 422\n",
      "Accuracy score is  0.7988505747126436 Random state 423\n",
      "Accuracy score is  0.8505747126436781 Random state 424\n",
      "Accuracy score is  0.8275862068965517 Random state 425\n",
      "Accuracy score is  0.8505747126436781 Random state 426\n",
      "Accuracy score is  0.8218390804597702 Random state 427\n",
      "Accuracy score is  0.8563218390804598 Random state 428\n",
      "Accuracy score is  0.7873563218390804 Random state 429\n",
      "Accuracy score is  0.8218390804597702 Random state 430\n",
      "Accuracy score is  0.8218390804597702 Random state 431\n",
      "Accuracy score is  0.8103448275862069 Random state 432\n",
      "Accuracy score is  0.7873563218390804 Random state 433\n",
      "Accuracy score is  0.8103448275862069 Random state 434\n",
      "Accuracy score is  0.8218390804597702 Random state 435\n",
      "Accuracy score is  0.7988505747126436 Random state 436\n",
      "Accuracy score is  0.7931034482758621 Random state 437\n",
      "Accuracy score is  0.8160919540229885 Random state 438\n",
      "Accuracy score is  0.764367816091954 Random state 439\n",
      "Accuracy score is  0.8218390804597702 Random state 440\n",
      "Accuracy score is  0.8448275862068966 Random state 441\n",
      "Accuracy score is  0.7988505747126436 Random state 442\n",
      "Accuracy score is  0.7758620689655172 Random state 443\n",
      "Accuracy score is  0.8275862068965517 Random state 444\n",
      "Accuracy score is  0.8275862068965517 Random state 445\n",
      "Accuracy score is  0.764367816091954 Random state 446\n",
      "Accuracy score is  0.8390804597701149 Random state 447\n",
      "Accuracy score is  0.7931034482758621 Random state 448\n",
      "Accuracy score is  0.8218390804597702 Random state 449\n",
      "Accuracy score is  0.8045977011494253 Random state 450\n",
      "Accuracy score is  0.7758620689655172 Random state 451\n",
      "Accuracy score is  0.8333333333333334 Random state 452\n",
      "Accuracy score is  0.8218390804597702 Random state 453\n",
      "Accuracy score is  0.8045977011494253 Random state 454\n",
      "Accuracy score is  0.8160919540229885 Random state 455\n",
      "Accuracy score is  0.7988505747126436 Random state 456\n",
      "Accuracy score is  0.8333333333333334 Random state 457\n",
      "Accuracy score is  0.8275862068965517 Random state 458\n",
      "Accuracy score is  0.8218390804597702 Random state 459\n",
      "Accuracy score is  0.8563218390804598 Random state 460\n",
      "Accuracy score is  0.7988505747126436 Random state 461\n",
      "Accuracy score is  0.764367816091954 Random state 462\n",
      "Accuracy score is  0.8390804597701149 Random state 463\n",
      "Accuracy score is  0.8103448275862069 Random state 464\n",
      "Accuracy score is  0.8103448275862069 Random state 465\n",
      "Accuracy score is  0.8620689655172413 Random state 466\n",
      "Accuracy score is  0.7988505747126436 Random state 467\n",
      "Accuracy score is  0.8103448275862069 Random state 468\n",
      "Accuracy score is  0.8505747126436781 Random state 469\n",
      "Accuracy score is  0.764367816091954 Random state 470\n",
      "Accuracy score is  0.8160919540229885 Random state 471\n",
      "Accuracy score is  0.8390804597701149 Random state 472\n",
      "Accuracy score is  0.8160919540229885 Random state 473\n",
      "Accuracy score is  0.7931034482758621 Random state 474\n",
      "Accuracy score is  0.8333333333333334 Random state 475\n",
      "Accuracy score is  0.8160919540229885 Random state 476\n",
      "Accuracy score is  0.8505747126436781 Random state 477\n",
      "Accuracy score is  0.8448275862068966 Random state 478\n",
      "Accuracy score is  0.7931034482758621 Random state 479\n",
      "Accuracy score is  0.8218390804597702 Random state 480\n",
      "Accuracy score is  0.8160919540229885 Random state 481\n",
      "Accuracy score is  0.7758620689655172 Random state 482\n",
      "Accuracy score is  0.7873563218390804 Random state 483\n",
      "Accuracy score is  0.7931034482758621 Random state 484\n",
      "Accuracy score is  0.8218390804597702 Random state 485\n",
      "Accuracy score is  0.8218390804597702 Random state 486\n",
      "Accuracy score is  0.7758620689655172 Random state 487\n",
      "Accuracy score is  0.7758620689655172 Random state 488\n",
      "Accuracy score is  0.8735632183908046 Random state 489\n",
      "Accuracy score is  0.8160919540229885 Random state 490\n",
      "Accuracy score is  0.7873563218390804 Random state 491\n",
      "Accuracy score is  0.8103448275862069 Random state 492\n",
      "Accuracy score is  0.7701149425287356 Random state 493\n",
      "Accuracy score is  0.896551724137931 Random state 494\n",
      "Accuracy 0.896551724137931 Random State 494\n",
      "Accuracy score is  0.8620689655172413 Random state 495\n",
      "Accuracy score is  0.7758620689655172 Random state 496\n",
      "Accuracy score is  0.8103448275862069 Random state 497\n",
      "Accuracy score is  0.8275862068965517 Random state 498\n",
      "Accuracy score is  0.8275862068965517 Random state 499\n"
     ]
    }
   ],
   "source": [
    "bestrandom=0\n",
    "max_score=0\n",
    "#models=[LogisticRegression(),KNeighborsClassifier(),DecisionTreeClassifier(),RandomForestClassifier()]\n",
    "for i in range(0,500):\n",
    "    x_train,x_test,y_train,y_test=train_test_split(x_scaled,y,test_size=0.30,random_state=i)\n",
    "    LR=LogisticRegression()\n",
    "    LR.fit(x_train,y_train)\n",
    "    predrf=LR.predict(x_test)\n",
    "    acc=accuracy_score(y_test,predrf)\n",
    "    print('Accuracy score is ',acc,'Random state',i)\n",
    "    \n",
    "    if acc>max_score:\n",
    "        max_score=acc\n",
    "        bestrandom=i\n",
    "            \n",
    "        print('Accuracy',max_score,'Random State',i)"
   ]
  },
  {
   "cell_type": "code",
   "execution_count": 38,
   "id": "fbb58187",
   "metadata": {},
   "outputs": [
    {
     "name": "stdout",
     "output_type": "stream",
     "text": [
      "Best Accuracy is 0.896551724137931 Best Random State 494\n"
     ]
    }
   ],
   "source": [
    "print('Best Accuracy is',max_score,'Best Random State',bestrandom)\n"
   ]
  },
  {
   "cell_type": "markdown",
   "id": "07c0e398",
   "metadata": {},
   "source": [
    "# trian_test_split method\n"
   ]
  },
  {
   "cell_type": "code",
   "execution_count": 39,
   "id": "4e4077d8",
   "metadata": {},
   "outputs": [
    {
     "name": "stdout",
     "output_type": "stream",
     "text": [
      "(403, 11)\n",
      "(403,)\n"
     ]
    }
   ],
   "source": [
    "x_train,x_test,y_train,y_test=train_test_split(x_scaled,y,test_size=0.30,random_state=494)\n",
    "print(x_train.shape)\n",
    "print(y_train.shape)"
   ]
  },
  {
   "cell_type": "markdown",
   "id": "47755a3b",
   "metadata": {},
   "source": [
    "# Building Model"
   ]
  },
  {
   "cell_type": "code",
   "execution_count": 40,
   "id": "cefe23bd",
   "metadata": {},
   "outputs": [
    {
     "name": "stdout",
     "output_type": "stream",
     "text": [
      "Model Name LogisticRegression()\n",
      "Accuracy 89.65517241379311\n",
      "[[ 25  17]\n",
      " [  1 131]]\n",
      "              precision    recall  f1-score   support\n",
      "\n",
      "           0       0.96      0.60      0.74        42\n",
      "           1       0.89      0.99      0.94       132\n",
      "\n",
      "    accuracy                           0.90       174\n",
      "   macro avg       0.92      0.79      0.84       174\n",
      "weighted avg       0.90      0.90      0.89       174\n",
      "\n",
      "----------------------------------------------------------\n",
      "Model Name KNeighborsClassifier()\n",
      "Accuracy 84.48275862068965\n",
      "[[ 24  18]\n",
      " [  9 123]]\n",
      "              precision    recall  f1-score   support\n",
      "\n",
      "           0       0.73      0.57      0.64        42\n",
      "           1       0.87      0.93      0.90       132\n",
      "\n",
      "    accuracy                           0.84       174\n",
      "   macro avg       0.80      0.75      0.77       174\n",
      "weighted avg       0.84      0.84      0.84       174\n",
      "\n",
      "----------------------------------------------------------\n",
      "Model Name DecisionTreeClassifier()\n",
      "Accuracy 72.41379310344827\n",
      "[[27 15]\n",
      " [33 99]]\n",
      "              precision    recall  f1-score   support\n",
      "\n",
      "           0       0.45      0.64      0.53        42\n",
      "           1       0.87      0.75      0.80       132\n",
      "\n",
      "    accuracy                           0.72       174\n",
      "   macro avg       0.66      0.70      0.67       174\n",
      "weighted avg       0.77      0.72      0.74       174\n",
      "\n",
      "----------------------------------------------------------\n",
      "Model Name RandomForestClassifier()\n",
      "Accuracy 89.08045977011494\n",
      "[[ 27  15]\n",
      " [  4 128]]\n",
      "              precision    recall  f1-score   support\n",
      "\n",
      "           0       0.87      0.64      0.74        42\n",
      "           1       0.90      0.97      0.93       132\n",
      "\n",
      "    accuracy                           0.89       174\n",
      "   macro avg       0.88      0.81      0.84       174\n",
      "weighted avg       0.89      0.89      0.88       174\n",
      "\n",
      "----------------------------------------------------------\n",
      "Model Name SVC()\n",
      "Accuracy 89.65517241379311\n",
      "[[ 25  17]\n",
      " [  1 131]]\n",
      "              precision    recall  f1-score   support\n",
      "\n",
      "           0       0.96      0.60      0.74        42\n",
      "           1       0.89      0.99      0.94       132\n",
      "\n",
      "    accuracy                           0.90       174\n",
      "   macro avg       0.92      0.79      0.84       174\n",
      "weighted avg       0.90      0.90      0.89       174\n",
      "\n",
      "----------------------------------------------------------\n",
      "Model Name AdaBoostClassifier()\n",
      "Accuracy 85.63218390804597\n",
      "[[ 25  17]\n",
      " [  8 124]]\n",
      "              precision    recall  f1-score   support\n",
      "\n",
      "           0       0.76      0.60      0.67        42\n",
      "           1       0.88      0.94      0.91       132\n",
      "\n",
      "    accuracy                           0.86       174\n",
      "   macro avg       0.82      0.77      0.79       174\n",
      "weighted avg       0.85      0.86      0.85       174\n",
      "\n",
      "----------------------------------------------------------\n"
     ]
    }
   ],
   "source": [
    "x_train,x_test,y_train,y_test=train_test_split(x_scaled,y,test_size=0.30,random_state=494)\n",
    "models=[LogisticRegression(),KNeighborsClassifier(),DecisionTreeClassifier(),RandomForestClassifier(),SVC(),AdaBoostClassifier()]\n",
    "for model in models:\n",
    "    model.fit(x_train,y_train)\n",
    "    predlr=model.predict(x_test)\n",
    "    print(\"Model Name\",model)\n",
    "    print(\"Accuracy\",accuracy_score(y_test,predlr)*100)\n",
    "    print(confusion_matrix(y_test,predlr))\n",
    "    print(classification_report(y_test,predlr))\n",
    "    print('----------------------------------------------------------')"
   ]
  },
  {
   "cell_type": "markdown",
   "id": "7751c22e",
   "metadata": {},
   "source": [
    "# Cross Validation Score for all models"
   ]
  },
  {
   "cell_type": "code",
   "execution_count": 41,
   "id": "cc8630e4",
   "metadata": {},
   "outputs": [
    {
     "name": "stdout",
     "output_type": "stream",
     "text": [
      "Model Name : LogisticRegression()\n",
      "Cross validation score is:  81.98200899550224\n",
      "Mean score : 81.98200899550224\n",
      "STD : 2.7790198124777885\n",
      "---------------------------------------\n",
      "Model Name : KNeighborsClassifier()\n",
      "Cross validation score is:  77.64767616191904\n",
      "Mean score : 77.64767616191904\n",
      "STD : 3.0416919300334\n",
      "---------------------------------------\n",
      "Model Name : DecisionTreeClassifier()\n",
      "Cross validation score is:  72.44827586206897\n",
      "Mean score : 72.44827586206897\n",
      "STD : 2.017979865905531\n",
      "---------------------------------------\n",
      "Model Name : RandomForestClassifier()\n",
      "Cross validation score is:  79.55472263868066\n",
      "Mean score : 79.55472263868066\n",
      "STD : 1.885575433769459\n",
      "---------------------------------------\n",
      "Model Name : SVC()\n",
      "Cross validation score is:  81.80809595202398\n",
      "Mean score : 81.80809595202398\n",
      "STD : 3.020375233771556\n",
      "---------------------------------------\n",
      "Model Name : AdaBoostClassifier()\n",
      "Cross validation score is:  79.56071964017993\n",
      "Mean score : 79.56071964017993\n",
      "STD : 3.051184842585605\n",
      "---------------------------------------\n"
     ]
    }
   ],
   "source": [
    "from sklearn.model_selection import cross_val_score\n",
    "models=[LogisticRegression(),KNeighborsClassifier(),DecisionTreeClassifier(),RandomForestClassifier(),SVC(),AdaBoostClassifier()]\n",
    "for model in models:\n",
    "    scr=cross_val_score(model,x_scaled,y,cv=5)\n",
    "    print(\"Model Name :\",model)\n",
    "    print(\"Cross validation score is: \", scr.mean()*100)\n",
    "    print(\"Mean score :\", (scr.mean())*100)\n",
    "    print(\"STD :\", scr.std()*100)\n",
    "    print('---------------------------------------')"
   ]
  },
  {
   "cell_type": "markdown",
   "id": "7d1b3f38",
   "metadata": {},
   "source": [
    "# HyperParameter tuning using best GridSearchCV method"
   ]
  },
  {
   "cell_type": "markdown",
   "id": "cea20800",
   "metadata": {},
   "source": [
    "# Kneighbours method"
   ]
  },
  {
   "cell_type": "code",
   "execution_count": 42,
   "id": "1afafaef",
   "metadata": {},
   "outputs": [
    {
     "name": "stdout",
     "output_type": "stream",
     "text": [
      "Best parameters : {'n_neighbors': 9}\n"
     ]
    }
   ],
   "source": [
    "x_train,x_test,y_train,y_test=train_test_split(x_scaled,y,test_size=0.30,random_state=494)\n",
    "KNC=KNeighborsClassifier()\n",
    "parameters={'n_neighbors':range(1,10)}\n",
    "grid=GridSearchCV(KNC,parameters)\n",
    "grid.fit(x_train,y_train)\n",
    "print(\"Best parameters :\",grid.best_params_)"
   ]
  },
  {
   "cell_type": "code",
   "execution_count": 43,
   "id": "3e4754b1",
   "metadata": {},
   "outputs": [
    {
     "name": "stdout",
     "output_type": "stream",
     "text": [
      "Accuracy score 89.65517241379311\n",
      "Cross validation score is:  80.59370314842577\n",
      "Mean score : 80.59370314842577\n",
      "STD : 2.6883461436746816\n"
     ]
    }
   ],
   "source": [
    "KNC=KNeighborsClassifier(n_neighbors=9)\n",
    "score=cross_val_score(KNC,x_scaled,y,cv=5)\n",
    "\n",
    "KNC.fit(x_train,y_train)\n",
    "pred=KNC.predict(x_test)\n",
    "acc_score=accuracy_score(y_test,pred)\n",
    "print(\"Accuracy score\",(acc_score)*100)\n",
    "print(\"Cross validation score is: \", score.mean()*100)\n",
    "print(\"Mean score :\", (score.mean())*100)\n",
    "print(\"STD :\", score.std()*100)"
   ]
  },
  {
   "cell_type": "markdown",
   "id": "331b746d",
   "metadata": {},
   "source": [
    "# RandomforestClassifier mothod"
   ]
  },
  {
   "cell_type": "code",
   "execution_count": 44,
   "id": "aacbb372",
   "metadata": {},
   "outputs": [
    {
     "name": "stdout",
     "output_type": "stream",
     "text": [
      "GridSearchCV(cv=5, estimator=RandomForestClassifier(), n_jobs=-1,\n",
      "             param_grid={'max_depth': range(1, 5),\n",
      "                         'max_features': ['auto', 'sqrt', 'log2'],\n",
      "                         'min_samples_leaf': range(2, 10),\n",
      "                         'min_samples_split': range(3, 10)})\n",
      "Best parameters : {'max_depth': 4, 'max_features': 'auto', 'min_samples_leaf': 2, 'min_samples_split': 7}\n"
     ]
    }
   ],
   "source": [
    "rfc=RandomForestClassifier()\n",
    "grid_search=GridSearchCV(estimator=rfc,\n",
    "                        param_grid={'min_samples_leaf':range(2,10),'min_samples_split':range(3,10),'max_depth':range(1,5),\n",
    "                                    \"max_features\" :[\"auto\", \"sqrt\", \"log2\"]},\n",
    "                        cv=5,\n",
    "                        n_jobs=-1)     # Use all the cores in your system.For performance improvement.\n",
    "grid_search.fit(x_train,y_train)\n",
    "print(grid_search)\n",
    "print(\"Best parameters :\",grid_search.best_params_)"
   ]
  },
  {
   "cell_type": "code",
   "execution_count": 45,
   "id": "6f09814c",
   "metadata": {},
   "outputs": [
    {
     "name": "stdout",
     "output_type": "stream",
     "text": [
      "Model Name RandomForestClassifier(max_depth=3, min_samples_leaf=2, min_samples_split=9)\n",
      "Accuracy 89.65517241379311\n",
      "[[ 24  18]\n",
      " [  0 132]]\n",
      "              precision    recall  f1-score   support\n",
      "\n",
      "           0       1.00      0.57      0.73        42\n",
      "           1       0.88      1.00      0.94       132\n",
      "\n",
      "    accuracy                           0.90       174\n",
      "   macro avg       0.94      0.79      0.83       174\n",
      "weighted avg       0.91      0.90      0.89       174\n",
      "\n"
     ]
    }
   ],
   "source": [
    "rfc=RandomForestClassifier(max_depth=3,max_features='auto',min_samples_leaf=2,min_samples_split=9)\n",
    "rfc.fit(x_train,y_train)\n",
    "predlr=rfc.predict(x_test)\n",
    "print(\"Model Name\",rfc)\n",
    "print(\"Accuracy\",accuracy_score(y_test,predlr)*100)\n",
    "print(confusion_matrix(y_test,predlr))\n",
    "print(classification_report(y_test,predlr))"
   ]
  },
  {
   "cell_type": "markdown",
   "id": "9b6d5bd3",
   "metadata": {},
   "source": [
    "Hence the SVC model giving a best accuaracy score of 89% and Cross validation score of 81%,so SVC model is best suitable for predicting output\n"
   ]
  },
  {
   "cell_type": "markdown",
   "id": "e470e00d",
   "metadata": {},
   "source": [
    "# ROC CURVE"
   ]
  },
  {
   "cell_type": "code",
   "execution_count": 47,
   "id": "33a7da5c",
   "metadata": {},
   "outputs": [
    {
     "data": {
      "text/plain": [
       "SVC(random_state=494)"
      ]
     },
     "execution_count": 47,
     "metadata": {},
     "output_type": "execute_result"
    }
   ],
   "source": [
    "clf=SVC(random_state=494)\n",
    "clf.fit(x_train,y_train)"
   ]
  },
  {
   "cell_type": "code",
   "execution_count": 48,
   "id": "90468b13",
   "metadata": {},
   "outputs": [
    {
     "data": {
      "image/png": "[encoded data removed]",
      "text/plain": [
       "<Figure size 432x288 with 1 Axes>"
      ]
     },
     "metadata": {
      "needs_background": "light"
     },
     "output_type": "display_data"
    }
   ],
   "source": [
    "plot_roc_curve(clf,x_test,y_test)\n",
    "plt.title(\"ROC_AUC_Curve\")\n",
    "plt.show()"
   ]
  },
  {
   "cell_type": "code",
   "execution_count": null,
   "id": "5165bda4",
   "metadata": {},
   "outputs": [],
   "source": []
  }
 ],
 "metadata": {
  "kernelspec": {
   "display_name": "Python 3 (ipykernel)",
   "language": "python",
   "name": "python3"
  },
  "language_info": {
   "codemirror_mode": {
    "name": "ipython",
    "version": 3
   },
   "file_extension": ".py",
   "mimetype": "text/x-python",
   "name": "python",
   "nbconvert_exporter": "python",
   "pygments_lexer": "ipython3",
   "version": "3.9.7"
  }
 },
 "nbformat": 4,
 "nbformat_minor": 5
}
